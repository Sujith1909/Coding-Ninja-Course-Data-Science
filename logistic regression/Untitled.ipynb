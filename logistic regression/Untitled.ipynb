{
 "cells": [
  {
   "cell_type": "code",
   "execution_count": 1,
   "metadata": {},
   "outputs": [],
   "source": [
    "import numpy as np\n",
    "import pandas as pd\n",
    "from sklearn import preprocessing\n",
    "from sklearn import model_selection\n",
    "from sklearn.linear_model import LogisticRegression\n",
    "from sklearn.ensemble import RandomForestClassifier\n",
    "training=pd.read_csv('0000000000002429_training_titanic_x_y_train.csv').copy()\n",
    "testing=pd.read_csv('0000000000002429_test_titanic_x_test.csv').copy()"
   ]
  },
  {
   "cell_type": "code",
   "execution_count": 2,
   "metadata": {},
   "outputs": [
    {
     "data": {
      "text/plain": [
       "array([3, 2, 2, 3, 2, 2, 3, 2, 2, 2, 1, 2, 2, 2, 1, 2, 2, 2, 2, 1, 4, 3,\n",
       "       3, 2, 3, 1, 2, 2, 2, 2, 3, 2, 2, 1, 4, 2, 0, 0, 2, 2, 2, 2, 3, 1,\n",
       "       2, 2, 2, 2, 3, 2, 1, 0, 2, 3, 2, 1, 2, 2, 2, 3, 2, 2, 2, 3, 1, 3,\n",
       "       2, 2, 2, 2, 3, 2, 2, 2, 2, 1, 1, 4, 3, 3, 3, 2, 3, 2, 1, 2, 2, 2,\n",
       "       2, 2, 3, 3, 1, 2, 2, 2, 1, 2, 2, 1, 2, 2, 2, 2, 1, 2, 2, 2, 1, 2,\n",
       "       1, 3, 2, 1, 2, 2, 2, 2, 1, 1, 3, 4, 1, 1, 1, 2, 2, 2, 2, 3, 2, 1,\n",
       "       2, 2, 2, 3, 2, 2, 2, 4, 2, 3, 2, 2, 2, 2, 3, 2, 1, 1, 3, 2, 3, 1,\n",
       "       3, 2, 3, 2, 1, 3, 3, 1, 2, 2, 2, 4, 2, 2, 2, 0, 2, 4, 3, 2, 4, 1,\n",
       "       3, 2, 2, 2, 2, 1, 3, 2, 3, 0, 2, 1, 3, 2, 2, 1, 1, 2, 2, 2, 2, 2,\n",
       "       2, 2, 1, 4, 1, 2, 1, 2, 3, 2, 2, 0, 3, 3, 1, 2, 1, 2, 2, 0, 1, 1,\n",
       "       1, 2, 3, 2, 2, 2, 3, 2, 3, 2, 2, 0, 3, 2, 2, 2, 2, 3, 2, 1, 2, 2,\n",
       "       2, 3, 2, 2, 1, 3, 1, 2, 2, 2, 1, 2, 2, 1, 2, 2, 2, 2, 3, 2, 2, 4,\n",
       "       2, 2, 3, 2, 2, 2, 0, 0, 2, 3, 1, 2, 2, 0, 2, 2, 2, 3, 1, 2, 2, 1,\n",
       "       1, 2, 2, 2, 1, 2, 2, 1, 3, 1, 0, 2, 2, 1, 2, 2, 0, 3, 2, 2, 2, 3,\n",
       "       2, 1, 1, 2, 3, 2, 2, 2, 3, 2, 2, 2, 3, 2, 2, 0, 1, 2, 1, 3, 2, 3,\n",
       "       3, 2, 4, 2, 1, 3, 1, 2, 2, 2, 2, 1, 2, 2, 4, 3, 1, 1, 2, 1, 2, 2,\n",
       "       2, 2, 1, 2, 2, 2, 3, 2, 1, 2, 2, 2, 2, 2, 2, 2, 2, 2, 2, 2, 2, 2,\n",
       "       2, 2, 1, 3, 3, 2, 2, 2, 2, 1, 2, 2, 1, 1, 1, 2, 1, 4, 1, 2, 2, 2,\n",
       "       2, 1, 2, 3, 2, 0, 2, 2, 1, 1, 4, 1, 0, 3, 2, 2, 3, 2, 0, 1, 0, 3,\n",
       "       2, 1, 2, 2, 2, 2, 2, 2, 3, 2, 3, 3, 2, 2, 3, 2, 1, 2, 0, 3, 1, 3,\n",
       "       2, 2, 1, 2, 2, 3, 2, 2, 1, 1, 3, 1, 1, 2, 2, 3, 3, 2, 0, 2, 2, 2,\n",
       "       3, 1, 2, 2, 1, 2, 2, 0, 2, 1, 2, 2, 2, 2, 2, 2, 2, 2, 3, 2, 2, 2,\n",
       "       2, 2, 2, 2, 3, 0, 2, 2, 1, 2, 2, 2, 3, 0, 2, 2, 2, 2, 2, 2, 2, 2,\n",
       "       3, 2, 2, 2, 2, 2, 1, 1, 1, 2, 2, 2, 2, 2, 2, 2, 2, 2, 2, 3, 2, 3,\n",
       "       1, 3, 0, 2, 3, 2, 1, 1, 2, 1, 2, 2, 3, 2, 3, 2, 2, 0, 2, 1, 1, 2,\n",
       "       2, 0, 2, 1, 3, 2, 1, 2, 3, 2, 2, 1, 2, 1, 2, 2, 3, 1, 2, 2, 2, 1,\n",
       "       1, 2, 2, 2, 2, 1, 1, 3, 2, 2, 1, 2, 2, 1, 1, 1, 2, 0, 1, 3, 3, 1,\n",
       "       2, 2, 2, 3, 4, 2, 2, 2, 2, 1, 2, 2, 1, 2, 1, 3, 2, 2, 2, 2, 3, 2,\n",
       "       0, 2, 1, 2, 1, 2, 3, 3, 2, 4, 1, 1, 2, 2, 2, 2, 2, 2, 2, 1, 2, 1,\n",
       "       2, 3, 1, 2, 2, 2, 2, 0, 1, 2, 4, 2, 2, 2, 3, 3, 2, 2, 2, 2, 3, 2,\n",
       "       0, 3, 2, 1, 2, 2, 1, 1])"
      ]
     },
     "execution_count": 2,
     "metadata": {},
     "output_type": "execute_result"
    }
   ],
   "source": [
    "title_training=[]\n",
    "for i in training['Name']:\n",
    "    title_training.append(i.split(',')[1].split('.')[0].strip())\n",
    "title_training=np.array(title_training)\n",
    "title_training[title_training=='Master']=0\n",
    "title_training[title_training=='Miss']=1\n",
    "title_training[title_training=='Mr']=2\n",
    "title_training[title_training=='Mrs']=3\n",
    "title_training[(title_training!='0')&(title_training!='1')&(title_training!='2')&(title_training!='3')]=4\n",
    "title_training=np.array(title_training, dtype='int')\n",
    "title_training"
   ]
  },
  {
   "cell_type": "code",
   "execution_count": 3,
   "metadata": {},
   "outputs": [
    {
     "data": {
      "text/plain": [
       "array([0, 4, 2, 3, 2, 2, 2, 2, 1, 2, 1, 2, 1, 1, 2, 2, 2, 0, 2, 1, 1, 2,\n",
       "       1, 1, 2, 2, 2, 2, 1, 1, 2, 2, 2, 2, 2, 3, 1, 2, 2, 2, 1, 2, 4, 2,\n",
       "       1, 0, 2, 1, 2, 2, 2, 1, 3, 1, 2, 2, 0, 2, 2, 2, 2, 4, 3, 1, 3, 2,\n",
       "       2, 4, 1, 4, 2, 2, 2, 2, 2, 3, 1, 2, 2, 2, 2, 2, 2, 2, 2, 2, 2, 1,\n",
       "       2, 2, 1, 2, 2, 1, 2, 2, 2, 2, 0, 1, 1, 2, 1, 0, 1, 1, 4, 4, 2, 2,\n",
       "       2, 3, 3, 2, 3, 2, 2, 1, 2, 2, 2, 2, 2, 2, 2, 0, 0, 2, 2, 2, 2, 2,\n",
       "       2, 2, 2, 2, 1, 2, 1, 2, 2, 2, 2, 2, 2, 2, 2, 2, 1, 3, 1, 2, 1, 2,\n",
       "       1, 2, 2, 1, 2, 0, 2, 1, 3, 1, 1, 2, 2, 2, 3, 1, 3, 1, 1, 2, 1, 2,\n",
       "       2, 2, 2, 1, 2, 2, 0, 1, 3, 2, 3, 2, 1, 2, 2, 2, 3, 2, 2, 1, 1, 1,\n",
       "       3, 4, 2, 4, 2, 2, 2, 2, 2, 2, 3, 1, 2, 1, 2, 2, 1, 1, 2, 2, 2, 4,\n",
       "       3, 2, 2])"
      ]
     },
     "execution_count": 3,
     "metadata": {},
     "output_type": "execute_result"
    }
   ],
   "source": [
    "title_testing=[]\n",
    "for i in testing['Name']:\n",
    "    title_testing.append(i.split(',')[1].split('.')[0].strip())\n",
    "title_testing=np.array(title_testing)\n",
    "title_testing[title_testing=='Master']=0\n",
    "title_testing[title_testing=='Miss']=1\n",
    "title_testing[title_testing=='Mr']=2\n",
    "title_testing[title_testing=='Mrs']=3\n",
    "title_testing[(title_testing!='0')&(title_testing!='1')&(title_testing!='2')&(title_testing!='3')]=4\n",
    "title_testing=np.array(title_testing, dtype='int')\n",
    "title_testing"
   ]
  },
  {
   "cell_type": "code",
   "execution_count": 4,
   "metadata": {},
   "outputs": [
    {
     "data": {
      "text/plain": [
       "(668, 9)"
      ]
     },
     "execution_count": 4,
     "metadata": {},
     "output_type": "execute_result"
    }
   ],
   "source": [
    "\n",
    "tr=training\n",
    "tr=tr.drop('Name', axis=1)\n",
    "tr.loc[tr['Sex']=='female', 'Sex']=0\n",
    "tr.loc[tr['Sex']=='male', 'Sex']=1\n",
    "tr.loc[tr['Age'].isnull(), 'Age']=tr.loc[tr['Age'].notnull() , 'Age'].median()\n",
    "tr.loc[tr['Embarked'].isnull(), 'Embarked']='S'\n",
    "tr.loc[tr['Embarked']=='S', 'Embarked']=1\n",
    "tr.loc[tr['Embarked']=='C', 'Embarked']=2\n",
    "tr.loc[tr['Embarked']=='Q', 'Embarked']=3\n",
    "tr.loc[tr['Cabin'].isnull(), 'Cabin']=0\n",
    "tr.loc[tr['Cabin']!=0, 'Cabin']=1\n",
    "tr=tr.drop('Ticket', axis=1)\n",
    "training_data=tr.values\n",
    "x=training_data[:, :-1]\n",
    "y=training_data[:, -1]\n",
    "x=np.append(x, title_training.reshape(-1, 1), axis=1)\n",
    "x.shape"
   ]
  },
  {
   "cell_type": "code",
   "execution_count": 5,
   "metadata": {},
   "outputs": [
    {
     "data": {
      "text/plain": [
       "(223, 9)"
      ]
     },
     "execution_count": 5,
     "metadata": {},
     "output_type": "execute_result"
    }
   ],
   "source": [
    "\n",
    "ts=testing\n",
    "ts=ts.drop('Name', axis=1)\n",
    "ts.loc[ts['Sex']=='female', 'Sex']=0\n",
    "ts.loc[ts['Sex']=='male', 'Sex']=1\n",
    "ts.loc[ts['Age'].isnull(), 'Age']=ts.loc[ts['Age'].notnull() , 'Age'].median()\n",
    "ts.loc[ts['Embarked'].isnull(), 'Embarked']='S'\n",
    "ts.loc[ts['Embarked']=='S', 'Embarked']=1\n",
    "ts.loc[ts['Embarked']=='C', 'Embarked']=2\n",
    "ts.loc[ts['Embarked']=='Q', 'Embarked']=3\n",
    "ts.loc[ts['Cabin'].isnull(), 'Cabin']=0\n",
    "ts.loc[ts['Cabin']!=0, 'Cabin']=1\n",
    "ts=ts.drop('Ticket', axis=1)\n",
    "testing_data=ts.values\n",
    "testing_data=np.append(testing_data, title_testing.reshape(-1, 1), axis=1)\n",
    "testing_data.shape"
   ]
  },
  {
   "cell_type": "code",
   "execution_count": 6,
   "metadata": {},
   "outputs": [
    {
     "ename": "ValueError",
     "evalue": "Unknown label type: 'unknown'",
     "output_type": "error",
     "traceback": [
      "\u001b[1;31m---------------------------------------------------------------------------\u001b[0m",
      "\u001b[1;31mValueError\u001b[0m                                Traceback (most recent call last)",
      "\u001b[1;32m<ipython-input-6-c048286b5f1b>\u001b[0m in \u001b[0;36m<module>\u001b[1;34m\u001b[0m\n\u001b[0;32m      1\u001b[0m \u001b[0mclf\u001b[0m\u001b[1;33m=\u001b[0m\u001b[0mLogisticRegression\u001b[0m\u001b[1;33m(\u001b[0m\u001b[0msolver\u001b[0m\u001b[1;33m=\u001b[0m\u001b[1;34m'saga'\u001b[0m\u001b[1;33m,\u001b[0m \u001b[0mmax_iter\u001b[0m\u001b[1;33m=\u001b[0m\u001b[1;36m100000\u001b[0m\u001b[1;33m,\u001b[0m \u001b[0mtol\u001b[0m\u001b[1;33m=\u001b[0m\u001b[1;36m0.00001\u001b[0m\u001b[1;33m)\u001b[0m\u001b[1;33m\u001b[0m\u001b[1;33m\u001b[0m\u001b[0m\n\u001b[1;32m----> 2\u001b[1;33m \u001b[0mclf\u001b[0m\u001b[1;33m.\u001b[0m\u001b[0mfit\u001b[0m\u001b[1;33m(\u001b[0m\u001b[0mx\u001b[0m\u001b[1;33m,\u001b[0m \u001b[0my\u001b[0m\u001b[1;33m)\u001b[0m\u001b[1;33m\u001b[0m\u001b[1;33m\u001b[0m\u001b[0m\n\u001b[0m",
      "\u001b[1;32m~\\anaconda3\\lib\\site-packages\\sklearn\\linear_model\\_logistic.py\u001b[0m in \u001b[0;36mfit\u001b[1;34m(self, X, y, sample_weight)\u001b[0m\n\u001b[0;32m   1343\u001b[0m                                    \u001b[0morder\u001b[0m\u001b[1;33m=\u001b[0m\u001b[1;34m\"C\"\u001b[0m\u001b[1;33m,\u001b[0m\u001b[1;33m\u001b[0m\u001b[1;33m\u001b[0m\u001b[0m\n\u001b[0;32m   1344\u001b[0m                                    accept_large_sparse=solver != 'liblinear')\n\u001b[1;32m-> 1345\u001b[1;33m         \u001b[0mcheck_classification_targets\u001b[0m\u001b[1;33m(\u001b[0m\u001b[0my\u001b[0m\u001b[1;33m)\u001b[0m\u001b[1;33m\u001b[0m\u001b[1;33m\u001b[0m\u001b[0m\n\u001b[0m\u001b[0;32m   1346\u001b[0m         \u001b[0mself\u001b[0m\u001b[1;33m.\u001b[0m\u001b[0mclasses_\u001b[0m \u001b[1;33m=\u001b[0m \u001b[0mnp\u001b[0m\u001b[1;33m.\u001b[0m\u001b[0munique\u001b[0m\u001b[1;33m(\u001b[0m\u001b[0my\u001b[0m\u001b[1;33m)\u001b[0m\u001b[1;33m\u001b[0m\u001b[1;33m\u001b[0m\u001b[0m\n\u001b[0;32m   1347\u001b[0m \u001b[1;33m\u001b[0m\u001b[0m\n",
      "\u001b[1;32m~\\anaconda3\\lib\\site-packages\\sklearn\\utils\\multiclass.py\u001b[0m in \u001b[0;36mcheck_classification_targets\u001b[1;34m(y)\u001b[0m\n\u001b[0;32m    170\u001b[0m     if y_type not in ['binary', 'multiclass', 'multiclass-multioutput',\n\u001b[0;32m    171\u001b[0m                       'multilabel-indicator', 'multilabel-sequences']:\n\u001b[1;32m--> 172\u001b[1;33m         \u001b[1;32mraise\u001b[0m \u001b[0mValueError\u001b[0m\u001b[1;33m(\u001b[0m\u001b[1;34m\"Unknown label type: %r\"\u001b[0m \u001b[1;33m%\u001b[0m \u001b[0my_type\u001b[0m\u001b[1;33m)\u001b[0m\u001b[1;33m\u001b[0m\u001b[1;33m\u001b[0m\u001b[0m\n\u001b[0m\u001b[0;32m    173\u001b[0m \u001b[1;33m\u001b[0m\u001b[0m\n\u001b[0;32m    174\u001b[0m \u001b[1;33m\u001b[0m\u001b[0m\n",
      "\u001b[1;31mValueError\u001b[0m: Unknown label type: 'unknown'"
     ]
    }
   ],
   "source": [
    "clf=LogisticRegression(solver='saga', max_iter=100000, tol=0.00001)\n",
    "clf.fit(x, y)"
   ]
  }
 ],
 "metadata": {
  "kernelspec": {
   "display_name": "Python 3",
   "language": "python",
   "name": "python3"
  },
  "language_info": {
   "codemirror_mode": {
    "name": "ipython",
    "version": 3
   },
   "file_extension": ".py",
   "mimetype": "text/x-python",
   "name": "python",
   "nbconvert_exporter": "python",
   "pygments_lexer": "ipython3",
   "version": "3.8.5"
  }
 },
 "nbformat": 4,
 "nbformat_minor": 4
}
