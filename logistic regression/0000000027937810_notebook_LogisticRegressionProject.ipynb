{
 "cells": [
  {
   "cell_type": "code",
   "execution_count": 1,
   "metadata": {},
   "outputs": [],
   "source": [
    "from sklearn.linear_model import LogisticRegression as LR\n",
    "import numpy as np\n",
    "import pandas as pd"
   ]
  },
  {
   "cell_type": "code",
   "execution_count": 2,
   "metadata": {},
   "outputs": [
    {
     "data": {
      "text/html": [
       "<img src=\"https://static1.squarespace.com/static/5006453fe4b09ef2252ba068/5095eabce4b06cb305058603/5095eabce4b02d37bef4c24c/1352002236895/100_anniversary_titanic_sinking_by_esai8mellows-d4xbme8.jpg\"/>"
      ],
      "text/plain": [
       "<IPython.core.display.Image object>"
      ]
     },
     "execution_count": 2,
     "metadata": {},
     "output_type": "execute_result"
    }
   ],
   "source": [
    "from IPython.display import Image\n",
    "Image(url= \"https://static1.squarespace.com/static/5006453fe4b09ef2252ba068/5095eabce4b06cb305058603/5095eabce4b02d37bef4c24c/1352002236895/100_anniversary_titanic_sinking_by_esai8mellows-d4xbme8.jpg\")"
   ]
  },
  {
   "cell_type": "code",
   "execution_count": 3,
   "metadata": {},
   "outputs": [],
   "source": [
    "data = pd.read_csv(\"titanic_train.csv\")"
   ]
  },
  {
   "cell_type": "code",
   "execution_count": 4,
   "metadata": {},
   "outputs": [
    {
     "data": {
      "text/html": [
       "<div>\n",
       "<style scoped>\n",
       "    .dataframe tbody tr th:only-of-type {\n",
       "        vertical-align: middle;\n",
       "    }\n",
       "\n",
       "    .dataframe tbody tr th {\n",
       "        vertical-align: top;\n",
       "    }\n",
       "\n",
       "    .dataframe thead th {\n",
       "        text-align: right;\n",
       "    }\n",
       "</style>\n",
       "<table border=\"1\" class=\"dataframe\">\n",
       "  <thead>\n",
       "    <tr style=\"text-align: right;\">\n",
       "      <th></th>\n",
       "      <th>Pclass</th>\n",
       "      <th>Name</th>\n",
       "      <th>Sex</th>\n",
       "      <th>Age</th>\n",
       "      <th>SibSp</th>\n",
       "      <th>Parch</th>\n",
       "      <th>Ticket</th>\n",
       "      <th>Fare</th>\n",
       "      <th>Cabin</th>\n",
       "      <th>Embarked</th>\n",
       "      <th>Survived</th>\n",
       "    </tr>\n",
       "  </thead>\n",
       "  <tbody>\n",
       "    <tr>\n",
       "      <th>0</th>\n",
       "      <td>2</td>\n",
       "      <td>Weisz, Mrs. Leopold (Mathilde Francoise Pede)</td>\n",
       "      <td>female</td>\n",
       "      <td>29.0</td>\n",
       "      <td>1</td>\n",
       "      <td>0</td>\n",
       "      <td>228414</td>\n",
       "      <td>26.000</td>\n",
       "      <td>NaN</td>\n",
       "      <td>S</td>\n",
       "      <td>1</td>\n",
       "    </tr>\n",
       "    <tr>\n",
       "      <th>1</th>\n",
       "      <td>3</td>\n",
       "      <td>Williams, Mr. Howard Hugh \"Harry\"</td>\n",
       "      <td>male</td>\n",
       "      <td>NaN</td>\n",
       "      <td>0</td>\n",
       "      <td>0</td>\n",
       "      <td>A/5 2466</td>\n",
       "      <td>8.050</td>\n",
       "      <td>NaN</td>\n",
       "      <td>S</td>\n",
       "      <td>0</td>\n",
       "    </tr>\n",
       "    <tr>\n",
       "      <th>2</th>\n",
       "      <td>2</td>\n",
       "      <td>Morley, Mr. Henry Samuel (\"Mr Henry Marshall\")</td>\n",
       "      <td>male</td>\n",
       "      <td>39.0</td>\n",
       "      <td>0</td>\n",
       "      <td>0</td>\n",
       "      <td>250655</td>\n",
       "      <td>26.000</td>\n",
       "      <td>NaN</td>\n",
       "      <td>S</td>\n",
       "      <td>0</td>\n",
       "    </tr>\n",
       "    <tr>\n",
       "      <th>3</th>\n",
       "      <td>3</td>\n",
       "      <td>Palsson, Mrs. Nils (Alma Cornelia Berglund)</td>\n",
       "      <td>female</td>\n",
       "      <td>29.0</td>\n",
       "      <td>0</td>\n",
       "      <td>4</td>\n",
       "      <td>349909</td>\n",
       "      <td>21.075</td>\n",
       "      <td>NaN</td>\n",
       "      <td>S</td>\n",
       "      <td>0</td>\n",
       "    </tr>\n",
       "    <tr>\n",
       "      <th>4</th>\n",
       "      <td>3</td>\n",
       "      <td>Sutehall, Mr. Henry Jr</td>\n",
       "      <td>male</td>\n",
       "      <td>25.0</td>\n",
       "      <td>0</td>\n",
       "      <td>0</td>\n",
       "      <td>SOTON/OQ 392076</td>\n",
       "      <td>7.050</td>\n",
       "      <td>NaN</td>\n",
       "      <td>S</td>\n",
       "      <td>0</td>\n",
       "    </tr>\n",
       "  </tbody>\n",
       "</table>\n",
       "</div>"
      ],
      "text/plain": [
       "   Pclass                                            Name     Sex   Age  \\\n",
       "0       2   Weisz, Mrs. Leopold (Mathilde Francoise Pede)  female  29.0   \n",
       "1       3               Williams, Mr. Howard Hugh \"Harry\"    male   NaN   \n",
       "2       2  Morley, Mr. Henry Samuel (\"Mr Henry Marshall\")    male  39.0   \n",
       "3       3     Palsson, Mrs. Nils (Alma Cornelia Berglund)  female  29.0   \n",
       "4       3                          Sutehall, Mr. Henry Jr    male  25.0   \n",
       "\n",
       "   SibSp  Parch           Ticket    Fare Cabin Embarked  Survived  \n",
       "0      1      0           228414  26.000   NaN        S         1  \n",
       "1      0      0         A/5 2466   8.050   NaN        S         0  \n",
       "2      0      0           250655  26.000   NaN        S         0  \n",
       "3      0      4           349909  21.075   NaN        S         0  \n",
       "4      0      0  SOTON/OQ 392076   7.050   NaN        S         0  "
      ]
     },
     "execution_count": 4,
     "metadata": {},
     "output_type": "execute_result"
    }
   ],
   "source": [
    "data.head(5)"
   ]
  },
  {
   "cell_type": "code",
   "execution_count": 5,
   "metadata": {},
   "outputs": [],
   "source": [
    "def Sex(string):\n",
    "    if string == \"male\":\n",
    "        return 0\n",
    "    else:\n",
    "        return 1"
   ]
  },
  {
   "cell_type": "code",
   "execution_count": 6,
   "metadata": {},
   "outputs": [],
   "source": [
    "def Age(age):\n",
    "    age = str(age)\n",
    "    if age != \"nan\":\n",
    "        return int(float(age))\n",
    "    else:\n",
    "        return 0"
   ]
  },
  {
   "cell_type": "code",
   "execution_count": 7,
   "metadata": {},
   "outputs": [],
   "source": [
    "def Cabin(cabin):\n",
    "    cabin = str(cabin)\n",
    "    if cabin != \"nan\":\n",
    "        return 1\n",
    "    else:\n",
    "        return 0"
   ]
  },
  {
   "cell_type": "code",
   "execution_count": 8,
   "metadata": {},
   "outputs": [],
   "source": [
    "def Embarked(emb):\n",
    "    emb = str(emb)\n",
    "    if emb == \"C\":\n",
    "        return 1\n",
    "    elif emb == \"Q\":\n",
    "        return 2\n",
    "    elif emb == \"S\":\n",
    "        return 3\n",
    "    else:\n",
    "        return 0"
   ]
  },
  {
   "cell_type": "code",
   "execution_count": 9,
   "metadata": {},
   "outputs": [],
   "source": [
    "def change_dtype(datatype):\n",
    "    datatype = str(datatype)\n",
    "    if datatype != \"nan\":\n",
    "        return int(float(datatype))\n",
    "    else:\n",
    "        return 0"
   ]
  },
  {
   "cell_type": "code",
   "execution_count": 23,
   "metadata": {
    "scrolled": true
   },
   "outputs": [],
   "source": [
    "new_data = pd.DataFrame()\n",
    "new_data[\"Age\"] = data[\"Age\"].apply(Age)\n",
    "new_data[\"Sex\"] = data[\"Sex\"].apply(Sex)\n",
    "new_data[\"SibSp\"] = data[\"SibSp\"].apply(change_dtype)\n",
    "new_data[\"Parch\"] = data[\"Parch\"].apply(change_dtype)\n",
    "new_data[\"Fare\"] = data[\"Fare\"].apply(change_dtype)\n",
    "new_data[\"Cabin\"] = data[\"Cabin\"].apply(Cabin)\n",
    "new_data[\"Embarked\"] = data[\"Embarked\"].apply(Embarked)\n",
    "#new_data[\"Age_Age\"] = new_data[\"Age\"]*new_data[\"Age\"]\n",
    "#new_data[\"Sex_SibSp\"] = new_data[\"Sex\"]*new_data[\"SibSp\"]\n",
    "#new_data[\"Sex_Parch\"] = new_data[\"Sex\"]*new_data[\"Parch\"]\n",
    "#new_data[\"SibSp_Parch\"] = new_data[\"SibSp\"]*new_data[\"Parch\"]\n",
    "#new_data[\"Cabin_Embarked\"] = new_data[\"Cabin\"]*new_data[\"Embarked\"]"
   ]
  },
  {
   "cell_type": "code",
   "execution_count": 24,
   "metadata": {},
   "outputs": [
    {
     "data": {
      "text/html": [
       "<div>\n",
       "<style scoped>\n",
       "    .dataframe tbody tr th:only-of-type {\n",
       "        vertical-align: middle;\n",
       "    }\n",
       "\n",
       "    .dataframe tbody tr th {\n",
       "        vertical-align: top;\n",
       "    }\n",
       "\n",
       "    .dataframe thead th {\n",
       "        text-align: right;\n",
       "    }\n",
       "</style>\n",
       "<table border=\"1\" class=\"dataframe\">\n",
       "  <thead>\n",
       "    <tr style=\"text-align: right;\">\n",
       "      <th></th>\n",
       "      <th>Age</th>\n",
       "      <th>Sex</th>\n",
       "      <th>SibSp</th>\n",
       "      <th>Parch</th>\n",
       "      <th>Fare</th>\n",
       "      <th>Cabin</th>\n",
       "      <th>Embarked</th>\n",
       "    </tr>\n",
       "  </thead>\n",
       "  <tbody>\n",
       "    <tr>\n",
       "      <th>0</th>\n",
       "      <td>29</td>\n",
       "      <td>1</td>\n",
       "      <td>1</td>\n",
       "      <td>0</td>\n",
       "      <td>26</td>\n",
       "      <td>0</td>\n",
       "      <td>3</td>\n",
       "    </tr>\n",
       "    <tr>\n",
       "      <th>1</th>\n",
       "      <td>0</td>\n",
       "      <td>0</td>\n",
       "      <td>0</td>\n",
       "      <td>0</td>\n",
       "      <td>8</td>\n",
       "      <td>0</td>\n",
       "      <td>3</td>\n",
       "    </tr>\n",
       "    <tr>\n",
       "      <th>2</th>\n",
       "      <td>39</td>\n",
       "      <td>0</td>\n",
       "      <td>0</td>\n",
       "      <td>0</td>\n",
       "      <td>26</td>\n",
       "      <td>0</td>\n",
       "      <td>3</td>\n",
       "    </tr>\n",
       "    <tr>\n",
       "      <th>3</th>\n",
       "      <td>29</td>\n",
       "      <td>1</td>\n",
       "      <td>0</td>\n",
       "      <td>4</td>\n",
       "      <td>21</td>\n",
       "      <td>0</td>\n",
       "      <td>3</td>\n",
       "    </tr>\n",
       "    <tr>\n",
       "      <th>4</th>\n",
       "      <td>25</td>\n",
       "      <td>0</td>\n",
       "      <td>0</td>\n",
       "      <td>0</td>\n",
       "      <td>7</td>\n",
       "      <td>0</td>\n",
       "      <td>3</td>\n",
       "    </tr>\n",
       "  </tbody>\n",
       "</table>\n",
       "</div>"
      ],
      "text/plain": [
       "   Age  Sex  SibSp  Parch  Fare  Cabin  Embarked\n",
       "0   29    1      1      0    26      0         3\n",
       "1    0    0      0      0     8      0         3\n",
       "2   39    0      0      0    26      0         3\n",
       "3   29    1      0      4    21      0         3\n",
       "4   25    0      0      0     7      0         3"
      ]
     },
     "execution_count": 24,
     "metadata": {},
     "output_type": "execute_result"
    }
   ],
   "source": [
    "new_data.head(5)"
   ]
  },
  {
   "cell_type": "code",
   "execution_count": 25,
   "metadata": {},
   "outputs": [],
   "source": [
    "x_train = np.array(new_data)\n",
    "y_train = np.array(data[\"Survived\"])"
   ]
  },
  {
   "cell_type": "code",
   "execution_count": 26,
   "metadata": {},
   "outputs": [
    {
     "name": "stderr",
     "output_type": "stream",
     "text": [
      "C:\\Users\\DAVKAUR\\Anaconda3\\lib\\site-packages\\sklearn\\linear_model\\_logistic.py:762: ConvergenceWarning: lbfgs failed to converge (status=1):\n",
      "STOP: TOTAL NO. of ITERATIONS REACHED LIMIT.\n",
      "\n",
      "Increase the number of iterations (max_iter) or scale the data as shown in:\n",
      "    https://scikit-learn.org/stable/modules/preprocessing.html\n",
      "Please also refer to the documentation for alternative solver options:\n",
      "    https://scikit-learn.org/stable/modules/linear_model.html#logistic-regression\n",
      "  n_iter_i = _check_optimize_result(\n"
     ]
    },
    {
     "data": {
      "text/plain": [
       "LogisticRegression()"
      ]
     },
     "execution_count": 26,
     "metadata": {},
     "output_type": "execute_result"
    }
   ],
   "source": [
    "model = LR()\n",
    "model.fit(x_train, y_train)"
   ]
  },
  {
   "cell_type": "code",
   "execution_count": 27,
   "metadata": {},
   "outputs": [
    {
     "data": {
      "text/plain": [
       "0.7844311377245509"
      ]
     },
     "execution_count": 27,
     "metadata": {},
     "output_type": "execute_result"
    }
   ],
   "source": [
    "model.score(x_train, y_train)"
   ]
  },
  {
   "cell_type": "code",
   "execution_count": 28,
   "metadata": {},
   "outputs": [],
   "source": [
    "test_data = pd.read_csv(\"titanic_test.csv\")"
   ]
  },
  {
   "cell_type": "code",
   "execution_count": 29,
   "metadata": {},
   "outputs": [],
   "source": [
    "x_test = pd.DataFrame()\n",
    "x_test[\"Age\"] = test_data[\"Age\"].apply(Age)\n",
    "x_test[\"Sex\"] = test_data[\"Sex\"].apply(Sex)\n",
    "x_test[\"SibSp\"] = test_data[\"SibSp\"].apply(change_dtype)\n",
    "x_test[\"Parch\"] = test_data[\"Parch\"].apply(change_dtype)\n",
    "x_test[\"Fare\"] = test_data[\"Fare\"].apply(change_dtype)\n",
    "x_test[\"Cabin\"] = test_data[\"Cabin\"].apply(Cabin)\n",
    "x_test[\"Embarked\"] = test_data[\"Embarked\"].apply(Embarked)\n",
    "#x_test[\"Age_Age\"] = x_test[\"Age\"]*x_test[\"Age\"]\n",
    "#x_test[\"Sex_SibSp\"] = x_test[\"Sex\"]*x_test[\"SibSp\"]\n",
    "#x_test[\"Sex_Parch\"] = x_test[\"Sex\"]*x_test[\"Parch\"]\n",
    "#x_test[\"SibSp_Parch\"] = x_test[\"SibSp\"]*x_test[\"Parch\"]\n",
    "#x_test[\"Cabin_Embarked\"] = x_test[\"Cabin\"]*x_test[\"Embarked\"]"
   ]
  },
  {
   "cell_type": "code",
   "execution_count": 30,
   "metadata": {},
   "outputs": [
    {
     "data": {
      "text/plain": [
       "0.7844311377245509"
      ]
     },
     "execution_count": 30,
     "metadata": {},
     "output_type": "execute_result"
    }
   ],
   "source": [
    "x_test_array = np.array(x_test)\n",
    "y_predict = model.predict(x_test_array)\n",
    "model.score(x_train, y_train)"
   ]
  },
  {
   "cell_type": "code",
   "execution_count": 31,
   "metadata": {},
   "outputs": [
    {
     "data": {
      "text/plain": [
       "array([[0.85767434, 0.14232566],\n",
       "       [0.11846161, 0.88153839],\n",
       "       [0.77883893, 0.22116107],\n",
       "       [0.4460142 , 0.5539858 ],\n",
       "       [0.59229437, 0.40770563],\n",
       "       [0.83639907, 0.16360093],\n",
       "       [0.82698421, 0.17301579],\n",
       "       [0.77883893, 0.22116107],\n",
       "       [0.28326055, 0.71673945],\n",
       "       [0.80195418, 0.19804582],\n",
       "       [0.13362713, 0.86637287],\n",
       "       [0.80287331, 0.19712669],\n",
       "       [0.05203551, 0.94796449],\n",
       "       [0.29427611, 0.70572389],\n",
       "       [0.60149149, 0.39850851],\n",
       "       [0.86938471, 0.13061529],\n",
       "       [0.83532397, 0.16467603],\n",
       "       [0.8696792 , 0.1303208 ],\n",
       "       [0.83758456, 0.16241544],\n",
       "       [0.25578641, 0.74421359],\n",
       "       [0.25419617, 0.74580383],\n",
       "       [0.83232658, 0.16767342],\n",
       "       [0.12827188, 0.87172812],\n",
       "       [0.36791005, 0.63208995],\n",
       "       [0.80287331, 0.19712669],\n",
       "       [0.4837752 , 0.5162248 ],\n",
       "       [0.84387411, 0.15612589],\n",
       "       [0.86797026, 0.13202974],\n",
       "       [0.32766709, 0.67233291],\n",
       "       [0.35378494, 0.64621506],\n",
       "       [0.83428552, 0.16571448],\n",
       "       [0.97651244, 0.02348756],\n",
       "       [0.8433379 , 0.1566621 ],\n",
       "       [0.84933385, 0.15066615],\n",
       "       [0.8697474 , 0.1302526 ],\n",
       "       [0.30040125, 0.69959875],\n",
       "       [0.28009155, 0.71990845],\n",
       "       [0.81242581, 0.18757419],\n",
       "       [0.84615179, 0.15384821],\n",
       "       [0.62181585, 0.37818415],\n",
       "       [0.21979091, 0.78020909],\n",
       "       [0.83758456, 0.16241544],\n",
       "       [0.83667601, 0.16332399],\n",
       "       [0.84615179, 0.15384821],\n",
       "       [0.28847028, 0.71152972],\n",
       "       [0.52030362, 0.47969638],\n",
       "       [0.87767744, 0.12232256],\n",
       "       [0.21979091, 0.78020909],\n",
       "       [0.83376027, 0.16623973],\n",
       "       [0.79579513, 0.20420487],\n",
       "       [0.82778688, 0.17221312],\n",
       "       [0.25672615, 0.74327385],\n",
       "       [0.11135484, 0.88864516],\n",
       "       [0.28532047, 0.71467953],\n",
       "       [0.8569954 , 0.1430046 ],\n",
       "       [0.89632669, 0.10367331],\n",
       "       [0.78459523, 0.21540477],\n",
       "       [0.85362281, 0.14637719],\n",
       "       [0.8729635 , 0.1270365 ],\n",
       "       [0.82384133, 0.17615867],\n",
       "       [0.82933589, 0.17066411],\n",
       "       [0.56093742, 0.43906258],\n",
       "       [0.25449109, 0.74550891],\n",
       "       [0.21979091, 0.78020909],\n",
       "       [0.10577152, 0.89422848],\n",
       "       [0.89686145, 0.10313855],\n",
       "       [0.84396493, 0.15603507],\n",
       "       [0.71666223, 0.28333777],\n",
       "       [0.09231595, 0.90768405],\n",
       "       [0.62737828, 0.37262172],\n",
       "       [0.83464459, 0.16535541],\n",
       "       [0.84754316, 0.15245684],\n",
       "       [0.45922212, 0.54077788],\n",
       "       [0.84603896, 0.15396104],\n",
       "       [0.85092149, 0.14907851],\n",
       "       [0.03263354, 0.96736646],\n",
       "       [0.33959135, 0.66040865],\n",
       "       [0.85146999, 0.14853001],\n",
       "       [0.63805142, 0.36194858],\n",
       "       [0.87497455, 0.12502545],\n",
       "       [0.86932086, 0.13067914],\n",
       "       [0.07243384, 0.92756616],\n",
       "       [0.91524652, 0.08475348],\n",
       "       [0.64722722, 0.35277278],\n",
       "       [0.83448793, 0.16551207],\n",
       "       [0.24188649, 0.75811351],\n",
       "       [0.52544106, 0.47455894],\n",
       "       [0.48386302, 0.51613698],\n",
       "       [0.83758456, 0.16241544],\n",
       "       [0.80287331, 0.19712669],\n",
       "       [0.24574281, 0.75425719],\n",
       "       [0.8795938 , 0.1204062 ],\n",
       "       [0.85029493, 0.14970507],\n",
       "       [0.2987516 , 0.7012484 ],\n",
       "       [0.77883893, 0.22116107],\n",
       "       [0.6575476 , 0.3424524 ],\n",
       "       [0.86908632, 0.13091368],\n",
       "       [0.6125806 , 0.3874194 ],\n",
       "       [0.93294738, 0.06705262],\n",
       "       [0.07025896, 0.92974104],\n",
       "       [0.21979091, 0.78020909],\n",
       "       [0.80103184, 0.19896816],\n",
       "       [0.05759693, 0.94240307],\n",
       "       [0.95736932, 0.04263068],\n",
       "       [0.26351777, 0.73648223],\n",
       "       [0.0449439 , 0.9550561 ],\n",
       "       [0.89683969, 0.10316031],\n",
       "       [0.86311643, 0.13688357],\n",
       "       [0.97651244, 0.02348756],\n",
       "       [0.83679438, 0.16320562],\n",
       "       [0.83166211, 0.16833789],\n",
       "       [0.11524453, 0.88475547],\n",
       "       [0.37574878, 0.62425122],\n",
       "       [0.63809318, 0.36190682],\n",
       "       [0.35306008, 0.64693992],\n",
       "       [0.89098297, 0.10901703],\n",
       "       [0.87056498, 0.12943502],\n",
       "       [0.21979091, 0.78020909],\n",
       "       [0.88424513, 0.11575487],\n",
       "       [0.80287331, 0.19712669],\n",
       "       [0.87318811, 0.12681189],\n",
       "       [0.80287331, 0.19712669],\n",
       "       [0.85300564, 0.14699436],\n",
       "       [0.83746665, 0.16253335],\n",
       "       [0.72713596, 0.27286404],\n",
       "       [0.92522703, 0.07477297],\n",
       "       [0.92742332, 0.07257668],\n",
       "       [0.87646095, 0.12353905],\n",
       "       [0.95866368, 0.04133632],\n",
       "       [0.4837752 , 0.5162248 ],\n",
       "       [0.86527993, 0.13472007],\n",
       "       [0.83384295, 0.16615705],\n",
       "       [0.85444555, 0.14555445],\n",
       "       [0.83872358, 0.16127642],\n",
       "       [0.84153326, 0.15846674],\n",
       "       [0.80287331, 0.19712669],\n",
       "       [0.26421371, 0.73578629],\n",
       "       [0.49101698, 0.50898302],\n",
       "       [0.28326055, 0.71673945],\n",
       "       [0.56806321, 0.43193679],\n",
       "       [0.75277652, 0.24722348],\n",
       "       [0.8433379 , 0.1566621 ],\n",
       "       [0.60095929, 0.39904071],\n",
       "       [0.86902116, 0.13097884],\n",
       "       [0.81520605, 0.18479395],\n",
       "       [0.83892161, 0.16107839],\n",
       "       [0.83235128, 0.16764872],\n",
       "       [0.85351451, 0.14648549],\n",
       "       [0.21979091, 0.78020909],\n",
       "       [0.08516709, 0.91483291],\n",
       "       [0.01862524, 0.98137476],\n",
       "       [0.83072712, 0.16927288],\n",
       "       [0.58958198, 0.41041802],\n",
       "       [0.84048224, 0.15951776],\n",
       "       [0.25034102, 0.74965898],\n",
       "       [0.80437369, 0.19562631],\n",
       "       [0.65487721, 0.34512279],\n",
       "       [0.32113299, 0.67886701],\n",
       "       [0.83235128, 0.16764872],\n",
       "       [0.88066443, 0.11933557],\n",
       "       [0.80195418, 0.19804582],\n",
       "       [0.30235048, 0.69764952],\n",
       "       [0.3751401 , 0.6248599 ],\n",
       "       [0.21979091, 0.78020909],\n",
       "       [0.0864396 , 0.9135604 ],\n",
       "       [0.83611988, 0.16388012],\n",
       "       [0.76878225, 0.23121775],\n",
       "       [0.80287331, 0.19712669],\n",
       "       [0.38450155, 0.61549845],\n",
       "       [0.2896789 , 0.7103211 ],\n",
       "       [0.29942195, 0.70057805],\n",
       "       [0.397965  , 0.602035  ],\n",
       "       [0.3032659 , 0.6967341 ],\n",
       "       [0.78815508, 0.21184492],\n",
       "       [0.08182325, 0.91817675],\n",
       "       [0.83758456, 0.16241544],\n",
       "       [0.87786415, 0.12213585],\n",
       "       [0.82933589, 0.17066411],\n",
       "       [0.81781549, 0.18218451],\n",
       "       [0.31185062, 0.68814938],\n",
       "       [0.84475005, 0.15524995],\n",
       "       [0.75277652, 0.24722348],\n",
       "       [0.95648499, 0.04351501],\n",
       "       [0.23797359, 0.76202641],\n",
       "       [0.26837112, 0.73162888],\n",
       "       [0.86344413, 0.13655587],\n",
       "       [0.31116481, 0.68883519],\n",
       "       [0.62406867, 0.37593133],\n",
       "       [0.06880959, 0.93119041],\n",
       "       [0.8516554 , 0.1483446 ],\n",
       "       [0.8330382 , 0.1669618 ],\n",
       "       [0.87811349, 0.12188651],\n",
       "       [0.10149469, 0.89850531],\n",
       "       [0.80195418, 0.19804582],\n",
       "       [0.85960482, 0.14039518],\n",
       "       [0.30100393, 0.69899607],\n",
       "       [0.0658341 , 0.9341659 ],\n",
       "       [0.32385558, 0.67614442],\n",
       "       [0.34476488, 0.65523512],\n",
       "       [0.07362078, 0.92637922],\n",
       "       [0.48799296, 0.51200704],\n",
       "       [0.5041207 , 0.4958793 ],\n",
       "       [0.83758456, 0.16241544],\n",
       "       [0.60393758, 0.39606242],\n",
       "       [0.77883893, 0.22116107],\n",
       "       [0.83532751, 0.16467249],\n",
       "       [0.81207971, 0.18792029],\n",
       "       [0.8433379 , 0.1566621 ],\n",
       "       [0.06768696, 0.93231304],\n",
       "       [0.52406761, 0.47593239],\n",
       "       [0.8334777 , 0.1665223 ],\n",
       "       [0.29205309, 0.70794691],\n",
       "       [0.83723062, 0.16276938],\n",
       "       [0.63508633, 0.36491367],\n",
       "       [0.27463004, 0.72536996],\n",
       "       [0.06895704, 0.93104296],\n",
       "       [0.83532397, 0.16467603],\n",
       "       [0.80195418, 0.19804582],\n",
       "       [0.87079321, 0.12920679],\n",
       "       [0.61538605, 0.38461395],\n",
       "       [0.05554917, 0.94445083],\n",
       "       [0.86662578, 0.13337422],\n",
       "       [0.67773879, 0.32226121]])"
      ]
     },
     "execution_count": 31,
     "metadata": {},
     "output_type": "execute_result"
    }
   ],
   "source": [
    "model.predict_proba(x_test_array)"
   ]
  },
  {
   "cell_type": "code",
   "execution_count": 19,
   "metadata": {},
   "outputs": [],
   "source": [
    "np.savetxt(\"titanic_prediction.csv\", y_predict, fmt = (\"%.0f\"))"
   ]
  }
 ],
 "metadata": {
  "kernelspec": {
   "display_name": "Python 3",
   "language": "python",
   "name": "python3"
  },
  "language_info": {
   "codemirror_mode": {
    "name": "ipython",
    "version": 3
   },
   "file_extension": ".py",
   "mimetype": "text/x-python",
   "name": "python",
   "nbconvert_exporter": "python",
   "pygments_lexer": "ipython3",
   "version": "3.8.5"
  }
 },
 "nbformat": 4,
 "nbformat_minor": 4
}
