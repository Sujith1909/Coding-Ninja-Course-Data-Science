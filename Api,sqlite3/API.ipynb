{
 "cells": [
  {
   "cell_type": "code",
   "execution_count": null,
   "metadata": {},
   "outputs": [],
   "source": [
    "import requests \n",
    "response = requests.get('https://codingninjas.in/api/v3/events')\n",
    "\n"
   ]
  },
  {
   "cell_type": "code",
   "execution_count": 15,
   "metadata": {
    "scrolled": true
   },
   "outputs": [
    {
     "name": "stdout",
     "output_type": "stream",
     "text": [
      "<class 'int'>\n",
      "110\n"
     ]
    }
   ],
   "source": [
    "import json\n",
    "json_data = '{\"roll_number\" : 110}'\n",
    "json_python = json.loads(json_data)\n",
    "print(type(json_python[\"roll_number\"]))\n",
    "print(json_python[\"roll_number\"])"
   ]
  },
  {
   "cell_type": "code",
   "execution_count": 16,
   "metadata": {
    "scrolled": true
   },
   "outputs": [
    {
     "name": "stdout",
     "output_type": "stream",
     "text": [
      "<class 'NoneType'>\n",
      "None\n"
     ]
    }
   ],
   "source": [
    "import json\n",
    "json_data = '{\"roll_number\" : null}'\n",
    "json_python = json.loads(json_data)\n",
    "print(type(json_python[\"roll_number\"]))\n",
    "print(json_python[\"roll_number\"])"
   ]
  },
  {
   "cell_type": "code",
   "execution_count": 25,
   "metadata": {},
   "outputs": [
    {
     "name": "stdout",
     "output_type": "stream",
     "text": [
      "mohit\n",
      "101\n"
     ]
    }
   ],
   "source": [
    "import json\n",
    "json_data = '{\"student\" : {\"name\" : \"mohit\", \"rollno\" : 101}}'\n",
    "json_python = json.loads(json_data)\n",
    "student_details =json_python['student']\n",
    "print(student_details['name'])\n",
    "print(student_details['rollno'])"
   ]
  },
  {
   "cell_type": "code",
   "execution_count": 41,
   "metadata": {},
   "outputs": [
    {
     "ename": "AttributeError",
     "evalue": "'Response' object has no attribute 'data'",
     "output_type": "error",
     "traceback": [
      "\u001b[1;31m---------------------------------------------------------------------------\u001b[0m",
      "\u001b[1;31mAttributeError\u001b[0m                            Traceback (most recent call last)",
      "\u001b[1;32m<ipython-input-41-217a14f0d610>\u001b[0m in \u001b[0;36m<module>\u001b[1;34m\u001b[0m\n\u001b[0;32m      1\u001b[0m \u001b[1;32mimport\u001b[0m \u001b[0mrequests\u001b[0m\u001b[1;33m\u001b[0m\u001b[1;33m\u001b[0m\u001b[0m\n\u001b[0;32m      2\u001b[0m \u001b[0mresponse\u001b[0m \u001b[1;33m=\u001b[0m \u001b[0mrequests\u001b[0m\u001b[1;33m.\u001b[0m\u001b[0mget\u001b[0m\u001b[1;33m(\u001b[0m\u001b[1;34m'https://codingninjas.in/api/v3/events'\u001b[0m\u001b[1;33m)\u001b[0m\u001b[1;33m\u001b[0m\u001b[1;33m\u001b[0m\u001b[0m\n\u001b[1;32m----> 3\u001b[1;33m \u001b[0mprint\u001b[0m\u001b[1;33m(\u001b[0m\u001b[0mresponse\u001b[0m\u001b[1;33m.\u001b[0m\u001b[0mdata\u001b[0m\u001b[1;33m)\u001b[0m\u001b[1;33m\u001b[0m\u001b[1;33m\u001b[0m\u001b[0m\n\u001b[0m\u001b[0;32m      4\u001b[0m \u001b[1;31m#python_data = json.loads(response.text)\u001b[0m\u001b[1;33m\u001b[0m\u001b[1;33m\u001b[0m\u001b[1;33m\u001b[0m\u001b[0m\n\u001b[0;32m      5\u001b[0m \u001b[1;31m#print(type(python_data))\u001b[0m\u001b[1;33m\u001b[0m\u001b[1;33m\u001b[0m\u001b[1;33m\u001b[0m\u001b[0m\n",
      "\u001b[1;31mAttributeError\u001b[0m: 'Response' object has no attribute 'data'"
     ]
    }
   ],
   "source": [
    "import requests\n",
    "response = requests.get('https://codingninjas.in/api/v3/events')\n",
    "print(response.data)\n",
    "#python_data = json.loads(response.text)\n",
    "#print(type(python_data))\n",
    "#courses = python_data['data']['courses']"
   ]
  },
  {
   "cell_type": "code",
   "execution_count": 53,
   "metadata": {},
   "outputs": [
    {
     "name": "stdout",
     "output_type": "stream",
     "text": [
      "blenheim\n",
      "brittany\n",
      "cocker\n",
      "irish\n",
      "japanese\n",
      "sussex\n",
      "welsh\n"
     ]
    }
   ],
   "source": [
    "import requests\n",
    "p = requests.get('https://dog.ceo/api/breeds/list/all')\n",
    "#print(p.text)\n",
    "data = p.json()\n",
    "#print(type(data))\n",
    "\n",
    "#for key,value in data['message'].items() :\n",
    "#    print(key , ' : ', len(value))\n",
    "for i in data['message']['spaniel']:\n",
    "    print(i)\n",
    "\n"
   ]
  },
  {
   "cell_type": "code",
   "execution_count": 54,
   "metadata": {},
   "outputs": [
    {
     "name": "stdout",
     "output_type": "stream",
     "text": [
      "afghan\n",
      "basset\n",
      "blood\n",
      "english\n",
      "ibizan\n",
      "plott\n",
      "walker\n"
     ]
    }
   ],
   "source": [
    "#question 1 \n",
    "import requests\n",
    "p = requests.get('https://dog.ceo/api/breeds/list/all')\n",
    "data = p.json()\n",
    "for i in data['message']['hound']:\n",
    "    print(i)"
   ]
  },
  {
   "cell_type": "code",
   "execution_count": 56,
   "metadata": {},
   "outputs": [
    {
     "name": "stdout",
     "output_type": "stream",
     "text": [
      "3\n"
     ]
    }
   ],
   "source": [
    "#question 2\n",
    "import requests\n",
    "p = requests.get('https://dog.ceo/api/breeds/list/all/')\n",
    "data = p.json()\n",
    "sum = 0\n",
    "a = data['message']['poodle']\n",
    "sum = len(a)\n",
    "print(sum)\n",
    "\n"
   ]
  },
  {
   "cell_type": "code",
   "execution_count": 66,
   "metadata": {},
   "outputs": [],
   "source": [
    "#question 3\n",
    "import requests as req\n",
    "import json\n",
    "response = req.get('https://codingninjas.in/api/v3/courses')\n",
    "python_data = json.loads(response.text)\n",
    "courses = python_data['data']['courses']\n",
    "for i in courses:\n",
    "    if i['available_online']:\n",
    "        print(i['name'])"
   ]
  },
  {
   "cell_type": "code",
   "execution_count": 72,
   "metadata": {},
   "outputs": [
    {
     "name": "stdout",
     "output_type": "stream",
     "text": [
      "Give your career a head-start and know how you can get closer to your dream job by refining your coding skills.\n"
     ]
    }
   ],
   "source": [
    "#question 4 \n",
    "import requests as req\n",
    "import json\n",
    "response = req.get('https://api.codingninjas.com/api/v3/events?event_category=ALL_EVENTS&event_sub_category=All%20Time%20Favorites&tag_list=&offset=0&_ga=2.251159233.670270888.1616068527-839859700.1602318398')\n",
    "python_data = json.loads(response.text)\n",
    "a = python_data['data']['events'][0]\n",
    "print(a['short_desc'])\n"
   ]
  },
  {
   "cell_type": "code",
   "execution_count": 91,
   "metadata": {},
   "outputs": [
    {
     "ename": "TypeError",
     "evalue": "list indices must be integers or slices, not str",
     "output_type": "error",
     "traceback": [
      "\u001b[1;31m---------------------------------------------------------------------------\u001b[0m",
      "\u001b[1;31mTypeError\u001b[0m                                 Traceback (most recent call last)",
      "\u001b[1;32m<ipython-input-91-533713d881b4>\u001b[0m in \u001b[0;36m<module>\u001b[1;34m\u001b[0m\n\u001b[0;32m      6\u001b[0m \u001b[0mjson_data\u001b[0m \u001b[1;33m=\u001b[0m \u001b[0mjson\u001b[0m\u001b[1;33m.\u001b[0m\u001b[0mloads\u001b[0m\u001b[1;33m(\u001b[0m\u001b[0mresponse\u001b[0m\u001b[1;33m.\u001b[0m\u001b[0mtext\u001b[0m\u001b[1;33m)\u001b[0m\u001b[1;33m\u001b[0m\u001b[1;33m\u001b[0m\u001b[0m\n\u001b[0;32m      7\u001b[0m \u001b[0ma\u001b[0m \u001b[1;33m=\u001b[0m \u001b[0mjson_data\u001b[0m\u001b[1;33m[\u001b[0m\u001b[1;34m'data'\u001b[0m\u001b[1;33m]\u001b[0m\u001b[1;33m[\u001b[0m\u001b[1;34m'courses'\u001b[0m\u001b[1;33m]\u001b[0m\u001b[1;33m\u001b[0m\u001b[1;33m\u001b[0m\u001b[0m\n\u001b[1;32m----> 8\u001b[1;33m \u001b[0mprint\u001b[0m\u001b[1;33m(\u001b[0m\u001b[0ma\u001b[0m\u001b[1;33m[\u001b[0m\u001b[1;34m\"title\"\u001b[0m\u001b[1;33m]\u001b[0m\u001b[1;33m)\u001b[0m\u001b[1;33m\u001b[0m\u001b[1;33m\u001b[0m\u001b[0m\n\u001b[0m",
      "\u001b[1;31mTypeError\u001b[0m: list indices must be integers or slices, not str"
     ]
    }
   ],
   "source": [
    "#question 5\n",
    "import requests as req\n",
    "import json\n",
    "response = req.get('https://codingninjas.in/api/v3/courses',params = {\"id\" : 19})\n",
    "#print(response.json())\n",
    "json_data = json.loads(response.text)\n",
    "a = json_data['data']['courses']\n",
    "print(a[\"title\"])\n"
   ]
  },
  {
   "cell_type": "code",
   "execution_count": 90,
   "metadata": {},
   "outputs": [
    {
     "name": "stdout",
     "output_type": "stream",
     "text": [
      "https://codingninjas.in/api/v3/courses?id=19&limit=1\n"
     ]
    }
   ],
   "source": [
    "import requests as req\n",
    "import json\n",
    "response = req.get('https://codingninjas.in/api/v3/courses',params = {\"id\" : 19, \"limit\" : 1})\n",
    "print(response.url)"
   ]
  },
  {
   "cell_type": "code",
   "execution_count": 102,
   "metadata": {
    "scrolled": true
   },
   "outputs": [
    {
     "name": "stdout",
     "output_type": "stream",
     "text": [
      "69\n"
     ]
    }
   ],
   "source": [
    "#question 6\n",
    "import json\n",
    "import requests as req \n",
    "response = req.get('https://api.openaq.org/v1/cities/',params ={'country' : \"AU\"})\n",
    "json_data = json.loads(response.text)\n",
    "#print(response.url)\n",
    "a = json_data['results']\n",
    "print(len(a))"
   ]
  },
  {
   "cell_type": "code",
   "execution_count": 109,
   "metadata": {},
   "outputs": [
    {
     "name": "stdout",
     "output_type": "stream",
     "text": [
      "Antwerpen\n",
      "Brabant wallon\n",
      "Brussels-Capital Region\n",
      "Flanders\n",
      "Hainaut\n"
     ]
    }
   ],
   "source": [
    "#question 7\n",
    "import json\n",
    "import requests as req\n",
    "response = req.get('https://api.openaq.org/v1/cities/',params ={'country' : \"BE\"})\n",
    "json_data = json.loads(response.text)\n",
    "a = json_data['results']\n",
    "flag = 0 \n",
    "#print(a[1]['city'])\n",
    "while flag != 5:\n",
    "    print(a[flag]['city'])\n",
    "    flag += 1\n"
   ]
  },
  {
   "cell_type": "code",
   "execution_count": 113,
   "metadata": {},
   "outputs": [
    {
     "name": "stdout",
     "output_type": "stream",
     "text": [
      "https://api.nasa.gov/planetary/apod?api-key=DEMO_KEY\n"
     ]
    }
   ],
   "source": [
    "import json\n",
    "import requests as req\n",
    "response = req.get('https://api.nasa.gov/planetary/apod',params ={\"api-key\" : \"DEMO_KEY\"})\n",
    "print(response.url)"
   ]
  },
  {
   "cell_type": "code",
   "execution_count": 127,
   "metadata": {},
   "outputs": [
    {
     "name": "stdout",
     "output_type": "stream",
     "text": [
      "[{'title': 'Busan', 'location_type': 'City', 'woeid': 1132447, 'latt_long': '35.170429,128.999481'}]\n",
      "1132447\n"
     ]
    }
   ],
   "source": [
    "# question 8\n",
    "import json\n",
    "import requests as req\n",
    "e = req.get('https://www.metaweather.com/api/location/search/',params ={\"query\" : \"USA\"})\n",
    "#print(e.url)\n",
    "data = json.loads(e.text)\n",
    "print(data)\n",
    "#a = data[0]['woeid']\n",
    "print(a)"
   ]
  },
  {
   "cell_type": "code",
   "execution_count": 139,
   "metadata": {},
   "outputs": [
    {
     "name": "stdout",
     "output_type": "stream",
     "text": [
      "Mahatma Gandhi Jayanti\n"
     ]
    }
   ],
   "source": [
    "#question 9\n",
    "import json\n",
    "import requests as req\n",
    "response = req.get('https://holidayapi.com/v1/holidays?pretty&key=3196b80f-5730-43b0-9506-4cadd5909c9c&country=IN&year=2020',params ={\"key\" : \"3196b80f-5730-43b0-9506-4cadd5909c9c\",'country' : 'IN','year':'2020'})\n",
    "a = json.loads(response.text)\n",
    "#print(a)\n",
    "for i in a['holidays']:\n",
    "    if i['date'] == '2020-10-02':        \n",
    "        print(i['name'])"
   ]
  },
  {
   "cell_type": "markdown",
   "metadata": {},
   "source": [
    "### MODULE - 2 API"
   ]
  },
  {
   "cell_type": "code",
   "execution_count": null,
   "metadata": {},
   "outputs": [],
   "source": [
    "import requests \n",
    "from requests.auth import HTTPBasicAuth\n",
    "a = requests.get()\n"
   ]
  }
 ],
 "metadata": {
  "kernelspec": {
   "display_name": "Python 3",
   "language": "python",
   "name": "python3"
  },
  "language_info": {
   "codemirror_mode": {
    "name": "ipython",
    "version": 3
   },
   "file_extension": ".py",
   "mimetype": "text/x-python",
   "name": "python",
   "nbconvert_exporter": "python",
   "pygments_lexer": "ipython3",
   "version": "3.8.5"
  }
 },
 "nbformat": 4,
 "nbformat_minor": 4
}
