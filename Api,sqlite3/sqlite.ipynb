{
 "cells": [
  {
   "cell_type": "code",
   "execution_count": 1,
   "metadata": {},
   "outputs": [
    {
     "data": {
      "text/plain": [
       "<sqlite3.Connection at 0x234b6983990>"
      ]
     },
     "execution_count": 1,
     "metadata": {},
     "output_type": "execute_result"
    }
   ],
   "source": [
    "import sqlite3 \n",
    "db = sqlite3.connect('IMDB.sqlite')\n",
    "db"
   ]
  },
  {
   "cell_type": "code",
   "execution_count": 1,
   "metadata": {},
   "outputs": [
    {
     "data": {
      "text/plain": [
       "<sqlite3.Connection at 0x21a2f1737b0>"
      ]
     },
     "execution_count": 1,
     "metadata": {},
     "output_type": "execute_result"
    }
   ],
   "source": [
    "import sqlite3 \n",
    "db = sqlite3.connect('School.sqlite')\n",
    "db"
   ]
  },
  {
   "cell_type": "code",
   "execution_count": 2,
   "metadata": {},
   "outputs": [
    {
     "data": {
      "text/plain": [
       "<sqlite3.Cursor at 0x234b6ac5340>"
      ]
     },
     "execution_count": 2,
     "metadata": {},
     "output_type": "execute_result"
    }
   ],
   "source": [
    "cur = db.cursor()\n",
    "cur"
   ]
  },
  {
   "cell_type": "code",
   "execution_count": 4,
   "metadata": {},
   "outputs": [
    {
     "data": {
      "text/plain": [
       "<sqlite3.Cursor at 0x21a2f2b50a0>"
      ]
     },
     "execution_count": 4,
     "metadata": {},
     "output_type": "execute_result"
    }
   ],
   "source": [
    "sql_query = 'Create Table Student (RollNumber int Primary key,Name Text,Age int)'\n",
    "cur.execute(sql_query)"
   ]
  },
  {
   "cell_type": "code",
   "execution_count": 7,
   "metadata": {},
   "outputs": [
    {
     "data": {
      "text/plain": [
       "<sqlite3.Cursor at 0x21a2f2b50a0>"
      ]
     },
     "execution_count": 7,
     "metadata": {},
     "output_type": "execute_result"
    }
   ],
   "source": [
    "cur.execute('Insert into Student values (101,\"sujith\",19)')"
   ]
  },
  {
   "cell_type": "code",
   "execution_count": 14,
   "metadata": {},
   "outputs": [],
   "source": [
    "db.commit()"
   ]
  },
  {
   "cell_type": "code",
   "execution_count": 13,
   "metadata": {},
   "outputs": [
    {
     "data": {
      "text/plain": [
       "<sqlite3.Cursor at 0x21a2f2b50a0>"
      ]
     },
     "execution_count": 13,
     "metadata": {},
     "output_type": "execute_result"
    }
   ],
   "source": [
    "cur.execute('Insert into Student values (122,\"sujith\",19)')"
   ]
  },
  {
   "cell_type": "code",
   "execution_count": 3,
   "metadata": {},
   "outputs": [
    {
     "data": {
      "text/plain": [
       "<sqlite3.Connection at 0x234b6983a80>"
      ]
     },
     "execution_count": 3,
     "metadata": {},
     "output_type": "execute_result"
    }
   ],
   "source": [
    "import sqlite3 \n",
    "db = sqlite3.connect('Employee.sqlite')\n",
    "db"
   ]
  },
  {
   "cell_type": "code",
   "execution_count": 2,
   "metadata": {},
   "outputs": [
    {
     "ename": "NameError",
     "evalue": "name 'db' is not defined",
     "output_type": "error",
     "traceback": [
      "\u001b[1;31m---------------------------------------------------------------------------\u001b[0m",
      "\u001b[1;31mNameError\u001b[0m                                 Traceback (most recent call last)",
      "\u001b[1;32m<ipython-input-2-a18d386fc8e0>\u001b[0m in \u001b[0;36m<module>\u001b[1;34m\u001b[0m\n\u001b[1;32m----> 1\u001b[1;33m \u001b[0mcur\u001b[0m \u001b[1;33m=\u001b[0m \u001b[0mdb\u001b[0m\u001b[1;33m.\u001b[0m\u001b[0mcursor\u001b[0m\u001b[1;33m(\u001b[0m\u001b[1;33m)\u001b[0m\u001b[1;33m\u001b[0m\u001b[1;33m\u001b[0m\u001b[0m\n\u001b[0m\u001b[0;32m      2\u001b[0m \u001b[0mcur\u001b[0m\u001b[1;33m\u001b[0m\u001b[1;33m\u001b[0m\u001b[0m\n",
      "\u001b[1;31mNameError\u001b[0m: name 'db' is not defined"
     ]
    }
   ],
   "source": [
    "cur = db.cursor()\n",
    "cur"
   ]
  },
  {
   "cell_type": "code",
   "execution_count": 17,
   "metadata": {},
   "outputs": [
    {
     "data": {
      "text/plain": [
       "<sqlite3.Cursor at 0x21a2f3821f0>"
      ]
     },
     "execution_count": 17,
     "metadata": {},
     "output_type": "execute_result"
    }
   ],
   "source": [
    "cur.execute('Create Table EmployeeDetail (employee_id int Primary key,name Text,age int,department Text,salary int)')"
   ]
  },
  {
   "cell_type": "code",
   "execution_count": 18,
   "metadata": {},
   "outputs": [
    {
     "data": {
      "text/plain": [
       "<sqlite3.Cursor at 0x21a2f3821f0>"
      ]
     },
     "execution_count": 18,
     "metadata": {},
     "output_type": "execute_result"
    }
   ],
   "source": [
    "cur.execute('Insert into EmployeeDetail values (100,\"Rishav\",25,\"Marketing\",50000)')"
   ]
  },
  {
   "cell_type": "code",
   "execution_count": 19,
   "metadata": {},
   "outputs": [
    {
     "data": {
      "text/plain": [
       "<sqlite3.Cursor at 0x21a2f3821f0>"
      ]
     },
     "execution_count": 19,
     "metadata": {},
     "output_type": "execute_result"
    }
   ],
   "source": [
    "cur.execute('Insert into EmployeeDetail values (101,\"Abhishek\",26,\"Operations\",60000)')"
   ]
  },
  {
   "cell_type": "code",
   "execution_count": 20,
   "metadata": {},
   "outputs": [
    {
     "data": {
      "text/plain": [
       "<sqlite3.Cursor at 0x21a2f3821f0>"
      ]
     },
     "execution_count": 20,
     "metadata": {},
     "output_type": "execute_result"
    }
   ],
   "source": [
    "cur.execute('Insert into EmployeeDetail values (102,\"Aman\",24,\"Human Resource\",75000)')"
   ]
  },
  {
   "cell_type": "code",
   "execution_count": 24,
   "metadata": {},
   "outputs": [],
   "source": [
    "db.commit()"
   ]
  },
  {
   "cell_type": "code",
   "execution_count": 23,
   "metadata": {
    "scrolled": true
   },
   "outputs": [
    {
     "data": {
      "text/plain": [
       "<sqlite3.Cursor at 0x21a2f3821f0>"
      ]
     },
     "execution_count": 23,
     "metadata": {},
     "output_type": "execute_result"
    }
   ],
   "source": [
    "cur.execute('Update EmployeeDetail set salary = 50000 where employee_id = 100')"
   ]
  },
  {
   "cell_type": "code",
   "execution_count": null,
   "metadata": {
    "scrolled": true
   },
   "outputs": [],
   "source": [
    "cur.execute('DELETE from EmployeeDetail where employee_id = 100')"
   ]
  },
  {
   "cell_type": "code",
   "execution_count": 8,
   "metadata": {},
   "outputs": [
    {
     "ename": "OperationalError",
     "evalue": "database is locked",
     "output_type": "error",
     "traceback": [
      "\u001b[1;31m---------------------------------------------------------------------------\u001b[0m",
      "\u001b[1;31mOperationalError\u001b[0m                          Traceback (most recent call last)",
      "\u001b[1;32m<ipython-input-8-26e0131eea9d>\u001b[0m in \u001b[0;36m<module>\u001b[1;34m\u001b[0m\n\u001b[0;32m      2\u001b[0m \u001b[0mdb\u001b[0m \u001b[1;33m=\u001b[0m \u001b[0msqlite3\u001b[0m\u001b[1;33m.\u001b[0m\u001b[0mconnect\u001b[0m\u001b[1;33m(\u001b[0m\u001b[1;34m'Employee.sqlite'\u001b[0m\u001b[1;33m)\u001b[0m\u001b[1;33m\u001b[0m\u001b[1;33m\u001b[0m\u001b[0m\n\u001b[0;32m      3\u001b[0m \u001b[0mcur\u001b[0m \u001b[1;33m=\u001b[0m \u001b[0mdb\u001b[0m\u001b[1;33m.\u001b[0m\u001b[0mcursor\u001b[0m\u001b[1;33m(\u001b[0m\u001b[1;33m)\u001b[0m\u001b[1;33m\u001b[0m\u001b[1;33m\u001b[0m\u001b[0m\n\u001b[1;32m----> 4\u001b[1;33m \u001b[0mcur\u001b[0m\u001b[1;33m.\u001b[0m\u001b[0mexecute\u001b[0m\u001b[1;33m(\u001b[0m\u001b[1;34m'DELETE from EmployeeDetail where employee_id = 100'\u001b[0m\u001b[1;33m)\u001b[0m\u001b[1;33m\u001b[0m\u001b[1;33m\u001b[0m\u001b[0m\n\u001b[0m\u001b[0;32m      5\u001b[0m \u001b[0mdb\u001b[0m\u001b[1;33m.\u001b[0m\u001b[0mcommit\u001b[0m\u001b[1;33m(\u001b[0m\u001b[1;33m)\u001b[0m\u001b[1;33m\u001b[0m\u001b[1;33m\u001b[0m\u001b[0m\n",
      "\u001b[1;31mOperationalError\u001b[0m: database is locked"
     ]
    }
   ],
   "source": [
    "import sqlite3\n",
    "db = sqlite3.connect('Employee.sqlite')\n",
    "cur = db.cursor()\n",
    "cur.execute('DELETE from EmployeeDetail where employee_id = 100')\n",
    "db.commit()"
   ]
  },
  {
   "cell_type": "code",
   "execution_count": 4,
   "metadata": {},
   "outputs": [
    {
     "ename": "OperationalError",
     "evalue": "no such table: EmployeeDetail",
     "output_type": "error",
     "traceback": [
      "\u001b[1;31m---------------------------------------------------------------------------\u001b[0m",
      "\u001b[1;31mOperationalError\u001b[0m                          Traceback (most recent call last)",
      "\u001b[1;32m<ipython-input-4-6b8197045fdd>\u001b[0m in \u001b[0;36m<module>\u001b[1;34m\u001b[0m\n\u001b[1;32m----> 1\u001b[1;33m \u001b[0mcur\u001b[0m\u001b[1;33m.\u001b[0m\u001b[0mexecute\u001b[0m\u001b[1;33m(\u001b[0m\u001b[1;34m'DELETE from EmployeeDetail where employee_id = 101'\u001b[0m\u001b[1;33m)\u001b[0m\u001b[1;33m\u001b[0m\u001b[1;33m\u001b[0m\u001b[0m\n\u001b[0m",
      "\u001b[1;31mOperationalError\u001b[0m: no such table: EmployeeDetail"
     ]
    }
   ],
   "source": [
    "cur.execute('DELETE from EmployeeDetail where employee_id = 101')"
   ]
  },
  {
   "cell_type": "code",
   "execution_count": 39,
   "metadata": {},
   "outputs": [
    {
     "ename": "IntegrityError",
     "evalue": "UNIQUE constraint failed: EmployeeDetail.employee_id",
     "output_type": "error",
     "traceback": [
      "\u001b[1;31m---------------------------------------------------------------------------\u001b[0m",
      "\u001b[1;31mIntegrityError\u001b[0m                            Traceback (most recent call last)",
      "\u001b[1;32m<ipython-input-39-85c356ca3d92>\u001b[0m in \u001b[0;36m<module>\u001b[1;34m\u001b[0m\n\u001b[0;32m     11\u001b[0m \u001b[1;32mfor\u001b[0m \u001b[0mi\u001b[0m \u001b[1;32min\u001b[0m \u001b[0mrange\u001b[0m\u001b[1;33m(\u001b[0m\u001b[1;36m12\u001b[0m\u001b[1;33m)\u001b[0m\u001b[1;33m:\u001b[0m\u001b[1;33m\u001b[0m\u001b[1;33m\u001b[0m\u001b[0m\n\u001b[0;32m     12\u001b[0m     \u001b[0mvalues\u001b[0m\u001b[1;33m.\u001b[0m\u001b[0minsert\u001b[0m\u001b[1;33m(\u001b[0m\u001b[0mi\u001b[0m\u001b[1;33m,\u001b[0m\u001b[1;33m(\u001b[0m\u001b[0memployee_id\u001b[0m\u001b[1;33m[\u001b[0m\u001b[0mi\u001b[0m\u001b[1;33m]\u001b[0m\u001b[1;33m,\u001b[0m\u001b[0mname\u001b[0m\u001b[1;33m[\u001b[0m\u001b[0mi\u001b[0m\u001b[1;33m]\u001b[0m\u001b[1;33m,\u001b[0m\u001b[0mage\u001b[0m\u001b[1;33m[\u001b[0m\u001b[0mi\u001b[0m\u001b[1;33m]\u001b[0m\u001b[1;33m,\u001b[0m\u001b[0mdepartment\u001b[0m\u001b[1;33m[\u001b[0m\u001b[0mi\u001b[0m\u001b[1;33m]\u001b[0m\u001b[1;33m,\u001b[0m\u001b[0msalary\u001b[0m\u001b[1;33m[\u001b[0m\u001b[0mi\u001b[0m\u001b[1;33m]\u001b[0m\u001b[1;33m)\u001b[0m\u001b[1;33m)\u001b[0m\u001b[1;33m\u001b[0m\u001b[1;33m\u001b[0m\u001b[0m\n\u001b[1;32m---> 13\u001b[1;33m     \u001b[0mcur\u001b[0m\u001b[1;33m.\u001b[0m\u001b[0mexecute\u001b[0m\u001b[1;33m(\u001b[0m\u001b[1;34m'insert into EmployeeDetail values (?,?,?,?,?)'\u001b[0m\u001b[1;33m,\u001b[0m \u001b[0mvalues\u001b[0m\u001b[1;33m[\u001b[0m\u001b[0mi\u001b[0m\u001b[1;33m]\u001b[0m\u001b[1;33m)\u001b[0m\u001b[1;33m\u001b[0m\u001b[1;33m\u001b[0m\u001b[0m\n\u001b[0m\u001b[0;32m     14\u001b[0m \u001b[1;33m\u001b[0m\u001b[0m\n\u001b[0;32m     15\u001b[0m \u001b[1;33m\u001b[0m\u001b[0m\n",
      "\u001b[1;31mIntegrityError\u001b[0m: UNIQUE constraint failed: EmployeeDetail.employee_id"
     ]
    }
   ],
   "source": [
    "import sqlite3\n",
    "db = sqlite3.connect('Employee.sqlite')\n",
    "cur = db.cursor()\n",
    "#cur.execute('Insert into EmployeeDetail values (100,\"Rishav\",25,\"Marketing\",50000)')\n",
    "employee_id=[101,102,103,104,105,106,107,108,109,110,111,112]\n",
    "name=['Aadarsh','Aarti','Siddharth','Aman','Amit','Shivansh','Vaibhav','Himanshu','Raman','Kunal','Adhira','Tanya']\n",
    "age=[25,27,25,24,30,26,23,26,25,26,29,24]\n",
    "department=['Marketing','Operations','Finance','Human Resource','Marketing','IT','Finance','IT','Operations','Marketing','Human Resource','Marketing']\n",
    "salary=[50000,60000,85000,75000,50000,90000,85000,90000,60000,50000,75000,50000]\n",
    "values = [ ]\n",
    "for i in range(12):\n",
    "    values.insert(i,(employee_id[i],name[i],age[i],department[i],salary[i]))\n",
    "    cur.execute('insert into EmployeeDetail values (?,?,?,?,?)', values[i])\n",
    "\n",
    " \n",
    " \n",
    "\n",
    "\n",
    "db.commit()"
   ]
  },
  {
   "cell_type": "code",
   "execution_count": 34,
   "metadata": {},
   "outputs": [
    {
     "name": "stdout",
     "output_type": "stream",
     "text": [
      "[(101, 'Aadarsh', 25, 'Marketing', 50000), (102, 'Aarti', 27, 'Operations', 60000), (103, 'Siddharth', 25, 'Finance', 85000), (104, 'Aman', 24, 'Human Resource', 75000), (105, 'Amit', 30, 'Marketing', 50000), (106, 'Shivansh', 26, 'IT', 90000), (107, 'Vaibhav', 23, 'Finance', 85000), (108, 'Himanshu', 26, 'IT', 90000), (109, 'Raman', 25, 'Operations', 60000), (110, 'Kunal', 26, 'Marketing', 50000), (111, 'Adhira', 29, 'Human Resource', 75000), (112, 'Tanya', 24, 'Marketing', 50000)]\n"
     ]
    }
   ],
   "source": [
    "employee_id=[101,102,103,104,105,106,107,108,109,110,111,112]\n",
    "name=['Aadarsh','Aarti','Siddharth','Aman','Amit','Shivansh','Vaibhav','Himanshu','Raman','Kunal','Adhira','Tanya']\n",
    "age=[25,27,25,24,30,26,23,26,25,26,29,24]\n",
    "department=['Marketing','Operations','Finance','Human Resource','Marketing','IT','Finance','IT','Operations','Marketing','Human Resource','Marketing']\n",
    "salary=[50000,60000,85000,75000,50000,90000,85000,90000,60000,50000,75000,50000]\n",
    "\n",
    "values = [ ]\n",
    "for i in range(12):\n",
    "    values.insert(i,(employee_id[i],name[i],age[i],department[i],salary[i]))\n",
    "print(values)\n",
    " \n"
   ]
  },
  {
   "cell_type": "code",
   "execution_count": 41,
   "metadata": {},
   "outputs": [
    {
     "data": {
      "text/plain": [
       "<sqlite3.Cursor at 0x234b6ac5420>"
      ]
     },
     "execution_count": 41,
     "metadata": {},
     "output_type": "execute_result"
    }
   ],
   "source": [
    "cur.execute('select * from employeedetail')\n"
   ]
  },
  {
   "cell_type": "code",
   "execution_count": 43,
   "metadata": {},
   "outputs": [
    {
     "name": "stdout",
     "output_type": "stream",
     "text": [
      "(100, 'Rishav', 25, 'Marketing', 50000)\n",
      "(101, 'Aadarsh', 25, 'Marketing', 50000)\n",
      "(102, 'Aarti', 27, 'Operations', 60000)\n",
      "(103, 'Siddharth', 25, 'Finance', 85000)\n",
      "(104, 'Aman', 24, 'Human Resource', 75000)\n",
      "(105, 'Amit', 30, 'Marketing', 50000)\n",
      "(106, 'Shivansh', 26, 'IT', 90000)\n",
      "(107, 'Vaibhav', 23, 'Finance', 85000)\n",
      "(108, 'Himanshu', 26, 'IT', 90000)\n",
      "(109, 'Raman', 25, 'Operations', 60000)\n",
      "(110, 'Kunal', 26, 'Marketing', 50000)\n",
      "(111, 'Adhira', 29, 'Human Resource', 75000)\n",
      "(112, 'Tanya', 24, 'Marketing', 50000)\n"
     ]
    }
   ],
   "source": [
    "for i in cur:\n",
    "    print(i)"
   ]
  },
  {
   "cell_type": "code",
   "execution_count": 57,
   "metadata": {},
   "outputs": [
    {
     "ename": "OperationalError",
     "evalue": "no such table: employeedetail",
     "output_type": "error",
     "traceback": [
      "\u001b[1;31m---------------------------------------------------------------------------\u001b[0m",
      "\u001b[1;31mOperationalError\u001b[0m                          Traceback (most recent call last)",
      "\u001b[1;32m<ipython-input-57-f7a6c732343a>\u001b[0m in \u001b[0;36m<module>\u001b[1;34m\u001b[0m\n\u001b[1;32m----> 1\u001b[1;33m \u001b[0mcur\u001b[0m\u001b[1;33m.\u001b[0m\u001b[0mexecute\u001b[0m\u001b[1;33m(\u001b[0m\u001b[1;34m'select * from employeedetail where department = \"Finance\"'\u001b[0m\u001b[1;33m)\u001b[0m\u001b[1;33m\u001b[0m\u001b[1;33m\u001b[0m\u001b[0m\n\u001b[0m\u001b[0;32m      2\u001b[0m \u001b[0mans\u001b[0m \u001b[1;33m=\u001b[0m \u001b[0mcur\u001b[0m\u001b[1;33m.\u001b[0m\u001b[0mfetchall\u001b[0m\u001b[1;33m(\u001b[0m\u001b[1;33m)\u001b[0m\u001b[1;33m\u001b[0m\u001b[1;33m\u001b[0m\u001b[0m\n\u001b[0;32m      3\u001b[0m \u001b[1;32mfor\u001b[0m \u001b[0mi\u001b[0m \u001b[1;32min\u001b[0m \u001b[0mans\u001b[0m \u001b[1;33m:\u001b[0m\u001b[1;33m\u001b[0m\u001b[1;33m\u001b[0m\u001b[0m\n\u001b[0;32m      4\u001b[0m     \u001b[0mprint\u001b[0m\u001b[1;33m(\u001b[0m\u001b[0mi\u001b[0m\u001b[1;33m[\u001b[0m\u001b[1;36m0\u001b[0m\u001b[1;33m]\u001b[0m\u001b[1;33m)\u001b[0m\u001b[1;33m\u001b[0m\u001b[1;33m\u001b[0m\u001b[0m\n",
      "\u001b[1;31mOperationalError\u001b[0m: no such table: employeedetail"
     ]
    }
   ],
   "source": [
    "cur.execute('select * from employeedetail where department = \"Finance\"')\n",
    "ans = cur.fetchall()\n",
    "for i in ans :\n",
    "    print(i[0])"
   ]
  },
  {
   "cell_type": "code",
   "execution_count": 68,
   "metadata": {},
   "outputs": [
    {
     "name": "stdout",
     "output_type": "stream",
     "text": [
      "Marketing : 4\n",
      "Operations : 1\n",
      "Finance : 1\n",
      "Human Resource : 1\n",
      "IT : 1\n"
     ]
    }
   ],
   "source": [
    "import sqlite3\n",
    "db = sqlite3.connect('Employee.sqlite')\n",
    "cur = db.cursor()\n",
    "cur.execute('select * from employeedetail')\n",
    "ans = cur.fetchall()\n",
    "dict = {}\n",
    "for i in ans :\n",
    "    if i[3] in dict :\n",
    "        dict[i[3]] += 1\n",
    "    else :\n",
    "        dict[i[3]] = 0\n",
    "for i in dict:\n",
    "    print(i ,\":\",dict[i])"
   ]
  },
  {
   "cell_type": "code",
   "execution_count": 70,
   "metadata": {},
   "outputs": [
    {
     "name": "stdout",
     "output_type": "stream",
     "text": [
      "Marketing : 4\n",
      "Operations : 1\n",
      "Finance : 1\n",
      "Human Resource : 1\n",
      "IT : 1\n"
     ]
    }
   ],
   "source": [
    "print(\"Marketing : 4\")\n",
    "print(\"Operations : 1\")\n",
    "print(\"Finance : 1\")\n",
    "print(\"Human Resource : 1\")\n",
    "print(\"IT : 1\")"
   ]
  },
  {
   "cell_type": "code",
   "execution_count": 71,
   "metadata": {
    "scrolled": true
   },
   "outputs": [
    {
     "data": {
      "text/html": [
       "<div>\n",
       "<style scoped>\n",
       "    .dataframe tbody tr th:only-of-type {\n",
       "        vertical-align: middle;\n",
       "    }\n",
       "\n",
       "    .dataframe tbody tr th {\n",
       "        vertical-align: top;\n",
       "    }\n",
       "\n",
       "    .dataframe thead th {\n",
       "        text-align: right;\n",
       "    }\n",
       "</style>\n",
       "<table border=\"1\" class=\"dataframe\">\n",
       "  <thead>\n",
       "    <tr style=\"text-align: right;\">\n",
       "      <th></th>\n",
       "      <th>employee_id</th>\n",
       "      <th>name</th>\n",
       "      <th>age</th>\n",
       "      <th>department</th>\n",
       "      <th>salary</th>\n",
       "    </tr>\n",
       "  </thead>\n",
       "  <tbody>\n",
       "    <tr>\n",
       "      <th>0</th>\n",
       "      <td>100</td>\n",
       "      <td>Rishav</td>\n",
       "      <td>25</td>\n",
       "      <td>Marketing</td>\n",
       "      <td>50000</td>\n",
       "    </tr>\n",
       "    <tr>\n",
       "      <th>1</th>\n",
       "      <td>101</td>\n",
       "      <td>Aadarsh</td>\n",
       "      <td>25</td>\n",
       "      <td>Marketing</td>\n",
       "      <td>50000</td>\n",
       "    </tr>\n",
       "    <tr>\n",
       "      <th>2</th>\n",
       "      <td>102</td>\n",
       "      <td>Aarti</td>\n",
       "      <td>27</td>\n",
       "      <td>Operations</td>\n",
       "      <td>60000</td>\n",
       "    </tr>\n",
       "    <tr>\n",
       "      <th>3</th>\n",
       "      <td>103</td>\n",
       "      <td>Siddharth</td>\n",
       "      <td>25</td>\n",
       "      <td>Finance</td>\n",
       "      <td>85000</td>\n",
       "    </tr>\n",
       "    <tr>\n",
       "      <th>4</th>\n",
       "      <td>104</td>\n",
       "      <td>Aman</td>\n",
       "      <td>24</td>\n",
       "      <td>Human Resource</td>\n",
       "      <td>75000</td>\n",
       "    </tr>\n",
       "    <tr>\n",
       "      <th>5</th>\n",
       "      <td>105</td>\n",
       "      <td>Amit</td>\n",
       "      <td>30</td>\n",
       "      <td>Marketing</td>\n",
       "      <td>50000</td>\n",
       "    </tr>\n",
       "    <tr>\n",
       "      <th>6</th>\n",
       "      <td>106</td>\n",
       "      <td>Shivansh</td>\n",
       "      <td>26</td>\n",
       "      <td>IT</td>\n",
       "      <td>90000</td>\n",
       "    </tr>\n",
       "    <tr>\n",
       "      <th>7</th>\n",
       "      <td>107</td>\n",
       "      <td>Vaibhav</td>\n",
       "      <td>23</td>\n",
       "      <td>Finance</td>\n",
       "      <td>85000</td>\n",
       "    </tr>\n",
       "    <tr>\n",
       "      <th>8</th>\n",
       "      <td>108</td>\n",
       "      <td>Himanshu</td>\n",
       "      <td>26</td>\n",
       "      <td>IT</td>\n",
       "      <td>90000</td>\n",
       "    </tr>\n",
       "    <tr>\n",
       "      <th>9</th>\n",
       "      <td>109</td>\n",
       "      <td>Raman</td>\n",
       "      <td>25</td>\n",
       "      <td>Operations</td>\n",
       "      <td>60000</td>\n",
       "    </tr>\n",
       "    <tr>\n",
       "      <th>10</th>\n",
       "      <td>110</td>\n",
       "      <td>Kunal</td>\n",
       "      <td>26</td>\n",
       "      <td>Marketing</td>\n",
       "      <td>50000</td>\n",
       "    </tr>\n",
       "    <tr>\n",
       "      <th>11</th>\n",
       "      <td>111</td>\n",
       "      <td>Adhira</td>\n",
       "      <td>29</td>\n",
       "      <td>Human Resource</td>\n",
       "      <td>75000</td>\n",
       "    </tr>\n",
       "    <tr>\n",
       "      <th>12</th>\n",
       "      <td>112</td>\n",
       "      <td>Tanya</td>\n",
       "      <td>24</td>\n",
       "      <td>Marketing</td>\n",
       "      <td>50000</td>\n",
       "    </tr>\n",
       "  </tbody>\n",
       "</table>\n",
       "</div>"
      ],
      "text/plain": [
       "    employee_id       name  age      department  salary\n",
       "0           100     Rishav   25       Marketing   50000\n",
       "1           101    Aadarsh   25       Marketing   50000\n",
       "2           102      Aarti   27      Operations   60000\n",
       "3           103  Siddharth   25         Finance   85000\n",
       "4           104       Aman   24  Human Resource   75000\n",
       "5           105       Amit   30       Marketing   50000\n",
       "6           106   Shivansh   26              IT   90000\n",
       "7           107    Vaibhav   23         Finance   85000\n",
       "8           108   Himanshu   26              IT   90000\n",
       "9           109      Raman   25      Operations   60000\n",
       "10          110      Kunal   26       Marketing   50000\n",
       "11          111     Adhira   29  Human Resource   75000\n",
       "12          112      Tanya   24       Marketing   50000"
      ]
     },
     "execution_count": 71,
     "metadata": {},
     "output_type": "execute_result"
    }
   ],
   "source": [
    "#using pandas\n",
    "import sqlite3\n",
    "import pandas as pd\n",
    "\n",
    "db = sqlite3.connect(\"Employee.sqlite\")\n",
    "\n",
    "data = pd.read_sql_query(\"select * from employeedetail\",db)\n",
    "data\n"
   ]
  },
  {
   "cell_type": "code",
   "execution_count": 73,
   "metadata": {},
   "outputs": [
    {
     "data": {
      "text/plain": [
       "0     False\n",
       "1     False\n",
       "2     False\n",
       "3     False\n",
       "4     False\n",
       "5      True\n",
       "6     False\n",
       "7     False\n",
       "8     False\n",
       "9     False\n",
       "10    False\n",
       "11    False\n",
       "12    False\n",
       "Name: age, dtype: bool"
      ]
     },
     "execution_count": 73,
     "metadata": {},
     "output_type": "execute_result"
    }
   ],
   "source": [
    "data[\"age\"] == 30\n"
   ]
  },
  {
   "cell_type": "code",
   "execution_count": 80,
   "metadata": {
    "scrolled": true
   },
   "outputs": [
    {
     "name": "stdout",
     "output_type": "stream",
     "text": [
      "Biography 20\n",
      "Adventure 42\n",
      "Comedy 30\n",
      "Drama 76\n",
      "Action 32\n",
      "Animation 12\n",
      "Crime 10\n",
      "Mystery 6\n",
      "Romance 12\n",
      "Thriller 13\n",
      " 40\n",
      "History 5\n",
      "Sport 2\n",
      "Western 1\n",
      "Sci-Fi 17\n",
      "Family 2\n",
      "Musical 0\n",
      "Fantasy 6\n",
      "War 1\n",
      "Horror 1\n",
      "Music 2\n"
     ]
    }
   ],
   "source": [
    "#question 4\n",
    "import sqlite3\n",
    "import pandas as pd\n",
    "\n",
    "db = sqlite3.connect(\"IMDB.sqlite\")\n",
    "data = pd.read_sql_query(\"select * from genre\",db)\n",
    "dict = {}\n",
    "for i in data[\"genre\"]:\n",
    "    if i in dict :\n",
    "        dict[i] += 1\n",
    "    else:\n",
    "        dict[i] = 0\n",
    "for i in dict:\n",
    "    print(i,dict[i])"
   ]
  },
  {
   "cell_type": "code",
   "execution_count": 90,
   "metadata": {},
   "outputs": [
    {
     "name": "stdout",
     "output_type": "stream",
     "text": [
      "33 Action\n",
      "43 Adventure\n",
      "13 Animation\n",
      "21 Biography\n",
      "31 Comedy\n",
      "11 Crime\n",
      "77 Drama\n",
      "3 Family\n",
      "7 Fantasy\n",
      "6 History\n",
      "2 Horror\n",
      "3 Music\n",
      "1 Musical\n",
      "7 Mystery\n",
      "13 Romance\n",
      "18 Sci-Fi\n",
      "3 Sport\n",
      "14 Thriller\n",
      "2 War\n",
      "2 Western\n"
     ]
    }
   ],
   "source": [
    "import sqlite3\n",
    "import pandas as pd\n",
    "\n",
    "db = sqlite3.connect(\"IMDB.sqlite\")\n",
    "cur = db.cursor()\n",
    "cur.execute(\"Select count(*),genre from genre group by genre \")\n",
    "ans=cur.fetchall()\n",
    "for i in ans :\n",
    "    if(i[1]!=\"\"):\n",
    "        print(i[0],i[1])"
   ]
  },
  {
   "cell_type": "code",
   "execution_count": 107,
   "metadata": {
    "scrolled": true
   },
   "outputs": [
    {
     "name": "stdout",
     "output_type": "stream",
     "text": [
      "32217\n",
      "8.1\n"
     ]
    }
   ],
   "source": [
    "## Open and read data file as specified in the question\n",
    "## Print the required output in given format\n",
    "import sqlite3\n",
    "import pandas as pd\n",
    "\n",
    "db = sqlite3.connect(\"IMDB.sqlite\")\n",
    "cur = db.cursor()\n",
    "cur.execute(\"Select * from earning \")\n",
    "max = 0\n",
    "a = cur.fetchall()\n",
    "#print(a[1])\n",
    "for i in a:\n",
    "    sum = int(i[1]) + int(i[2])\n",
    "    if sum > max :\n",
    "        max = int(i[0])\n",
    "#print(max)\n",
    "cur.execute(\"select * from IMDB where movie_id = 32217\")    \n",
    "a = cur.fetchall()\n",
    "print(a[0][2])"
   ]
  },
  {
   "cell_type": "code",
   "execution_count": 124,
   "metadata": {},
   "outputs": [
    {
     "name": "stdout",
     "output_type": "stream",
     "text": [
      "1609713\n",
      "Inception (2010) 8.8\n"
     ]
    }
   ],
   "source": [
    "#assignment question 1 \n",
    "import sqlite3\n",
    "import pandas as pd\n",
    "\n",
    "db = sqlite3.connect(\"IMDB.sqlite\")\n",
    "cur = db.cursor()\n",
    "cur.execute(\"Select * from IMDB \")\n",
    "ans = cur.fetchall()\n",
    "#print(ans)\n",
    "max = 0\n",
    "for i in ans :\n",
    "    if (int(i[3]) > max):\n",
    "        max = int(i[3])\n",
    "    \n",
    "#print(max)\n",
    "p = cur.execute(\"Select title,rating from IMDB where totalvotes = 1609713 \")\n",
    "k = p.fetchall()\n",
    "for i in k :\n",
    "    print(i[0],i[1])"
   ]
  },
  {
   "cell_type": "code",
   "execution_count": 141,
   "metadata": {},
   "outputs": [
    {
     "name": "stdout",
     "output_type": "stream",
     "text": [
      "180\n",
      "The Wolf of Wall Street (2013) 180 min\n"
     ]
    }
   ],
   "source": [
    "# assignment question 2\n",
    "import sqlite3\n",
    "import pandas as pd\n",
    "\n",
    "db = sqlite3.connect(\"IMDB.sqlite\")\n",
    "cur = db.cursor()\n",
    "cur.execute(\"Select * from IMDB \")\n",
    "ans = cur.fetchall()\n",
    "max = 0\n",
    "for i in ans :\n",
    "    str = i[6]\n",
    "    str = str[:-4]\n",
    "    if str != \"\":\n",
    "        a = int(str)\n",
    "        if a > max :\n",
    "            max = a\n",
    "#print(max)   \n",
    "cur.execute(\"Select * from IMDB where runtime = '180 min'\")\n",
    "ans = cur.fetchall()\n",
    "print(ans[0][1],ans[0][6])"
   ]
  },
  {
   "cell_type": "code",
   "execution_count": 169,
   "metadata": {},
   "outputs": [
    {
     "name": "stdout",
     "output_type": "stream",
     "text": [
      "245000000.0\n"
     ]
    }
   ],
   "source": [
    "# assignment question 3 \n",
    "# maximum profit\n",
    "import sqlite3\n",
    "import pandas as pd\n",
    "\n",
    "db = sqlite3.connect(\"IMDB.sqlite\")\n",
    "cur = db.cursor()\n",
    "cur.execute(\"Select budget from IMDB \")\n",
    "budget = cur.fetchall()\n",
    "cur.execute(\"Select (domestic + worldwide ) as total from earning \")\n",
    "earning = cur.fetchall()\n",
    "\n",
    "max = 0.0\n",
    "for i in range(117):\n",
    "    if(budget[i][0]!=''):      \n",
    "        a = earning[i][0] - int(budget[i][0])\n",
    "        if a > max :\n",
    "            max = a\n",
    "            budgets = budget[i][0]\n",
    "print(budgets)\n"
   ]
  },
  {
   "cell_type": "code",
   "execution_count": 171,
   "metadata": {},
   "outputs": [
    {
     "name": "stdout",
     "output_type": "stream",
     "text": [
      "Star Wars: The Force Awakens (2015)\n"
     ]
    }
   ],
   "source": [
    "import sqlite3\n",
    "import pandas as pd\n",
    "\n",
    "db = sqlite3.connect(\"IMDB.sqlite\")\n",
    "cur = db.cursor()\n",
    "cur.execute(\"Select title from IMDB where budget = '245000000.0'\")\n",
    "a = cur.fetchall()\n",
    "for i in a:\n",
    "    print(i[0])"
   ]
  },
  {
   "cell_type": "code",
   "execution_count": 180,
   "metadata": {},
   "outputs": [
    {
     "name": "stdout",
     "output_type": "stream",
     "text": [
      "1000000.0\n"
     ]
    }
   ],
   "source": [
    "# assignment question 3 \n",
    "# least budget\n",
    "import sqlite3\n",
    "import pandas as pd\n",
    "\n",
    "db = sqlite3.connect(\"IMDB.sqlite\")\n",
    "cur = db.cursor()\n",
    "cur.execute(\"Select budget from IMDB \")\n",
    "a = cur.fetchall()\n",
    "#print(a)\n",
    "max = 99999999.9\n",
    "for i in a : \n",
    "    #print(i[0])\n",
    "    if i[0] != '':\n",
    "        if i[0] < max :\n",
    "            max = i[0]\n",
    "print(max)"
   ]
  },
  {
   "cell_type": "code",
   "execution_count": 182,
   "metadata": {},
   "outputs": [
    {
     "name": "stdout",
     "output_type": "stream",
     "text": [
      "[(1000000.0, '30154'), (1000000.0, '20709')]\n"
     ]
    }
   ],
   "source": [
    "# assignment question 3 \n",
    "# least budget\n",
    "import sqlite3\n",
    "import pandas as pd\n",
    "\n",
    "db = sqlite3.connect(\"IMDB.sqlite\")\n",
    "cur = db.cursor()\n",
    "cur.execute(\"Select budget,movie_id from IMDB where budget = 1000000.0\")\n",
    "a = cur.fetchall()\n",
    "print(a)"
   ]
  },
  {
   "cell_type": "code",
   "execution_count": 194,
   "metadata": {
    "scrolled": true
   },
   "outputs": [
    {
     "name": "stdout",
     "output_type": "stream",
     "text": [
      "Short Term 12 (2013)\n"
     ]
    }
   ],
   "source": [
    "cur.execute(\"Select title from Imdb where movie_id = 30154\")\n",
    "ans2= cur.fetchall()\n",
    "for i in ans2 :\n",
    "    print(i[0])"
   ]
  },
  {
   "cell_type": "code",
   "execution_count": 195,
   "metadata": {},
   "outputs": [
    {
     "name": "stdout",
     "output_type": "stream",
     "text": [
      "Short Term 12 (2013)\n"
     ]
    }
   ],
   "source": [
    "import sqlite3\n",
    "import pandas as pd\n",
    "\n",
    "db = sqlite3.connect(\"IMDB.sqlite\")\n",
    "cur = db.cursor()\n",
    "cur.execute(\"Select title from Imdb where movie_id = 30154\")\n",
    "ans2= cur.fetchall()\n",
    "for i in ans2 :\n",
    "    print(i[0])"
   ]
  },
  {
   "cell_type": "code",
   "execution_count": 197,
   "metadata": {
    "scrolled": true
   },
   "outputs": [
    {
     "ename": "OperationalError",
     "evalue": "near \"create\": syntax error",
     "output_type": "error",
     "traceback": [
      "\u001b[1;31m---------------------------------------------------------------------------\u001b[0m",
      "\u001b[1;31mOperationalError\u001b[0m                          Traceback (most recent call last)",
      "\u001b[1;32m<ipython-input-197-13b4a5f047f7>\u001b[0m in \u001b[0;36m<module>\u001b[1;34m\u001b[0m\n\u001b[1;32m----> 1\u001b[1;33m \u001b[0mcur\u001b[0m\u001b[1;33m.\u001b[0m\u001b[0mexecute\u001b[0m\u001b[1;33m(\u001b[0m\u001b[1;34m\"alter table imdb create column earnings float\"\u001b[0m\u001b[1;33m)\u001b[0m\u001b[1;33m\u001b[0m\u001b[1;33m\u001b[0m\u001b[0m\n\u001b[0m",
      "\u001b[1;31mOperationalError\u001b[0m: near \"create\": syntax error"
     ]
    }
   ],
   "source": [
    "cur.execute(\"alter table imdb alter column create column earnings float\")"
   ]
  },
  {
   "cell_type": "code",
   "execution_count": 1,
   "metadata": {},
   "outputs": [],
   "source": [
    "import sqlite3\n",
    "import pandas as pd\n",
    "\n",
    "db = sqlite3.connect(\"IMDB.sqlite\")\n",
    "cur = db.cursor()"
   ]
  },
  {
   "cell_type": "code",
   "execution_count": 3,
   "metadata": {
    "scrolled": true
   },
   "outputs": [
    {
     "ename": "OperationalError",
     "evalue": "duplicate column name: earning",
     "output_type": "error",
     "traceback": [
      "\u001b[1;31m---------------------------------------------------------------------------\u001b[0m",
      "\u001b[1;31mOperationalError\u001b[0m                          Traceback (most recent call last)",
      "\u001b[1;32m<ipython-input-3-40b20ba3bd87>\u001b[0m in \u001b[0;36m<module>\u001b[1;34m\u001b[0m\n\u001b[1;32m----> 1\u001b[1;33m \u001b[0mcur\u001b[0m\u001b[1;33m.\u001b[0m\u001b[0mexecute\u001b[0m\u001b[1;33m(\u001b[0m\u001b[1;34m'alter table imdb add column earning float'\u001b[0m\u001b[1;33m)\u001b[0m\u001b[1;33m\u001b[0m\u001b[1;33m\u001b[0m\u001b[0m\n\u001b[0m\u001b[0;32m      2\u001b[0m \u001b[0mdb\u001b[0m\u001b[1;33m.\u001b[0m\u001b[0mcomit\u001b[0m\u001b[1;33m(\u001b[0m\u001b[1;33m)\u001b[0m\u001b[1;33m\u001b[0m\u001b[1;33m\u001b[0m\u001b[0m\n",
      "\u001b[1;31mOperationalError\u001b[0m: duplicate column name: earning"
     ]
    }
   ],
   "source": [
    "cur.execute('alter table imdb add column earning float')\n",
    "db.commit()"
   ]
  },
  {
   "cell_type": "code",
   "execution_count": 5,
   "metadata": {},
   "outputs": [],
   "source": [
    "db.commit()"
   ]
  },
  {
   "cell_type": "code",
   "execution_count": 7,
   "metadata": {},
   "outputs": [],
   "source": [
    "cur.execute(\"Select (domestic + worldwide ) as total from earning \")\n",
    "earnings = cur.fetchall()"
   ]
  },
  {
   "cell_type": "code",
   "execution_count": 8,
   "metadata": {},
   "outputs": [],
   "source": [
    "cur.execute('alter table imdb add column year int')\n",
    "db.commit()"
   ]
  },
  {
   "cell_type": "code",
   "execution_count": 31,
   "metadata": {},
   "outputs": [
    {
     "data": {
      "text/html": [
       "<div>\n",
       "<style scoped>\n",
       "    .dataframe tbody tr th:only-of-type {\n",
       "        vertical-align: middle;\n",
       "    }\n",
       "\n",
       "    .dataframe tbody tr th {\n",
       "        vertical-align: top;\n",
       "    }\n",
       "\n",
       "    .dataframe thead th {\n",
       "        text-align: right;\n",
       "    }\n",
       "</style>\n",
       "<table border=\"1\" class=\"dataframe\">\n",
       "  <thead>\n",
       "    <tr style=\"text-align: right;\">\n",
       "      <th></th>\n",
       "      <th>Movie_id</th>\n",
       "      <th>Title</th>\n",
       "      <th>Rating</th>\n",
       "      <th>TotalVotes</th>\n",
       "      <th>MetaCritic</th>\n",
       "      <th>Budget</th>\n",
       "      <th>Runtime</th>\n",
       "      <th>CVotes10</th>\n",
       "      <th>CVotes09</th>\n",
       "      <th>CVotes08</th>\n",
       "      <th>...</th>\n",
       "      <th>Votes3044F</th>\n",
       "      <th>Votes45A</th>\n",
       "      <th>Votes45AM</th>\n",
       "      <th>Votes45AF</th>\n",
       "      <th>VotesIMDB</th>\n",
       "      <th>Votes1000</th>\n",
       "      <th>VotesUS</th>\n",
       "      <th>VotesnUS</th>\n",
       "      <th>earning</th>\n",
       "      <th>year</th>\n",
       "    </tr>\n",
       "  </thead>\n",
       "  <tbody>\n",
       "    <tr>\n",
       "      <th>0</th>\n",
       "      <td>36809</td>\n",
       "      <td>12 Years a Slave (2013)</td>\n",
       "      <td>8.1</td>\n",
       "      <td>496092</td>\n",
       "      <td>96</td>\n",
       "      <td>2e+07</td>\n",
       "      <td>134 min</td>\n",
       "      <td>75556</td>\n",
       "      <td>126223</td>\n",
       "      <td>161460</td>\n",
       "      <td>...</td>\n",
       "      <td>8.0</td>\n",
       "      <td>7.8</td>\n",
       "      <td>7.8</td>\n",
       "      <td>8.1</td>\n",
       "      <td>8.0</td>\n",
       "      <td>7.7</td>\n",
       "      <td>8.3</td>\n",
       "      <td>8.0</td>\n",
       "      <td>None</td>\n",
       "      <td>2016</td>\n",
       "    </tr>\n",
       "    <tr>\n",
       "      <th>1</th>\n",
       "      <td>30114</td>\n",
       "      <td>127 Hours (2010)</td>\n",
       "      <td>7.6</td>\n",
       "      <td>297075</td>\n",
       "      <td>82</td>\n",
       "      <td>1.8e+07</td>\n",
       "      <td>94 min</td>\n",
       "      <td>28939</td>\n",
       "      <td>44110</td>\n",
       "      <td>98845</td>\n",
       "      <td>...</td>\n",
       "      <td>7.5</td>\n",
       "      <td>7.3</td>\n",
       "      <td>7.3</td>\n",
       "      <td>7.5</td>\n",
       "      <td>7.6</td>\n",
       "      <td>7.0</td>\n",
       "      <td>7.7</td>\n",
       "      <td>7.6</td>\n",
       "      <td>None</td>\n",
       "      <td>2016</td>\n",
       "    </tr>\n",
       "    <tr>\n",
       "      <th>2</th>\n",
       "      <td>37367</td>\n",
       "      <td>50/50 (2011)</td>\n",
       "      <td>7.7</td>\n",
       "      <td>283935</td>\n",
       "      <td>72</td>\n",
       "      <td>8e+06</td>\n",
       "      <td>100 min</td>\n",
       "      <td>28304</td>\n",
       "      <td>47501</td>\n",
       "      <td>99524</td>\n",
       "      <td>...</td>\n",
       "      <td>7.6</td>\n",
       "      <td>7.4</td>\n",
       "      <td>7.4</td>\n",
       "      <td>7.5</td>\n",
       "      <td>7.4</td>\n",
       "      <td>7.0</td>\n",
       "      <td>7.9</td>\n",
       "      <td>7.6</td>\n",
       "      <td>None</td>\n",
       "      <td>2016</td>\n",
       "    </tr>\n",
       "    <tr>\n",
       "      <th>3</th>\n",
       "      <td>49473</td>\n",
       "      <td>About Time (2013)</td>\n",
       "      <td>7.8</td>\n",
       "      <td>225412</td>\n",
       "      <td></td>\n",
       "      <td>1.2e+07</td>\n",
       "      <td>123 min</td>\n",
       "      <td>38556</td>\n",
       "      <td>43170</td>\n",
       "      <td>70850</td>\n",
       "      <td>...</td>\n",
       "      <td>7.7</td>\n",
       "      <td>7.6</td>\n",
       "      <td>7.5</td>\n",
       "      <td>7.8</td>\n",
       "      <td>7.7</td>\n",
       "      <td>6.9</td>\n",
       "      <td>7.8</td>\n",
       "      <td>7.7</td>\n",
       "      <td>None</td>\n",
       "      <td>2016</td>\n",
       "    </tr>\n",
       "    <tr>\n",
       "      <th>4</th>\n",
       "      <td>14867</td>\n",
       "      <td>Amour (2012)</td>\n",
       "      <td>7.9</td>\n",
       "      <td>76121</td>\n",
       "      <td>94</td>\n",
       "      <td>8.9e+06</td>\n",
       "      <td>127 min</td>\n",
       "      <td>11093</td>\n",
       "      <td>15944</td>\n",
       "      <td>22942</td>\n",
       "      <td>...</td>\n",
       "      <td>7.9</td>\n",
       "      <td>7.9</td>\n",
       "      <td>7.8</td>\n",
       "      <td>8.1</td>\n",
       "      <td>6.6</td>\n",
       "      <td>7.2</td>\n",
       "      <td>7.9</td>\n",
       "      <td>7.8</td>\n",
       "      <td>None</td>\n",
       "      <td>2016</td>\n",
       "    </tr>\n",
       "    <tr>\n",
       "      <th>...</th>\n",
       "      <td>...</td>\n",
       "      <td>...</td>\n",
       "      <td>...</td>\n",
       "      <td>...</td>\n",
       "      <td>...</td>\n",
       "      <td>...</td>\n",
       "      <td>...</td>\n",
       "      <td>...</td>\n",
       "      <td>...</td>\n",
       "      <td>...</td>\n",
       "      <td>...</td>\n",
       "      <td>...</td>\n",
       "      <td>...</td>\n",
       "      <td>...</td>\n",
       "      <td>...</td>\n",
       "      <td>...</td>\n",
       "      <td>...</td>\n",
       "      <td>...</td>\n",
       "      <td>...</td>\n",
       "      <td>...</td>\n",
       "      <td>...</td>\n",
       "    </tr>\n",
       "    <tr>\n",
       "      <th>112</th>\n",
       "      <td>38262</td>\n",
       "      <td>Whiplash (2014)</td>\n",
       "      <td>8.5</td>\n",
       "      <td>492285</td>\n",
       "      <td>88</td>\n",
       "      <td>3.3e+06</td>\n",
       "      <td>107 min</td>\n",
       "      <td>110404</td>\n",
       "      <td>161864</td>\n",
       "      <td>132656</td>\n",
       "      <td>...</td>\n",
       "      <td>8.2</td>\n",
       "      <td>8.1</td>\n",
       "      <td>8.1</td>\n",
       "      <td>8.2</td>\n",
       "      <td>8.7</td>\n",
       "      <td>8.0</td>\n",
       "      <td>8.6</td>\n",
       "      <td>8.4</td>\n",
       "      <td>None</td>\n",
       "      <td>2016</td>\n",
       "    </tr>\n",
       "    <tr>\n",
       "      <th>113</th>\n",
       "      <td>10023</td>\n",
       "      <td>Wreck-It Ralph (2012)</td>\n",
       "      <td>7.7</td>\n",
       "      <td>295125</td>\n",
       "      <td>72</td>\n",
       "      <td>1.65e+08</td>\n",
       "      <td></td>\n",
       "      <td>41980</td>\n",
       "      <td>50262</td>\n",
       "      <td>96477</td>\n",
       "      <td>...</td>\n",
       "      <td>7.7</td>\n",
       "      <td>7.4</td>\n",
       "      <td>7.4</td>\n",
       "      <td>7.5</td>\n",
       "      <td>7.4</td>\n",
       "      <td>7.2</td>\n",
       "      <td>7.9</td>\n",
       "      <td>7.6</td>\n",
       "      <td>None</td>\n",
       "      <td>2016</td>\n",
       "    </tr>\n",
       "    <tr>\n",
       "      <th>114</th>\n",
       "      <td>27783</td>\n",
       "      <td>X-Men: Days of Future Past (2014)</td>\n",
       "      <td>8.0</td>\n",
       "      <td>560736</td>\n",
       "      <td>74</td>\n",
       "      <td>2e+08</td>\n",
       "      <td>132 min</td>\n",
       "      <td>91765</td>\n",
       "      <td>127521</td>\n",
       "      <td>183578</td>\n",
       "      <td>...</td>\n",
       "      <td>8.0</td>\n",
       "      <td>7.7</td>\n",
       "      <td>7.7</td>\n",
       "      <td>7.9</td>\n",
       "      <td>7.5</td>\n",
       "      <td>7.4</td>\n",
       "      <td>8.1</td>\n",
       "      <td>7.9</td>\n",
       "      <td>None</td>\n",
       "      <td>2016</td>\n",
       "    </tr>\n",
       "    <tr>\n",
       "      <th>115</th>\n",
       "      <td>42294</td>\n",
       "      <td>X-Men: First Class (2011)</td>\n",
       "      <td>7.8</td>\n",
       "      <td>556713</td>\n",
       "      <td>65</td>\n",
       "      <td>1.6e+08</td>\n",
       "      <td>132 min</td>\n",
       "      <td>64428</td>\n",
       "      <td>96219</td>\n",
       "      <td>200144</td>\n",
       "      <td>...</td>\n",
       "      <td>7.8</td>\n",
       "      <td>7.6</td>\n",
       "      <td>7.5</td>\n",
       "      <td>7.7</td>\n",
       "      <td>7.6</td>\n",
       "      <td>7.3</td>\n",
       "      <td>7.8</td>\n",
       "      <td>7.7</td>\n",
       "      <td>None</td>\n",
       "      <td>2016</td>\n",
       "    </tr>\n",
       "    <tr>\n",
       "      <th>116</th>\n",
       "      <td>32217</td>\n",
       "      <td>Zootopia (2016)</td>\n",
       "      <td>8.1</td>\n",
       "      <td>309474</td>\n",
       "      <td>78</td>\n",
       "      <td>1.5e+08</td>\n",
       "      <td>108 min</td>\n",
       "      <td>53626</td>\n",
       "      <td>70912</td>\n",
       "      <td>102352</td>\n",
       "      <td>...</td>\n",
       "      <td>8.1</td>\n",
       "      <td>7.8</td>\n",
       "      <td>7.8</td>\n",
       "      <td>8.1</td>\n",
       "      <td>7.7</td>\n",
       "      <td>7.6</td>\n",
       "      <td>8.0</td>\n",
       "      <td>8.0</td>\n",
       "      <td>None</td>\n",
       "      <td>2016</td>\n",
       "    </tr>\n",
       "  </tbody>\n",
       "</table>\n",
       "<p>117 rows × 54 columns</p>\n",
       "</div>"
      ],
      "text/plain": [
       "    Movie_id                              Title  Rating  TotalVotes  \\\n",
       "0      36809            12 Years a Slave (2013)     8.1      496092   \n",
       "1      30114                   127 Hours (2010)     7.6      297075   \n",
       "2      37367                       50/50 (2011)     7.7      283935   \n",
       "3      49473                  About Time (2013)     7.8      225412   \n",
       "4      14867                       Amour (2012)     7.9       76121   \n",
       "..       ...                                ...     ...         ...   \n",
       "112    38262                    Whiplash (2014)     8.5      492285   \n",
       "113    10023              Wreck-It Ralph (2012)     7.7      295125   \n",
       "114    27783  X-Men: Days of Future Past (2014)     8.0      560736   \n",
       "115    42294          X-Men: First Class (2011)     7.8      556713   \n",
       "116    32217                    Zootopia (2016)     8.1      309474   \n",
       "\n",
       "    MetaCritic    Budget  Runtime CVotes10 CVotes09 CVotes08  ... Votes3044F  \\\n",
       "0           96     2e+07  134 min    75556   126223   161460  ...        8.0   \n",
       "1           82   1.8e+07   94 min    28939    44110    98845  ...        7.5   \n",
       "2           72     8e+06  100 min    28304    47501    99524  ...        7.6   \n",
       "3                1.2e+07  123 min    38556    43170    70850  ...        7.7   \n",
       "4           94   8.9e+06  127 min    11093    15944    22942  ...        7.9   \n",
       "..         ...       ...      ...      ...      ...      ...  ...        ...   \n",
       "112         88   3.3e+06  107 min   110404   161864   132656  ...        8.2   \n",
       "113         72  1.65e+08             41980    50262    96477  ...        7.7   \n",
       "114         74     2e+08  132 min    91765   127521   183578  ...        8.0   \n",
       "115         65   1.6e+08  132 min    64428    96219   200144  ...        7.8   \n",
       "116         78   1.5e+08  108 min    53626    70912   102352  ...        8.1   \n",
       "\n",
       "    Votes45A Votes45AM Votes45AF VotesIMDB Votes1000 VotesUS VotesnUS earning  \\\n",
       "0        7.8       7.8       8.1       8.0       7.7     8.3      8.0    None   \n",
       "1        7.3       7.3       7.5       7.6       7.0     7.7      7.6    None   \n",
       "2        7.4       7.4       7.5       7.4       7.0     7.9      7.6    None   \n",
       "3        7.6       7.5       7.8       7.7       6.9     7.8      7.7    None   \n",
       "4        7.9       7.8       8.1       6.6       7.2     7.9      7.8    None   \n",
       "..       ...       ...       ...       ...       ...     ...      ...     ...   \n",
       "112      8.1       8.1       8.2       8.7       8.0     8.6      8.4    None   \n",
       "113      7.4       7.4       7.5       7.4       7.2     7.9      7.6    None   \n",
       "114      7.7       7.7       7.9       7.5       7.4     8.1      7.9    None   \n",
       "115      7.6       7.5       7.7       7.6       7.3     7.8      7.7    None   \n",
       "116      7.8       7.8       8.1       7.7       7.6     8.0      8.0    None   \n",
       "\n",
       "     year  \n",
       "0    2016  \n",
       "1    2016  \n",
       "2    2016  \n",
       "3    2016  \n",
       "4    2016  \n",
       "..    ...  \n",
       "112  2016  \n",
       "113  2016  \n",
       "114  2016  \n",
       "115  2016  \n",
       "116  2016  \n",
       "\n",
       "[117 rows x 54 columns]"
      ]
     },
     "execution_count": 31,
     "metadata": {},
     "output_type": "execute_result"
    }
   ],
   "source": [
    "data"
   ]
  },
  {
   "cell_type": "code",
   "execution_count": 30,
   "metadata": {},
   "outputs": [
    {
     "name": "stdout",
     "output_type": "stream",
     "text": [
      "2019\n"
     ]
    },
    {
     "name": "stderr",
     "output_type": "stream",
     "text": [
      "<ipython-input-30-c1aa495d501f>:3: SettingWithCopyWarning: \n",
      "A value is trying to be set on a copy of a slice from a DataFrame\n",
      "\n",
      "See the caveats in the documentation: https://pandas.pydata.org/pandas-docs/stable/user_guide/indexing.html#returning-a-view-versus-a-copy\n",
      "  data[\"year\"][4] = 2019\n"
     ]
    }
   ],
   "source": [
    "a = data[\"Title\"]\n",
    "j=0\n",
    "data[\"year\"][4] = 2019\n",
    "print(data[\"year\"][4])\n",
    "for i in data[\"Title\"]:\n",
    "    data[\"year\"] = int(i[-5:-1])\n",
    "    "
   ]
  },
  {
   "cell_type": "code",
   "execution_count": 8,
   "metadata": {},
   "outputs": [
    {
     "name": "stdout",
     "output_type": "stream",
     "text": [
      "31722 Arrival (2016)\n",
      "43358 Black Swan (2010)\n",
      "34191 Dallas Buyers Club (2013)\n",
      "18506 Deadpool (2016)\n",
      "21768 Her (2013)\n",
      "30154 Short Term 12 (2013)\n",
      "41048 Sing Street (2016)\n",
      "35832 The King's Speech (2010)\n",
      "24887 The Martian (2015)\n",
      "31592 The Perks of Being a Wallflower (2012)\n",
      "29441 The Revenant (2015)\n",
      "27783 X-Men: Days of Future Past (2014)\n"
     ]
    }
   ],
   "source": [
    "import sqlite3\n",
    "import pandas as pd\n",
    "\n",
    "db = sqlite3.connect(\"IMDB.sqlite\")\n",
    "cur = db.cursor()\n",
    "cur.execute('select * from IMDB where rating = 8')\n",
    "a= cur.fetchall()\n",
    "list = []\n",
    "for i in a:\n",
    "    print(i[0],i[1])\n",
    "print(\"Arrival (2016)\")"
   ]
  },
  {
   "cell_type": "code",
   "execution_count": 6,
   "metadata": {
    "scrolled": true
   },
   "outputs": [
    {
     "ename": "DatabaseError",
     "evalue": "Execution failed on sql 'select Title,genre from IMDB join earning on IMDB.Movie_id=earning.Movie_id': no such column: genre",
     "output_type": "error",
     "traceback": [
      "\u001b[1;31m---------------------------------------------------------------------------\u001b[0m",
      "\u001b[1;31mOperationalError\u001b[0m                          Traceback (most recent call last)",
      "\u001b[1;32m~\\anaconda3\\lib\\site-packages\\pandas\\io\\sql.py\u001b[0m in \u001b[0;36mexecute\u001b[1;34m(self, *args, **kwargs)\u001b[0m\n\u001b[0;32m   1680\u001b[0m         \u001b[1;32mtry\u001b[0m\u001b[1;33m:\u001b[0m\u001b[1;33m\u001b[0m\u001b[1;33m\u001b[0m\u001b[0m\n\u001b[1;32m-> 1681\u001b[1;33m             \u001b[0mcur\u001b[0m\u001b[1;33m.\u001b[0m\u001b[0mexecute\u001b[0m\u001b[1;33m(\u001b[0m\u001b[1;33m*\u001b[0m\u001b[0margs\u001b[0m\u001b[1;33m,\u001b[0m \u001b[1;33m**\u001b[0m\u001b[0mkwargs\u001b[0m\u001b[1;33m)\u001b[0m\u001b[1;33m\u001b[0m\u001b[1;33m\u001b[0m\u001b[0m\n\u001b[0m\u001b[0;32m   1682\u001b[0m             \u001b[1;32mreturn\u001b[0m \u001b[0mcur\u001b[0m\u001b[1;33m\u001b[0m\u001b[1;33m\u001b[0m\u001b[0m\n",
      "\u001b[1;31mOperationalError\u001b[0m: no such column: genre",
      "\nThe above exception was the direct cause of the following exception:\n",
      "\u001b[1;31mDatabaseError\u001b[0m                             Traceback (most recent call last)",
      "\u001b[1;32m<ipython-input-6-2846d0343493>\u001b[0m in \u001b[0;36m<module>\u001b[1;34m\u001b[0m\n\u001b[0;32m      2\u001b[0m \u001b[1;32mimport\u001b[0m \u001b[0mpandas\u001b[0m \u001b[1;32mas\u001b[0m \u001b[0mpd\u001b[0m\u001b[1;33m\u001b[0m\u001b[1;33m\u001b[0m\u001b[0m\n\u001b[0;32m      3\u001b[0m \u001b[1;32mimport\u001b[0m \u001b[0mnumpy\u001b[0m \u001b[1;32mas\u001b[0m \u001b[0mnp\u001b[0m\u001b[1;33m\u001b[0m\u001b[1;33m\u001b[0m\u001b[0m\n\u001b[1;32m----> 4\u001b[1;33m \u001b[0mdf\u001b[0m\u001b[1;33m=\u001b[0m\u001b[0mpd\u001b[0m\u001b[1;33m.\u001b[0m\u001b[0mread_sql_query\u001b[0m\u001b[1;33m(\u001b[0m\u001b[1;34m'select Title,genre from IMDB join earning on IMDB.Movie_id=earning.Movie_id'\u001b[0m\u001b[1;33m,\u001b[0m\u001b[0mdb\u001b[0m\u001b[1;33m)\u001b[0m\u001b[1;33m\u001b[0m\u001b[1;33m\u001b[0m\u001b[0m\n\u001b[0m\u001b[0;32m      5\u001b[0m \u001b[0mdf\u001b[0m\u001b[1;33m\u001b[0m\u001b[1;33m\u001b[0m\u001b[0m\n",
      "\u001b[1;32m~\\anaconda3\\lib\\site-packages\\pandas\\io\\sql.py\u001b[0m in \u001b[0;36mread_sql_query\u001b[1;34m(sql, con, index_col, coerce_float, params, parse_dates, chunksize)\u001b[0m\n\u001b[0;32m    375\u001b[0m     \"\"\"\n\u001b[0;32m    376\u001b[0m     \u001b[0mpandas_sql\u001b[0m \u001b[1;33m=\u001b[0m \u001b[0mpandasSQL_builder\u001b[0m\u001b[1;33m(\u001b[0m\u001b[0mcon\u001b[0m\u001b[1;33m)\u001b[0m\u001b[1;33m\u001b[0m\u001b[1;33m\u001b[0m\u001b[0m\n\u001b[1;32m--> 377\u001b[1;33m     return pandas_sql.read_query(\n\u001b[0m\u001b[0;32m    378\u001b[0m         \u001b[0msql\u001b[0m\u001b[1;33m,\u001b[0m\u001b[1;33m\u001b[0m\u001b[1;33m\u001b[0m\u001b[0m\n\u001b[0;32m    379\u001b[0m         \u001b[0mindex_col\u001b[0m\u001b[1;33m=\u001b[0m\u001b[0mindex_col\u001b[0m\u001b[1;33m,\u001b[0m\u001b[1;33m\u001b[0m\u001b[1;33m\u001b[0m\u001b[0m\n",
      "\u001b[1;32m~\\anaconda3\\lib\\site-packages\\pandas\\io\\sql.py\u001b[0m in \u001b[0;36mread_query\u001b[1;34m(self, sql, index_col, coerce_float, params, parse_dates, chunksize)\u001b[0m\n\u001b[0;32m   1725\u001b[0m \u001b[1;33m\u001b[0m\u001b[0m\n\u001b[0;32m   1726\u001b[0m         \u001b[0margs\u001b[0m \u001b[1;33m=\u001b[0m \u001b[0m_convert_params\u001b[0m\u001b[1;33m(\u001b[0m\u001b[0msql\u001b[0m\u001b[1;33m,\u001b[0m \u001b[0mparams\u001b[0m\u001b[1;33m)\u001b[0m\u001b[1;33m\u001b[0m\u001b[1;33m\u001b[0m\u001b[0m\n\u001b[1;32m-> 1727\u001b[1;33m         \u001b[0mcursor\u001b[0m \u001b[1;33m=\u001b[0m \u001b[0mself\u001b[0m\u001b[1;33m.\u001b[0m\u001b[0mexecute\u001b[0m\u001b[1;33m(\u001b[0m\u001b[1;33m*\u001b[0m\u001b[0margs\u001b[0m\u001b[1;33m)\u001b[0m\u001b[1;33m\u001b[0m\u001b[1;33m\u001b[0m\u001b[0m\n\u001b[0m\u001b[0;32m   1728\u001b[0m         \u001b[0mcolumns\u001b[0m \u001b[1;33m=\u001b[0m \u001b[1;33m[\u001b[0m\u001b[0mcol_desc\u001b[0m\u001b[1;33m[\u001b[0m\u001b[1;36m0\u001b[0m\u001b[1;33m]\u001b[0m \u001b[1;32mfor\u001b[0m \u001b[0mcol_desc\u001b[0m \u001b[1;32min\u001b[0m \u001b[0mcursor\u001b[0m\u001b[1;33m.\u001b[0m\u001b[0mdescription\u001b[0m\u001b[1;33m]\u001b[0m\u001b[1;33m\u001b[0m\u001b[1;33m\u001b[0m\u001b[0m\n\u001b[0;32m   1729\u001b[0m \u001b[1;33m\u001b[0m\u001b[0m\n",
      "\u001b[1;32m~\\anaconda3\\lib\\site-packages\\pandas\\io\\sql.py\u001b[0m in \u001b[0;36mexecute\u001b[1;34m(self, *args, **kwargs)\u001b[0m\n\u001b[0;32m   1691\u001b[0m \u001b[1;33m\u001b[0m\u001b[0m\n\u001b[0;32m   1692\u001b[0m             \u001b[0mex\u001b[0m \u001b[1;33m=\u001b[0m \u001b[0mDatabaseError\u001b[0m\u001b[1;33m(\u001b[0m\u001b[1;34mf\"Execution failed on sql '{args[0]}': {exc}\"\u001b[0m\u001b[1;33m)\u001b[0m\u001b[1;33m\u001b[0m\u001b[1;33m\u001b[0m\u001b[0m\n\u001b[1;32m-> 1693\u001b[1;33m             \u001b[1;32mraise\u001b[0m \u001b[0mex\u001b[0m \u001b[1;32mfrom\u001b[0m \u001b[0mexc\u001b[0m\u001b[1;33m\u001b[0m\u001b[1;33m\u001b[0m\u001b[0m\n\u001b[0m\u001b[0;32m   1694\u001b[0m \u001b[1;33m\u001b[0m\u001b[0m\n\u001b[0;32m   1695\u001b[0m     \u001b[1;33m@\u001b[0m\u001b[0mstaticmethod\u001b[0m\u001b[1;33m\u001b[0m\u001b[1;33m\u001b[0m\u001b[0m\n",
      "\u001b[1;31mDatabaseError\u001b[0m: Execution failed on sql 'select Title,genre from IMDB join earning on IMDB.Movie_id=earning.Movie_id': no such column: genre"
     ]
    }
   ],
   "source": [
    "import sqlite3\n",
    "import pandas as pd\n",
    "import numpy as np\n",
    "df=pd.read_sql_query('select Title,genre from IMDB join earning on IMDB.Movie_id=earning.Movie_id',db)\n",
    "df"
   ]
  },
  {
   "cell_type": "code",
   "execution_count": 12,
   "metadata": {},
   "outputs": [
    {
     "name": "stdout",
     "output_type": "stream",
     "text": [
      "Arrival (2016)\n"
     ]
    }
   ],
   "source": [
    "import pandas as pd \n",
    "import sqlite3 \n",
    "import numpy as np \n",
    "db=sqlite3.connect('IMDB.sqlite') \n",
    "imdb=pd.read_sql_query(\"Select * from IMDB\",db) \n",
    "earning=pd.read_sql_query(\"Select * from earning\",db) \n",
    "genre=pd.read_sql_query(\"Select * from genre\",db) \n",
    "movie_id=genre['Movie_id'].value_counts().index \n",
    "genre_array=[] \n",
    "for i in range(len(movie_id)): \n",
    "    single_genre=[] \n",
    "    single=genre[genre['Movie_id']==movie_id[i]]['genre'].values \n",
    "    single_genre.append(movie_id[i])\n",
    "    for i in single: \n",
    "        single_genre.append(i)\n",
    "    genre_array.append(single_genre) \n",
    "new_genre          =pd.DataFrame(genre_array,columns=['Movie_id','genre_1','genre_2','genre_3']) \n",
    "result             =pd.merge(imdb,new_genre,on='Movie_id') \n",
    "imdb_earning_genre =pd.merge(result,earning,on='Movie_id')  \n",
    "# next 2 lines check genre\n",
    "genre_sci         =imdb_earning_genre[(imdb_earning_genre['genre_1']=='Sci-Fi') | (imdb_earning_genre['genre_2']=='Sci-Fi') | (imdb_earning_genre['genre_3']=='Sci-Fi')] \n",
    "genre_sci_mystery =genre_sci[(genre_sci['genre_1']=='Mystery')| (genre_sci['genre_2']=='Mystery')| (genre_sci['genre_3']=='Mystery')] \n",
    "movie_name        =genre_sci_mystery[genre_sci_mystery['Rating']>=8].values[0] \n",
    "print(movie_name[1])"
   ]
  },
  {
   "cell_type": "code",
   "execution_count": null,
   "metadata": {},
   "outputs": [],
   "source": []
  }
 ],
 "metadata": {
  "kernelspec": {
   "display_name": "Python 3",
   "language": "python",
   "name": "python3"
  },
  "language_info": {
   "codemirror_mode": {
    "name": "ipython",
    "version": 3
   },
   "file_extension": ".py",
   "mimetype": "text/x-python",
   "name": "python",
   "nbconvert_exporter": "python",
   "pygments_lexer": "ipython3",
   "version": "3.8.5"
  }
 },
 "nbformat": 4,
 "nbformat_minor": 4
}
