{
 "cells": [
  {
   "cell_type": "markdown",
   "metadata": {},
   "source": [
    "The dataset is highly skewed toward the cities included in Delhi-NCR. So, we will summarise all the other cities in Rest of India while those in New Delhi, Ghaziabad, Noida, Gurgaon, Faridabad to Delhi-NCR. Doing this would make our analysis turn toward Delhi-NCR v Rest of India.\n",
    "Plot the bar graph of number of restaurants present in Delhi NCR vs Rest of India.\n",
    "Find the cuisines which are not present in restaurant of Delhi NCR but present in rest of India.Check using Zomato API whether this cuisines are actually not served in restaurants of Delhi-NCR or just it due to incomplete dataset.\n",
    "Find the top 10 cuisines served by maximum number of restaurants in Delhi NCR and rest of India.\n",
    "Write a short detailed analysis of how cuisine served is different from Delhi NCR to Rest of India. Plot the suitable graph to explain your inference.\n",
    "User Rating of a restaurant plays a crucial role in selecting a restaurant or ordering the food from the restaurant.\n",
    "Write a short detail analysis of how the rating is affected by restaurant due following features: Plot a suitable graph to explain your inference.\n",
    "Number of Votes given Restaurant\n",
    "Restaurant serving more number of cuisines.\n",
    "Average Cost of Restaurant\n",
    "Restaurant serving some specific cuisines.\n",
    "Find the weighted restaurant rating of each locality and find out the top 10 localities with more weighted restaurant rating?\n",
    "Weighted Restaurant Rating=Σ (number of votes * rating) / Σ (number of votes) .\n",
    "Visualization\n",
    "Plot the bar graph top 15 restaurants have a maximum number of outlets.\n",
    "Plot the histogram of aggregate rating of restaurant( drop the unrated restaurant).\n",
    "Plot the bar graph top 10 restaurants in the data with the highest number of votes.\n",
    "Plot the pie graph of top 10 cuisines present in restaurants in the USA.\n",
    "Plot the bubble graph of a number of Restaurants present in the city of India and keeping the weighted restaurant rating of the city in a bubble."
   ]
  },
  {
   "cell_type": "code",
   "execution_count": 2,
   "metadata": {
    "scrolled": true
   },
   "outputs": [],
   "source": [
    "import pandas as pd \n",
    "import matplotlib.pyplot as plt\n",
    "df = pd.read_csv('zomato.csv',encoding='latin-1')\n",
    "\n"
   ]
  },
  {
   "cell_type": "code",
   "execution_count": 3,
   "metadata": {},
   "outputs": [],
   "source": [
    "df.dropna(inplace=True)\n",
    "df.reset_index(inplace = True)"
   ]
  },
  {
   "cell_type": "code",
   "execution_count": 4,
   "metadata": {},
   "outputs": [],
   "source": [
    "df\n",
    "del df['index']\n"
   ]
  },
  {
   "cell_type": "code",
   "execution_count": 5,
   "metadata": {},
   "outputs": [
    {
     "data": {
      "text/plain": [
       "<function matplotlib.pyplot.show(close=None, block=None)>"
      ]
     },
     "execution_count": 5,
     "metadata": {},
     "output_type": "execute_result"
    },
    {
     "data": {
      "image/png": "[encoded data removed]",
      "text/plain": [
       "<Figure size 432x288 with 1 Axes>"
      ]
     },
     "metadata": {
      "needs_background": "light"
     },
     "output_type": "display_data"
    }
   ],
   "source": [
    "#df\n",
    "india_df = df[df['Country Code'] == 1]\n",
    "newdelhi_df=india_df[india_df['City']=='New Delhi']['City'].count()\n",
    "ghaziabad_df=india_df[india_df['City']=='Ghaziabad']['City'].count()\n",
    "noida_df=india_df[india_df['City']=='Noida']['City'].count()\n",
    "gurgaon_df=india_df[india_df['City']=='Gurgaon']['City'].count()\n",
    "faridabad_df=india_df[india_df['City']=='Faridabad']['City'].count()\n",
    "ncr_count=newdelhi_df+ghaziabad_df+noida_df+gurgaon_df+faridabad_df\n",
    "total_india=india_df['City'].count()\n",
    "y = ncr_count,total_india - ncr_count\n",
    "x = ['ncr_count','rest of india']\n",
    "plt.bar(x,y)\n",
    "plt.show"
   ]
  },
  {
   "cell_type": "code",
   "execution_count": 24,
   "metadata": {},
   "outputs": [
    {
     "name": "stdout",
     "output_type": "stream",
     "text": [
      "856     Chinese, Fast Food, Bakery\n",
      "857          North Indian, Chinese\n",
      "858                   North Indian\n",
      "859                   North Indian\n",
      "860                         Bakery\n",
      "                   ...            \n",
      "9099         North Indian, Chinese\n",
      "9100                     Fast Food\n",
      "9101                     Fast Food\n",
      "9102         North Indian, Chinese\n",
      "9103          Raw Meats, Fast Food\n",
      "Name: Cuisines, Length: 7947, dtype: object\n"
     ]
    }
   ],
   "source": [
    "#cuisines which are not present in the ncr but present in rest of india \n",
    "#print(india_df)\n",
    "target=['New Delhi','Ghaziabad','Faridabad','Noida','Gurgaon']\n",
    "ncr_cuisines=india_df[(india_df['City']=='New Delhi') | (india_df['City']=='Noida')|(india_df['City']=='Ghaziabad')|(india_df['City']=='Gurgaon') | (india_df['City']=='Faridabad')]['Cuisines']\n",
    "#print(ncr_cuisines)\n"
   ]
  },
  {
   "cell_type": "code",
   "execution_count": 41,
   "metadata": {},
   "outputs": [],
   "source": [
    "lists = []\n",
    "for ele in ncr_cuisines:\n",
    "    #print(ele)\n",
    "    \n",
    "    for i in ele.split(','):\n",
    "        j=[x.strip() for x in ele.split(',')]\n",
    "    for i in j:\n",
    "        lists.append(i)\n",
    "#print(list)\n",
    "#removing duplicates "
   ]
  },
  {
   "cell_type": "code",
   "execution_count": 47,
   "metadata": {},
   "outputs": [],
   "source": [
    "del list"
   ]
  },
  {
   "cell_type": "code",
   "execution_count": 48,
   "metadata": {},
   "outputs": [
    {
     "name": "stdout",
     "output_type": "stream",
     "text": [
      "{'Chettinad', 'Healthy Food', 'Burger', 'Parsi', 'Persian', 'Modern Indian', 'Goan', 'Bihari', 'Italian', 'Bengali', 'Charcoal Grill', 'Deli', 'Thai', 'Maharashtrian', 'Pizza', 'Lebanese', 'Andhra', 'Afghani', 'South Indian', 'Indonesian', 'Biryani', 'Street Food', 'Desserts', 'Sri Lankan', 'Japanese', 'Moroccan', 'Raw Meats', 'Spanish', 'Sandwich', 'Salad', 'Naga', 'Cuisine Varies', 'Kashmiri', 'Tea', 'Mughlai', 'Greek', 'Arabian', 'Ice Cream', 'Indian', 'Sushi', 'Asian', 'Hyderabadi', 'European', 'Fast Food', 'Burmese', 'North Eastern', 'Mithai', 'Middle Eastern', 'Turkish', 'British', 'Cafe', 'Belgian', 'Vietnamese', 'Beverages', 'Korean', 'African', 'Steak', 'Nepalese', 'Juices', 'Mediterranean', 'Tibetan', 'Rajasthani', 'French', 'Continental', 'Seafood', 'Drinks Only', 'Portuguese', 'Mexican', 'South American', 'Armenian', 'Kerala', 'North Indian', 'Gujarati', 'Malaysian', 'Assamese', 'Lucknowi', 'Awadhi', 'Tex-Mex', 'Pakistani', 'Bakery', 'Mangalorean', 'Chinese', 'American', 'Finger Food', 'Iranian', 'Oriya'}\n"
     ]
    }
   ],
   "source": [
    "list_ncr = set(lists)\n",
    "#print(list_ncr)\n",
    "list_ncr = list(list_ncr)"
   ]
  },
  {
   "cell_type": "code",
   "execution_count": 60,
   "metadata": {},
   "outputs": [
    {
     "name": "stdout",
     "output_type": "stream",
     "text": [
      "Cajun\n",
      "BBQ\n",
      "Malwani\n",
      "German\n"
     ]
    }
   ],
   "source": [
    "rest_cuisines=list(india_df[(india_df['City']!='New Delhi') | (india_df['City']!='Noida')|(india_df['City']!='Ghaziabad')|(india_df['City']!='Gurgaon') | (india_df['City']!='Faridabad')]['Cuisines'])\n",
    "listss = []\n",
    "#for cuisines which are not in ncr but rest of india \n",
    "for ele in rest_cuisines:\n",
    "    j=[x.strip() for x in ele.split(',')]\n",
    "    for k in j:\n",
    "        #print(k)\n",
    "        if k not in list_ncr:\n",
    "            listss.append(k)\n",
    "            #print(listss)\n",
    "listss = list(set(listss))\n",
    "#cuisines which are not in ncr are but in rest of india are \n",
    "for ele in listss: \n",
    "    print(ele)\n"
   ]
  },
  {
   "cell_type": "code",
   "execution_count": 64,
   "metadata": {},
   "outputs": [
    {
     "name": "stdout",
     "output_type": "stream",
     "text": [
      "Afghan\n",
      "African\n",
      "American\n",
      "Andhra\n",
      "Arabian\n",
      "Asian\n",
      "Assamese\n",
      "Awadhi\n",
      "BBQ\n",
      "Bakery\n",
      "Bar Food\n",
      "Belgian\n",
      "Bengali\n",
      "Beverages\n",
      "Bihari\n",
      "Biryani\n",
      "Brazilian\n",
      "British\n",
      "Bubble Tea\n",
      "Burger\n",
      "Burmese\n",
      "Cafe\n",
      "Cantonese\n",
      "Charcoal Chicken\n",
      "Chettinad\n",
      "Chinese\n",
      "Coffee\n",
      "Continental\n",
      "Cuisine Varies\n",
      "Desserts\n",
      "Drinks Only\n",
      "Egyptian\n",
      "Ethiopian\n",
      "European\n",
      "Fast Food\n",
      "Finger Food\n",
      "French\n",
      "Frozen Yogurt\n",
      "Garhwali\n",
      "Goan\n",
      "Greek\n",
      "Gujarati\n",
      "Healthy Food\n",
      "Himachali\n",
      "Hot dogs\n",
      "Hyderabadi\n",
      "Ice Cream\n",
      "Indonesian\n",
      "Iranian\n",
      "Israeli\n",
      "Italian\n",
      "Jamaican\n",
      "Japanese\n",
      "Juices\n",
      "Kashmiri\n",
      "Kebab\n",
      "Kerala\n",
      "Korean\n",
      "Lebanese\n",
      "Lucknowi\n",
      "Maharashtrian\n",
      "Malaysian\n",
      "Malwani\n",
      "Mangalorean\n",
      "Mediterranean\n",
      "Mexican\n",
      "Middle Eastern\n",
      "Mishti\n",
      "Mithai\n",
      "Modern Indian\n",
      "Momos\n",
      "Mughlai\n",
      "Naga\n",
      "Nepalese\n",
      "North Eastern\n",
      "North Indian\n",
      "Odia\n",
      "Oriental\n",
      "Paan\n",
      "Pakistani\n",
      "Panini\n",
      "Parsi\n",
      "Pasta\n",
      "Pizza\n",
      "Poké\n",
      "Portuguese\n",
      "Rajasthani\n",
      "Raw Meats\n",
      "Roast Chicken\n",
      "Rolls\n",
      "Russian\n",
      "Salad\n",
      "Sandwich\n",
      "Seafood\n",
      "Sindhi\n",
      "Singaporean\n",
      "South American\n",
      "South Indian\n",
      "Spanish\n",
      "Sri Lankan\n",
      "Steak\n",
      "Street Food\n",
      "Sushi\n",
      "Tamil\n",
      "Tea\n",
      "Tex-Mex\n",
      "Thai\n",
      "Tibetan\n",
      "Turkish\n",
      "Vietnamese\n",
      "Wraps\n"
     ]
    }
   ],
   "source": [
    "#using zomato api\n",
    "import requests,json\n",
    "header={'Accept':'application/json','user-key':'d35451bc6dc04b3662194e3fce301ced'}\n",
    "response=requests.get('https://api.zomato.com/v2.1/cuisines',params={'city_id':1},headers=header)\n",
    "r=response.json()\n",
    "#print(response)\n",
    "cuisine_in_ncr = []\n",
    "for i in r['cuisines']:\n",
    "    #print(i['cuisine']['cuisine_name'])\n",
    "    cuisine_in_ncr.append(i['cuisine']['cuisine_name'])\n"
   ]
  }
 ],
 "metadata": {
  "kernelspec": {
   "display_name": "Python 3",
   "language": "python",
   "name": "python3"
  },
  "language_info": {
   "codemirror_mode": {
    "name": "ipython",
    "version": 3
   },
   "file_extension": ".py",
   "mimetype": "text/x-python",
   "name": "python",
   "nbconvert_exporter": "python",
   "pygments_lexer": "ipython3",
   "version": "3.8.5"
  }
 },
 "nbformat": 4,
 "nbformat_minor": 4
}
