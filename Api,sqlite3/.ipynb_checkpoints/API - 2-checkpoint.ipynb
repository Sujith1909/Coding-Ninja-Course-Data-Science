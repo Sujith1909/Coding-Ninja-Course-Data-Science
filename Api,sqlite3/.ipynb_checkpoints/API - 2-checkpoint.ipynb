{
 "cells": [
  {
   "cell_type": "code",
   "execution_count": 3,
   "metadata": {},
   "outputs": [
    {
     "data": {
      "text/plain": [
       "200"
      ]
     },
     "execution_count": 3,
     "metadata": {},
     "output_type": "execute_result"
    }
   ],
   "source": [
    "import requests\n",
    "from requests.auth import HTTPBasicAuth\n",
    "a = requests.get('https://api.github.com/user',auth = ('GarlapatiSujith','55d38db2593430b93f3c1ab97536979902c13de6'))\n",
    "a.status_code"
   ]
  },
  {
   "cell_type": "code",
   "execution_count": 9,
   "metadata": {},
   "outputs": [
    {
     "name": "stdout",
     "output_type": "stream",
     "text": [
      "apache-2.0 Apache License 2.0\n"
     ]
    }
   ],
   "source": [
    "import requests\n",
    "from requests.auth import HTTPBasicAuth\n",
    "a = requests.get('https://api.github.com/repos/google/go-cloud',auth = ('GarlapatiSujith','55d38db2593430b93f3c1ab97536979902c13de6'))\n",
    "a.status_code\n",
    "ab = a.json()\n",
    "print(ab[\"license\"][\"key\"],ab[\"license\"][\"name\"])\n",
    " "
   ]
  },
  {
   "cell_type": "code",
   "execution_count": 18,
   "metadata": {},
   "outputs": [
    {
     "data": {
      "text/plain": [
       "415"
      ]
     },
     "execution_count": 18,
     "metadata": {},
     "output_type": "execute_result"
    }
   ],
   "source": [
    "import requests\n",
    "from requests.auth import HTTPBasicAuth\n",
    "a = requests.get('https://api.github.com/repos/google/clusterfuzz/topics',auth = ('GarlapatiSujith','Sujith#1909'))\n",
    "a.status_code\n",
    "ab = a.json()\n",
    "print(ab)"
   ]
  },
  {
   "cell_type": "code",
   "execution_count": 19,
   "metadata": {},
   "outputs": [
    {
     "data": {
      "text/plain": [
       "415"
      ]
     },
     "execution_count": 19,
     "metadata": {},
     "output_type": "execute_result"
    }
   ],
   "source": [
    "import requests\n",
    "from requests.auth import HTTPBasicAuth\n",
    "a = requests.get('https://api.github.com/repos/google/clusterfuzz/topics',auth = ('GarlapatiSujith','55d38db2593430b93f3c1ab97536979902c13de6'))\n",
    "a.status_code"
   ]
  },
  {
   "cell_type": "code",
   "execution_count": 22,
   "metadata": {},
   "outputs": [
    {
     "name": "stdout",
     "output_type": "stream",
     "text": [
      "fuzzing\n",
      "security\n",
      "stability\n",
      "vulnerabilities\n"
     ]
    }
   ],
   "source": [
    "import requests\n",
    "from requests.auth import HTTPBasicAuth\n",
    "a = requests.get('https://api.github.com/repos/google/clusterfuzz/topics',auth = ('GarlapatiSujith','Sujith#1909'),headers = {\"Accept\" : \"application/vnd.github.mercy-preview+json\"})\n",
    "ab = a.json()\n",
    "for i in range(4) :\n",
    "    print(ab['names'][i])"
   ]
  },
  {
   "cell_type": "code",
   "execution_count": 32,
   "metadata": {},
   "outputs": [
    {
     "name": "stdout",
     "output_type": "stream",
     "text": [
      "Swift\n",
      "HTML\n",
      "Python\n",
      "Ruby\n",
      "Shell\n"
     ]
    }
   ],
   "source": [
    "import requests\n",
    "from requests.auth import HTTPBasicAuth\n",
    "a = requests.get('https://api.github.com/repos/google/science-journal-ios/languages',auth = ('GarlapatiSujith','Sujith#1909'),headers = {\"Accept\" : \"application/vnd.github.mercy-preview+json\"})\n",
    "ab = a.json()\n",
    "a.status_code\n",
    "for i in ab:\n",
    "    print(i)"
   ]
  },
  {
   "cell_type": "code",
   "execution_count": 1,
   "metadata": {},
   "outputs": [
    {
     "name": "stdout",
     "output_type": "stream",
     "text": [
      "https://www.reddit.com/api/v1/authorize?client_id=sspnvdX3VkEVIg&response_type=code&state=random_123&redirect_uri=https%3A%2F%2Fwww.google.com%2F&scope=read\n"
     ]
    }
   ],
   "source": [
    "import requests \n",
    "import json\n",
    "data = {'client_id' : 'sspnvdX3VkEVIg' , 'response_type' : 'code' , 'state' : 'random_123','redirect_uri' : 'https://www.google.com/','scope' : 'read'}\n",
    "response = requests.get('https://www.reddit.com/api/v1/authorize',params = data)\n",
    "print(response.url)"
   ]
  },
  {
   "cell_type": "code",
   "execution_count": 1,
   "metadata": {
    "scrolled": true
   },
   "outputs": [
    {
     "name": "stdout",
     "output_type": "stream",
     "text": [
      "\n",
      "<!doctype html>\n",
      "<html>\n",
      "  <head>\n",
      "    <title>Too Many Requests</title>\n",
      "    <style>\n",
      "      body {\n",
      "          font: small verdana, arial, helvetica, sans-serif;\n",
      "          width: 600px;\n",
      "          margin: 0 auto;\n",
      "      }\n",
      "\n",
      "      h1 {\n",
      "          height: 40px;\n",
      "          background: transparent url(//www.redditstatic.com/reddit.com.header.png) no-repeat scroll top right;\n",
      "      }\n",
      "    </style>\n",
      "  </head>\n",
      "  <body>\n",
      "    <h1>whoa there, pardner!</h1>\n",
      "    \n",
      "\n",
      "\n",
      "<p>we're sorry, but you appear to be a bot and we've seen too many requests\n",
      "from you lately. we enforce a hard speed limit on requests that appear to come\n",
      "from bots to prevent abuse.</p>\n",
      "\n",
      "<p>if you are not a bot but are spoofing one via your browser's user agent\n",
      "string: please change your user agent string to avoid seeing this message\n",
      "again.</p>\n",
      "\n",
      "<p>please wait 6 second(s) and try again.</p>\n",
      "\n",
      "    <p>as a reminder to developers, we recommend that clients make no\n",
      "    more than <a href=\"http://github.com/reddit/reddit/wiki/API\">one\n",
      "    request every two seconds</a> to avoid seeing this message.</p>\n",
      "  </body>\n",
      "</html>\n",
      "\n"
     ]
    }
   ],
   "source": [
    "#code=J9fab_W5yubHVYo7MrxQAo_gN6knxA#_\n",
    "import requests \n",
    "import json\n",
    "data = {'grant_type' : 'authorization_code','code' : 'J9fab_W5yubHVYo7MrxQAo_gN6knxA#_','redirect_uri' : 'https://www.google.com/'}\n",
    "r = requests.post('https://www.reddit.com/api/v1/authorize',data=data,auth = ('sspnvdX3VkEVIg','MtFUEen-mKkWJtTxsKS2gtlLEqta5A') ,headers = {'User_Agent':'sujith'})\n",
    "print(r.text)"
   ]
  },
  {
   "cell_type": "code",
   "execution_count": 1,
   "metadata": {},
   "outputs": [],
   "source": [
    "#attempt 3\n",
    "import requests \n",
    "import json\n",
    "from requests.auth import HTTPBasicAuth"
   ]
  },
  {
   "cell_type": "code",
   "execution_count": null,
   "metadata": {},
   "outputs": [],
   "source": [
    "#app name - Blank\n",
    "#secret - m8pV8FwUo3vncc0qMrhE_vHVLMV_Yg\n",
    "#client id - E-gsG7cSdjaDew\n"
   ]
  },
  {
   "cell_type": "code",
   "execution_count": 2,
   "metadata": {},
   "outputs": [
    {
     "name": "stdout",
     "output_type": "stream",
     "text": [
      "https://www.reddit.com/api/v1/authorize?client_id=E-gsG7cSdjaDew&response_type=code&state=sujith&redirect_uri=https%3A%2F%2Fwww.google.com%2F&scope=read\n"
     ]
    }
   ],
   "source": [
    "data = {'client_id' : 'E-gsG7cSdjaDew', 'response_type' : 'code', 'state' : 'sujith','redirect_uri' : 'https://www.google.com/','scope': 'read'}\n",
    "response = requests.get('https://www.reddit.com/api/v1/authorize',params = data)\n",
    "print(response.url)"
   ]
  },
  {
   "cell_type": "code",
   "execution_count": null,
   "metadata": {},
   "outputs": [],
   "source": [
    "#https://www.google.com/?state=sujith&code=Fr1lRrQOMSme6WUp8UAehuS3ITiccw#_\n",
    "#https://www.reddit.com/api/v1/access_token"
   ]
  },
  {
   "cell_type": "code",
   "execution_count": 9,
   "metadata": {},
   "outputs": [
    {
     "name": "stdout",
     "output_type": "stream",
     "text": [
      "{\"error\": \"invalid_grant\"}\n"
     ]
    }
   ],
   "source": [
    "data = {'grant_type' : 'authorization_code','code' : 'Fr1lRrQOMSme6WUp8UAehuS3ITiccw#_',\n",
    "        'redirect_uri' : 'https://www.google.com/'}\n",
    "r = requests.post('https://www.reddit.com/api/v1/access_token', data = data , \n",
    "                  auth = ('E-gsG7cSdjaDew','m8pV8FwUo3vncc0qMrhE_vHVLMV_Yg'),\n",
    "                  headers = {'User-Agent' : 'test'})\n",
    "print(r.text)                  "
   ]
  },
  {
   "cell_type": "code",
   "execution_count": null,
   "metadata": {},
   "outputs": [],
   "source": []
  }
 ],
 "metadata": {
  "kernelspec": {
   "display_name": "Python 3",
   "language": "python",
   "name": "python3"
  },
  "language_info": {
   "codemirror_mode": {
    "name": "ipython",
    "version": 3
   },
   "file_extension": ".py",
   "mimetype": "text/x-python",
   "name": "python",
   "nbconvert_exporter": "python",
   "pygments_lexer": "ipython3",
   "version": "3.8.5"
  }
 },
 "nbformat": 4,
 "nbformat_minor": 4
}
