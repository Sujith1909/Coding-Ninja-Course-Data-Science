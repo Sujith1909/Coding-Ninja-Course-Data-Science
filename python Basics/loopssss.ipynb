{
 "cells": [
  {
   "cell_type": "code",
   "execution_count": 20,
   "metadata": {},
   "outputs": [
    {
     "name": "stdout",
     "output_type": "stream",
     "text": [
      "5\n",
      "5 11 14 17 23 "
     ]
    }
   ],
   "source": [
    "x = int(input())\n",
    "i = 1\n",
    "while x>0:\n",
    "   a = 3*i + 2 \n",
    "   i = i + 1\n",
    "   if(a%4 != 0) :\n",
    "     print(a, end = ' ')\n",
    "     x = x-1"
   ]
  },
  {
   "cell_type": "code",
   "execution_count": 26,
   "metadata": {},
   "outputs": [
    {
     "name": "stdout",
     "output_type": "stream",
     "text": [
      "2\n",
      "2\n",
      "2\n"
     ]
    }
   ],
   "source": [
    "n = int(input())\n",
    "c= int(input())\n",
    "if(c==1) :\n",
    "    print(n*(n+1)/2)\n",
    "if(c==2) :\n",
    "    a = 1\n",
    "    while(n>0) :\n",
    "        a = a*n\n",
    "        n = n - 1\n",
    "    printb(a)    \n",
    "    "
   ]
  },
  {
   "cell_type": "code",
   "execution_count": 28,
   "metadata": {},
   "outputs": [
    {
     "name": "stdout",
     "output_type": "stream",
     "text": [
      "3\n",
      "1\n"
     ]
    }
   ],
   "source": [
    "import math\n",
    "a = int(input())\n",
    "a = math.sqrt(a)\n",
    "a = int(a)\n",
    "print(a)"
   ]
  }
 ],
 "metadata": {
  "kernelspec": {
   "display_name": "Python 3",
   "language": "python",
   "name": "python3"
  },
  "language_info": {
   "codemirror_mode": {
    "name": "ipython",
    "version": 3
   },
   "file_extension": ".py",
   "mimetype": "text/x-python",
   "name": "python",
   "nbconvert_exporter": "python",
   "pygments_lexer": "ipython3",
   "version": "3.8.5"
  }
 },
 "nbformat": 4,
 "nbformat_minor": 4
}
