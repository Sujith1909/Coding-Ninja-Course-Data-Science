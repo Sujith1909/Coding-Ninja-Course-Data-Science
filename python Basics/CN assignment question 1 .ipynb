{
 "cells": [
  {
   "cell_type": "code",
   "execution_count": 54,
   "metadata": {
    "scrolled": true
   },
   "outputs": [
    {
     "name": "stdout",
     "output_type": "stream",
     "text": [
      "NCR 709\n",
      "Bangalore 635\n",
      "Mumbai 449\n"
     ]
    },
    {
     "data": {
      "image/png": "[encoded data removed]",
      "text/plain": [
       "<Figure size 432x288 with 1 Axes>"
      ]
     },
     "metadata": {
      "needs_background": "light"
     },
     "output_type": "display_data"
    }
   ],
   "source": [
    "##### QUESTION 1 \n",
    "import pandas as pd \n",
    "import numpy as np \n",
    "import matplotlib.pyplot as plt\n",
    "\n",
    "startup = pd.read_csv('startup_funding.csv',encoding='utf-8') \n",
    "df = startup.copy()\n",
    "\n",
    "df['CityLocation'].dropna(inplace = True) \n",
    " \n",
    "def correction(city):\n",
    "    city = str(city)\n",
    "    return city.split('/')[0].strip() \n",
    "\n",
    "df['CityLocation']= df['CityLocation'].apply(correction) \n",
    "df['CityLocation'].replace(\"Delhi\",\"New Delhi\",inplace=True) \n",
    "df['CityLocation'].replace(\"bangalore\",\"Bangalore\",inplace=True) \n",
    "df[\"CityLocation\"]= df[\"CityLocation\"].replace(\"New Delhi\",\"NCR\")\n",
    "df[\"CityLocation\"]= df[\"CityLocation\"].replace(\"Noida\",\"NCR\")\n",
    "df[\"CityLocation\"]= df[\"CityLocation\"].replace(\"Gurgaon\",\"NCR\")\n",
    "\n",
    "a = df['CityLocation'].value_counts()[0:3] \n",
    "cities = a.index\n",
    "number = a.values\n",
    " \n",
    "for i in range(len(cities)): \n",
    "    print(cities[i], number[i])\n",
    "plt.bar(cities,number)\n",
    "plt.xlabel('City')\n",
    "plt.ylabel('fundings')\n",
    "plt.show()"
   ]
  },
  {
   "cell_type": "code",
   "execution_count": 48,
   "metadata": {},
   "outputs": [
    {
     "ename": "AttributeError",
     "evalue": "'Series' object has no attribute 'contains'",
     "output_type": "error",
     "traceback": [
      "\u001b[1;31m---------------------------------------------------------------------------\u001b[0m",
      "\u001b[1;31mAttributeError\u001b[0m                            Traceback (most recent call last)",
      "\u001b[1;32m<ipython-input-48-a207ea9b0f98>\u001b[0m in \u001b[0;36m<module>\u001b[1;34m\u001b[0m\n\u001b[0;32m     16\u001b[0m \u001b[1;33m\u001b[0m\u001b[0m\n\u001b[0;32m     17\u001b[0m \u001b[0mdf1\u001b[0m \u001b[1;33m=\u001b[0m \u001b[0mdf\u001b[0m\u001b[1;33m\u001b[0m\u001b[1;33m\u001b[0m\u001b[0m\n\u001b[1;32m---> 18\u001b[1;33m \u001b[0mdf1\u001b[0m\u001b[1;33m[\u001b[0m\u001b[0mdf1\u001b[0m\u001b[1;33m[\u001b[0m\u001b[1;34m'CityLocation'\u001b[0m\u001b[1;33m]\u001b[0m\u001b[1;33m.\u001b[0m\u001b[0mcontains\u001b[0m\u001b[1;33m(\u001b[0m\u001b[1;34m\"Bangalore\"\u001b[0m\u001b[1;33m)\u001b[0m\u001b[1;33m]\u001b[0m\u001b[1;33m\u001b[0m\u001b[1;33m\u001b[0m\u001b[0m\n\u001b[0m\u001b[0;32m     19\u001b[0m \u001b[0mdf1\u001b[0m\u001b[1;33m.\u001b[0m\u001b[0mdropna\u001b[0m\u001b[1;33m(\u001b[0m\u001b[0minplace\u001b[0m \u001b[1;33m=\u001b[0m \u001b[1;32mTrue\u001b[0m\u001b[1;33m)\u001b[0m\u001b[1;33m\u001b[0m\u001b[1;33m\u001b[0m\u001b[0m\n\u001b[0;32m     20\u001b[0m \u001b[0mtotal_rows\u001b[0m \u001b[1;33m=\u001b[0m \u001b[0mdf1\u001b[0m\u001b[1;33m.\u001b[0m\u001b[0mshape\u001b[0m\u001b[1;33m[\u001b[0m\u001b[1;36m0\u001b[0m\u001b[1;33m]\u001b[0m\u001b[1;33m\u001b[0m\u001b[1;33m\u001b[0m\u001b[0m\n",
      "\u001b[1;32m~\\anaconda3\\lib\\site-packages\\pandas\\core\\generic.py\u001b[0m in \u001b[0;36m__getattr__\u001b[1;34m(self, name)\u001b[0m\n\u001b[0;32m   5137\u001b[0m             \u001b[1;32mif\u001b[0m \u001b[0mself\u001b[0m\u001b[1;33m.\u001b[0m\u001b[0m_info_axis\u001b[0m\u001b[1;33m.\u001b[0m\u001b[0m_can_hold_identifiers_and_holds_name\u001b[0m\u001b[1;33m(\u001b[0m\u001b[0mname\u001b[0m\u001b[1;33m)\u001b[0m\u001b[1;33m:\u001b[0m\u001b[1;33m\u001b[0m\u001b[1;33m\u001b[0m\u001b[0m\n\u001b[0;32m   5138\u001b[0m                 \u001b[1;32mreturn\u001b[0m \u001b[0mself\u001b[0m\u001b[1;33m[\u001b[0m\u001b[0mname\u001b[0m\u001b[1;33m]\u001b[0m\u001b[1;33m\u001b[0m\u001b[1;33m\u001b[0m\u001b[0m\n\u001b[1;32m-> 5139\u001b[1;33m             \u001b[1;32mreturn\u001b[0m \u001b[0mobject\u001b[0m\u001b[1;33m.\u001b[0m\u001b[0m__getattribute__\u001b[0m\u001b[1;33m(\u001b[0m\u001b[0mself\u001b[0m\u001b[1;33m,\u001b[0m \u001b[0mname\u001b[0m\u001b[1;33m)\u001b[0m\u001b[1;33m\u001b[0m\u001b[1;33m\u001b[0m\u001b[0m\n\u001b[0m\u001b[0;32m   5140\u001b[0m \u001b[1;33m\u001b[0m\u001b[0m\n\u001b[0;32m   5141\u001b[0m     \u001b[1;32mdef\u001b[0m \u001b[0m__setattr__\u001b[0m\u001b[1;33m(\u001b[0m\u001b[0mself\u001b[0m\u001b[1;33m,\u001b[0m \u001b[0mname\u001b[0m\u001b[1;33m:\u001b[0m \u001b[0mstr\u001b[0m\u001b[1;33m,\u001b[0m \u001b[0mvalue\u001b[0m\u001b[1;33m)\u001b[0m \u001b[1;33m->\u001b[0m \u001b[1;32mNone\u001b[0m\u001b[1;33m:\u001b[0m\u001b[1;33m\u001b[0m\u001b[1;33m\u001b[0m\u001b[0m\n",
      "\u001b[1;31mAttributeError\u001b[0m: 'Series' object has no attribute 'contains'"
     ]
    }
   ],
   "source": [
    "### question 1 \n",
    "\n",
    "import pandas as pd\n",
    "import numpy as np\n",
    "import matplotlib.pyplot as plt \n",
    "df = pd.read_csv('startup_funding.csv',encoding='utf-8')\n",
    "\n",
    "df['AmountInUSD'].dropna(inplace = True)\n",
    "\n",
    "df[\"AmountInUSD\"] = df[\"AmountInUSD\"].apply(lambda x: float(str(x).replace(\",\",\"\")))\n",
    "df['CityLocation']=df['CityLocation'].replace('Delhi','New Delhi')\n",
    "df['CityLocation']=df['CityLocation'].replace('bangalore','Bangalore')\n",
    "\n",
    "\n",
    "count=df['CityLocation'].value_counts(ascending=False)[:]\n",
    "\n",
    "df1 = df['CityLocation'].str.contains(\"Bangalore\") \n",
    "total_rows = df1.shape[0]\n",
    "print(total_rows)\n",
    "df2 = df['CityLocation'].str.contains(\"Mumbai\") \n",
    "total_rows = df2.shape[0]\n",
    "print(total_rows)\n",
    "df3 = df['CityLocation'].str.contains(\"New Delhi\") \n",
    "total_rows = df3.shape[0]\n",
    "a = total_rows\n",
    "df1 = df['CityLocation'].str.contains(\"Gurgaon\") \n",
    "total_rows = df1.shape[0]\n",
    "b = total_rows\n",
    "df1 = df['CityLocation'].str.contains(\"Noida\") \n",
    "total_rows = df1.shape[0]\n",
    "c = total_rows\n",
    "Ncr = a + b + c\n",
    "print(Ncr)\n",
    "\n"
   ]
  },
  {
   "cell_type": "code",
   "execution_count": null,
   "metadata": {},
   "outputs": [],
   "source": [
    "### question 2 \n"
   ]
  }
 ],
 "metadata": {
  "kernelspec": {
   "display_name": "Python 3",
   "language": "python",
   "name": "python3"
  },
  "language_info": {
   "codemirror_mode": {
    "name": "ipython",
    "version": 3
   },
   "file_extension": ".py",
   "mimetype": "text/x-python",
   "name": "python",
   "nbconvert_exporter": "python",
   "pygments_lexer": "ipython3",
   "version": "3.8.5"
  }
 },
 "nbformat": 4,
 "nbformat_minor": 4
}
