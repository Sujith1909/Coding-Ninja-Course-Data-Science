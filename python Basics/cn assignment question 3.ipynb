{
 "cells": [
  {
   "cell_type": "code",
   "execution_count": 37,
   "metadata": {},
   "outputs": [
    {
     "name": "stdout",
     "output_type": "stream",
     "text": [
      "Sequoia Capital 48\n",
      "Accel Partners 47\n",
      "Kalaari Capital 41\n",
      "Indian Angel Network 40\n",
      "Blume Ventures 36\n"
     ]
    },
    {
     "data": {
      "image/png": "[encoded data removed]",
      "text/plain": [
       "<Figure size 432x288 with 1 Axes>"
      ]
     },
     "metadata": {
      "needs_background": "light"
     },
     "output_type": "display_data"
    }
   ],
   "source": [
    "import matplotlib.pyplot as plt\n",
    "import pandas as pd\n",
    "import csv\n",
    "df=pd.read_csv(\"startup_funding.csv\")\n",
    "# changing names \n",
    "df['StartupName'].replace('Olacabs','Ola',inplace=True)\n",
    "df['StartupName'].replace('Paytm Marketplace','Paytm',inplace=True)\n",
    "df['StartupName'].replace('Flipkart.com','Flipkart',inplace=True)\n",
    "df['StartupName'].replace('Ola Cabs','Ola',inplace=True)\n",
    "df['StartupName'].replace('Oyorooms','Oyo',inplace=True)\n",
    "df['StartupName'].replace('Oyo Rooms','Oyo',inplace=True)\n",
    "df['StartupName'].replace('OYO Rooms','Oyo',inplace=True)\n",
    "df['StartupName'].replace('OyoRooms','Oyo',inplace=True)\n",
    "\n",
    "investor =df['InvestorsName']\n",
    "startup=df['StartupName']\n",
    "freq={}\n",
    "k=0\n",
    "# finding out names of companies for different investors \n",
    "for i in investor:\n",
    "    a= str(i)\n",
    "    j=a.split(',')\n",
    "    for ele in j:\n",
    "        ele=ele.strip()\n",
    "        if ele in freq:\n",
    "            freq[ele] += [startup[k]]\n",
    "        else:\n",
    "            freq[ele] = [startup[k]]\n",
    "    k=k+1\n",
    "# getting no of different companies\n",
    "for ele in dict:\n",
    "    freq[ele]=(len(set(freq[ele]))) \n",
    "sort_orders = sorted(freq.items(), key=lambda x: x[1], reverse=True)\n",
    "# plotting graphs \n",
    "investor=[]\n",
    "investments=[]\n",
    "for i in sort_orders[0:6]:\n",
    "    if i[0]!='':\n",
    "        print(i[0],i[1])\n",
    "        investor.append(i[0])\n",
    "        investments.append(i[1])\n",
    "plt.bar(investor,investments)\n",
    "plt.xlabel('investors')\n",
    "plt.ylabel('no of different investments')\n",
    "plt.xticks(rotation=90)\n",
    "plt.show()"
   ]
  }
 ],
 "metadata": {
  "kernelspec": {
   "display_name": "Python 3",
   "language": "python",
   "name": "python3"
  },
  "language_info": {
   "codemirror_mode": {
    "name": "ipython",
    "version": 3
   },
   "file_extension": ".py",
   "mimetype": "text/x-python",
   "name": "python",
   "nbconvert_exporter": "python",
   "pygments_lexer": "ipython3",
   "version": "3.8.5"
  }
 },
 "nbformat": 4,
 "nbformat_minor": 4
}
