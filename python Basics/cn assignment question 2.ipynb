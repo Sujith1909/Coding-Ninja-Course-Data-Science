{
 "cells": [
  {
   "cell_type": "code",
   "execution_count": 23,
   "metadata": {},
   "outputs": [
    {
     "name": "stdout",
     "output_type": "stream",
     "text": [
      "Sequoia Capital 64\n",
      "Accel Partners 53\n",
      "Kalaari Capital 44\n",
      "SAIF Partners 41\n",
      "Indian Angel Network 40\n"
     ]
    },
    {
     "data": {
      "image/png": "[encoded data removed]",
      "text/plain": [
       "<Figure size 432x288 with 1 Axes>"
      ]
     },
     "metadata": {
      "needs_background": "light"
     },
     "output_type": "display_data"
    }
   ],
   "source": [
    "# question 2 code\n",
    "\n",
    "import pandas as pd \n",
    "import numpy as np \n",
    "import matplotlib.pyplot as plt\n",
    "\n",
    "startup = pd.read_csv('startup_funding.csv',encoding='utf-8')\n",
    "\n",
    "df = startup.copy()\n",
    "#using dictionary to findout freq of investors\n",
    "freqs={}\n",
    "for i in df['InvestorsName']:\n",
    "    a = str(i)\n",
    "    b = a.split(\",\")\n",
    "    for j in b:\n",
    "        j = j.strip()\n",
    "        if j in freqs:\n",
    "            freqs[j]+=1\n",
    "        else:\n",
    "            freqs[j] = 1\n",
    "sortedDict = sorted(freqs.items(), key=lambda x: x[1], reverse=True)\n",
    "#print(sort_orders)\n",
    "#plotting graph\n",
    "investor = []\n",
    "freq = []\n",
    "for i in range(5):\n",
    "    print(sortedDict[i][0],sortedDict[i][1]) \n",
    "    investor.append(sortedDict[i][0])\n",
    "    freq.append(sortedDict[i][1])\n",
    "plt.bar(investor,freq)\n",
    "plt.xlabel('investor')\n",
    "plt.ylabel('No of times they invested')\n",
    "plt.xticks(rotation=90)\n",
    "plt.show()    \n",
    "\n",
    "\n",
    "\n",
    "\n"
   ]
  },
  {
   "cell_type": "code",
   "execution_count": null,
   "metadata": {},
   "outputs": [],
   "source": []
  },
  {
   "cell_type": "code",
   "execution_count": null,
   "metadata": {},
   "outputs": [],
   "source": []
  }
 ],
 "metadata": {
  "kernelspec": {
   "display_name": "Python 3",
   "language": "python",
   "name": "python3"
  },
  "language_info": {
   "codemirror_mode": {
    "name": "ipython",
    "version": 3
   },
   "file_extension": ".py",
   "mimetype": "text/x-python",
   "name": "python",
   "nbconvert_exporter": "python",
   "pygments_lexer": "ipython3",
   "version": "3.8.5"
  }
 },
 "nbformat": 4,
 "nbformat_minor": 4
}
