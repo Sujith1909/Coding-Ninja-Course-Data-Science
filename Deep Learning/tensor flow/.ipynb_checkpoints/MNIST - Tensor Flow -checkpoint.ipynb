{
 "cells": [
  {
   "cell_type": "code",
   "execution_count": 6,
   "metadata": {},
   "outputs": [],
   "source": [
    "import tensorflow.compat.v1 as tf\n"
   ]
  },
  {
   "cell_type": "code",
   "execution_count": 7,
   "metadata": {},
   "outputs": [],
   "source": [
    "# MNIST has pictures which contains numbers from 0 to 9 and we have to classify the numbers by buildig a model."
   ]
  },
  {
   "cell_type": "code",
   "execution_count": 8,
   "metadata": {},
   "outputs": [
    {
     "ename": "ModuleNotFoundError",
     "evalue": "No module named 'tensorflow.examples'",
     "output_type": "error",
     "traceback": [
      "\u001b[1;31m---------------------------------------------------------------------------\u001b[0m",
      "\u001b[1;31mModuleNotFoundError\u001b[0m                       Traceback (most recent call last)",
      "\u001b[1;32m<ipython-input-8-a31311397b82>\u001b[0m in \u001b[0;36m<module>\u001b[1;34m\u001b[0m\n\u001b[1;32m----> 1\u001b[1;33m \u001b[1;32mfrom\u001b[0m \u001b[0mtensorflow\u001b[0m\u001b[1;33m.\u001b[0m\u001b[0mexamples\u001b[0m\u001b[1;33m.\u001b[0m\u001b[0mtutorials\u001b[0m\u001b[1;33m.\u001b[0m\u001b[0mmnist\u001b[0m \u001b[1;32mimport\u001b[0m \u001b[0minput_data\u001b[0m\u001b[1;33m\u001b[0m\u001b[1;33m\u001b[0m\u001b[0m\n\u001b[0m",
      "\u001b[1;31mModuleNotFoundError\u001b[0m: No module named 'tensorflow.examples'"
     ]
    }
   ],
   "source": [
    "from tensorflow.examples.tutorials.mnist import input_data"
   ]
  },
  {
   "cell_type": "code",
   "execution_count": 10,
   "metadata": {},
   "outputs": [],
   "source": [
    "mnist = tf.keras.datasets.mnist"
   ]
  },
  {
   "cell_type": "code",
   "execution_count": 72,
   "metadata": {},
   "outputs": [],
   "source": [
    "(x_train, y_train), (x_test, y_test) = mnist.load_data()"
   ]
  },
  {
   "cell_type": "code",
   "execution_count": 82,
   "metadata": {},
   "outputs": [
    {
     "data": {
      "text/plain": [
       "(10000, 28, 28)"
      ]
     },
     "execution_count": 82,
     "metadata": {},
     "output_type": "execute_result"
    }
   ],
   "source": [
    "x_test.shape"
   ]
  },
  {
   "cell_type": "code",
   "execution_count": 105,
   "metadata": {},
   "outputs": [],
   "source": [
    "a = tf.reshape(x_train,[60000,784])"
   ]
  },
  {
   "cell_type": "code",
   "execution_count": 106,
   "metadata": {},
   "outputs": [
    {
     "data": {
      "text/plain": [
       "(60000, 28, 28)"
      ]
     },
     "execution_count": 106,
     "metadata": {},
     "output_type": "execute_result"
    }
   ],
   "source": [
    "x_train.shape"
   ]
  },
  {
   "cell_type": "code",
   "execution_count": 107,
   "metadata": {},
   "outputs": [],
   "source": [
    "sess.run(tf.global_variables_initializer())"
   ]
  },
  {
   "cell_type": "code",
   "execution_count": 108,
   "metadata": {},
   "outputs": [],
   "source": [
    "x_train_784 = sess.run(a)"
   ]
  },
  {
   "cell_type": "markdown",
   "metadata": {},
   "source": [
    "# One hotting the data "
   ]
  },
  {
   "cell_type": "code",
   "execution_count": 74,
   "metadata": {},
   "outputs": [],
   "source": [
    "(x_train, l_train), (x_test, l_test) = mnist.load_data()\n",
    "y_train = np.zeros((l_train.shape[0], l_train.max()+1), dtype=np.float32)\n",
    "y_train[np.arange(l_train.shape[0]), l_train] = 1\n",
    "y_test = np.zeros((l_test.shape[0], l_test.max()+1), dtype=np.float32)\n",
    "y_test[np.arange(l_test.shape[0]), l_test] = 1"
   ]
  },
  {
   "cell_type": "code",
   "execution_count": 36,
   "metadata": {},
   "outputs": [
    {
     "data": {
      "text/plain": [
       "(60000, 10)"
      ]
     },
     "execution_count": 36,
     "metadata": {},
     "output_type": "execute_result"
    }
   ],
   "source": [
    "y_train.shape"
   ]
  },
  {
   "cell_type": "code",
   "execution_count": 16,
   "metadata": {},
   "outputs": [
    {
     "data": {
      "text/plain": [
       "array([[[0, 0, 0, ..., 0, 0, 0],\n",
       "        [0, 0, 0, ..., 0, 0, 0],\n",
       "        [0, 0, 0, ..., 0, 0, 0],\n",
       "        ...,\n",
       "        [0, 0, 0, ..., 0, 0, 0],\n",
       "        [0, 0, 0, ..., 0, 0, 0],\n",
       "        [0, 0, 0, ..., 0, 0, 0]],\n",
       "\n",
       "       [[0, 0, 0, ..., 0, 0, 0],\n",
       "        [0, 0, 0, ..., 0, 0, 0],\n",
       "        [0, 0, 0, ..., 0, 0, 0],\n",
       "        ...,\n",
       "        [0, 0, 0, ..., 0, 0, 0],\n",
       "        [0, 0, 0, ..., 0, 0, 0],\n",
       "        [0, 0, 0, ..., 0, 0, 0]],\n",
       "\n",
       "       [[0, 0, 0, ..., 0, 0, 0],\n",
       "        [0, 0, 0, ..., 0, 0, 0],\n",
       "        [0, 0, 0, ..., 0, 0, 0],\n",
       "        ...,\n",
       "        [0, 0, 0, ..., 0, 0, 0],\n",
       "        [0, 0, 0, ..., 0, 0, 0],\n",
       "        [0, 0, 0, ..., 0, 0, 0]],\n",
       "\n",
       "       ...,\n",
       "\n",
       "       [[0, 0, 0, ..., 0, 0, 0],\n",
       "        [0, 0, 0, ..., 0, 0, 0],\n",
       "        [0, 0, 0, ..., 0, 0, 0],\n",
       "        ...,\n",
       "        [0, 0, 0, ..., 0, 0, 0],\n",
       "        [0, 0, 0, ..., 0, 0, 0],\n",
       "        [0, 0, 0, ..., 0, 0, 0]],\n",
       "\n",
       "       [[0, 0, 0, ..., 0, 0, 0],\n",
       "        [0, 0, 0, ..., 0, 0, 0],\n",
       "        [0, 0, 0, ..., 0, 0, 0],\n",
       "        ...,\n",
       "        [0, 0, 0, ..., 0, 0, 0],\n",
       "        [0, 0, 0, ..., 0, 0, 0],\n",
       "        [0, 0, 0, ..., 0, 0, 0]],\n",
       "\n",
       "       [[0, 0, 0, ..., 0, 0, 0],\n",
       "        [0, 0, 0, ..., 0, 0, 0],\n",
       "        [0, 0, 0, ..., 0, 0, 0],\n",
       "        ...,\n",
       "        [0, 0, 0, ..., 0, 0, 0],\n",
       "        [0, 0, 0, ..., 0, 0, 0],\n",
       "        [0, 0, 0, ..., 0, 0, 0]]], dtype=uint8)"
      ]
     },
     "execution_count": 16,
     "metadata": {},
     "output_type": "execute_result"
    }
   ],
   "source": [
    "x_train"
   ]
  },
  {
   "cell_type": "code",
   "execution_count": 71,
   "metadata": {},
   "outputs": [
    {
     "data": {
      "text/plain": [
       "(60000, 28, 28)"
      ]
     },
     "execution_count": 71,
     "metadata": {},
     "output_type": "execute_result"
    }
   ],
   "source": [
    "x_train.shape # basically 60k images which are 28 by 28"
   ]
  },
  {
   "cell_type": "code",
   "execution_count": 39,
   "metadata": {},
   "outputs": [
    {
     "data": {
      "text/plain": [
       "(10000, 28, 28)"
      ]
     },
     "execution_count": 39,
     "metadata": {},
     "output_type": "execute_result"
    }
   ],
   "source": [
    "x_test.shape"
   ]
  },
  {
   "cell_type": "code",
   "execution_count": 40,
   "metadata": {},
   "outputs": [
    {
     "data": {
      "text/plain": [
       "(10000, 10)"
      ]
     },
     "execution_count": 40,
     "metadata": {},
     "output_type": "execute_result"
    }
   ],
   "source": [
    "y_test.shape # this has aldredy done one hot encoding"
   ]
  },
  {
   "cell_type": "code",
   "execution_count": 41,
   "metadata": {},
   "outputs": [
    {
     "data": {
      "text/plain": [
       "(60000, 10)"
      ]
     },
     "execution_count": 41,
     "metadata": {},
     "output_type": "execute_result"
    }
   ],
   "source": [
    "y_train.shape"
   ]
  },
  {
   "cell_type": "code",
   "execution_count": 28,
   "metadata": {},
   "outputs": [],
   "source": [
    "import numpy as np\n",
    "from matplotlib import pyplot as plt"
   ]
  },
  {
   "cell_type": "code",
   "execution_count": 32,
   "metadata": {},
   "outputs": [
    {
     "data": {
      "text/plain": [
       "<matplotlib.image.AxesImage at 0x20804a16dc0>"
      ]
     },
     "execution_count": 32,
     "metadata": {},
     "output_type": "execute_result"
    },
    {
     "data": {
      "image/png": "[encoded data removed]",
      "text/plain": [
       "<Figure size 432x288 with 1 Axes>"
      ]
     },
     "metadata": {
      "needs_background": "light"
     },
     "output_type": "display_data"
    }
   ],
   "source": [
    "plt.imshow(x_train[1001])"
   ]
  },
  {
   "cell_type": "code",
   "execution_count": 37,
   "metadata": {},
   "outputs": [],
   "source": [
    "# hot encoding is done"
   ]
  },
  {
   "cell_type": "code",
   "execution_count": 48,
   "metadata": {},
   "outputs": [
    {
     "name": "stdout",
     "output_type": "stream",
     "text": [
      "[ 6.33514345e-01  1.57382464e+00 -9.84691322e-01  1.65761709e+00\n",
      "  9.52867508e-01  1.52429974e+00  5.03818095e-01 -1.61766991e-01\n",
      "  4.26012799e-02 -4.41641688e-01  7.95702636e-01  1.60971296e+00\n",
      "  1.72390327e-01 -6.68803811e-01 -7.12436557e-01 -6.62742913e-01\n",
      " -8.05918574e-01  3.56750250e-01 -1.37005627e+00  7.23519385e-01\n",
      "  1.19177568e+00  1.15441692e+00  3.73504639e-01 -5.59231162e-01\n",
      " -9.35520589e-01  5.05658500e-02 -4.51251864e-01 -4.38079059e-01\n",
      "  1.57120836e+00 -8.10041547e-01  5.47402985e-02  1.11041188e+00\n",
      " -1.13158762e+00 -1.48444986e+00  9.96669173e-01 -8.54548752e-01\n",
      " -2.99183339e-01 -2.05612257e-01  7.57672966e-01 -3.78195107e-01\n",
      " -1.06994343e+00 -1.09737146e+00 -6.47307754e-01  1.27199435e+00\n",
      " -1.31332493e+00  1.52183819e+00 -2.51230597e+00 -8.46300542e-01\n",
      " -8.44134331e-01  1.69348747e-01 -5.63193969e-02  5.46250939e-01\n",
      "  5.65115750e-01 -1.57689452e-01 -1.41040397e+00 -9.26071882e-01\n",
      " -2.07582071e-01 -1.42682219e+00  2.14014083e-01  1.21965694e+00\n",
      " -5.75579666e-02 -1.79222465e+00 -5.56244731e-01 -9.29398715e-01\n",
      "  5.12138963e-01  6.68450236e-01  3.20281118e-01  1.70618519e-02\n",
      "  7.84301519e-01  8.88305306e-01  1.12066305e+00 -2.52365780e+00\n",
      "  4.19681162e-01  1.89666614e-01 -1.85285091e-01  1.50484252e+00\n",
      " -1.14585328e+00  9.95609522e-01  2.13492528e-01 -9.58114684e-01\n",
      " -1.31821001e+00  1.01606190e+00 -1.88541365e+00 -2.01962262e-01\n",
      " -1.19630957e+00  4.46023315e-01 -1.37667751e+00 -6.14939272e-01\n",
      "  1.31069973e-01  6.66828632e-01  3.80560458e-02 -1.20821550e-01\n",
      " -2.97213607e-02 -2.08598718e-01 -3.82302731e-01 -2.31813431e-01\n",
      "  6.75430357e-01  5.04796565e-01  5.76303184e-01 -1.16183698e+00\n",
      "  1.05752015e+00 -1.37008286e+00  7.80961275e-01 -3.75163168e-01\n",
      " -1.61587477e+00  1.39013052e-01 -1.24355125e+00  2.67696828e-01\n",
      "  4.75733429e-01  3.97210091e-01  2.89811701e-01 -2.13608861e-01\n",
      "  6.59573615e-01  3.71107608e-01 -1.47197604e+00 -2.14286661e+00\n",
      " -4.61066127e-01  1.65754247e+00 -8.02478731e-01 -5.51922739e-01\n",
      " -4.71104503e-01 -1.11910212e+00  1.23156202e+00  1.53193653e+00\n",
      " -4.40161079e-01 -1.71493635e-01 -5.74966490e-01 -2.83389419e-01\n",
      "  2.08045983e+00  1.45867491e+00  1.22973812e+00 -9.28284645e-01\n",
      " -4.99994427e-01 -1.37633657e+00  9.40373242e-01  1.47284293e+00\n",
      " -1.47346109e-02  1.36057460e+00 -8.08580935e-01 -1.37160933e+00\n",
      "  6.98015332e-01 -1.07807767e+00  4.99411404e-01 -2.44509697e+00\n",
      "  1.80142629e+00  1.58547342e-01 -6.71526372e-01  1.13792610e+00\n",
      "  2.02675605e+00 -2.63346672e+00 -2.09655142e+00 -3.41426134e-01\n",
      "  3.27067822e-01 -3.43822867e-01  3.33089270e-02 -1.78405762e-01\n",
      "  3.44146580e-01 -9.24692214e-01 -1.23755908e+00 -4.41935211e-02\n",
      "  5.37799597e-01  2.61471182e-01 -9.24729228e-01  4.18986291e-01\n",
      " -2.23344588e+00 -1.79913974e+00 -7.92161047e-01 -8.87381732e-01\n",
      " -7.92779446e-01 -1.47779560e+00  1.07703578e+00 -5.93582809e-01\n",
      "  4.69796598e-01 -3.86447430e-01  2.26915693e+00 -5.30689061e-01\n",
      "  3.44190031e-01 -2.10547042e+00  8.00367951e-01  4.96827215e-01\n",
      "  1.18967009e+00  2.16270122e-03 -1.70196044e+00  1.33834207e+00\n",
      "  2.75484055e-01 -9.07703459e-01  1.60662031e+00  5.63675404e-01\n",
      " -9.62010741e-01 -7.89525628e-01  2.83009082e-01  1.75576150e-01\n",
      "  8.65675688e-01  1.28971374e+00 -6.86470032e-01  2.71938622e-01\n",
      " -3.01759064e-01 -7.94517338e-01 -2.21564591e-01  7.37071693e-01\n",
      " -5.63226819e-01 -1.74838558e-01 -1.82080364e+00  6.25118136e-01\n",
      "  1.11039031e+00 -2.58309901e-01  3.12226295e-01 -3.50420564e-01\n",
      "  1.03913128e-01  5.11843085e-01  5.09435952e-01 -7.96922028e-01\n",
      "  4.41352725e-01  1.07505262e+00  1.98632634e+00 -3.55210871e-01\n",
      "  1.23740649e+00  2.33020043e+00  1.77529037e-01 -4.90389377e-01\n",
      " -8.76842260e-01  4.72168982e-01  7.51126170e-01  1.62549660e-01\n",
      "  1.22649252e+00  4.32550550e-01 -4.76984382e-01 -1.05820549e+00\n",
      "  2.21058920e-01  1.25627339e-01  1.12102973e+00 -1.19701636e+00\n",
      " -1.16853273e+00  1.05434239e+00  1.41712296e+00 -5.69994412e-02\n",
      " -2.81441391e-01  6.66072726e-01 -1.12649269e-01  2.10843474e-01\n",
      "  2.02197981e+00 -6.63434684e-01  1.08134770e+00  9.52136457e-01\n",
      " -4.99783099e-01  1.18271947e+00 -1.40548229e+00 -7.58862019e-01\n",
      "  9.11566973e-01  1.08397102e+00 -1.34702051e+00 -6.79356158e-01\n",
      "  7.00739801e-01  9.63114738e-01 -2.26411057e+00  8.26703191e-01\n",
      "  5.06332994e-01  1.06376100e+00  1.66134059e-01  8.62431109e-01\n",
      "  1.65286362e-01  6.09613776e-01 -2.47084647e-01 -8.95370916e-02\n",
      " -9.21461955e-02  4.80988741e-01 -5.13106763e-01 -2.57182628e-01\n",
      " -3.39733362e-02  1.07894063e+00  9.79253352e-01  1.74436748e+00\n",
      "  4.55426008e-01 -1.47208154e-01 -1.26819289e+00  9.76997554e-01\n",
      " -1.03131211e+00 -1.67054892e+00 -1.43333745e+00 -6.14507020e-01\n",
      " -8.89885783e-01 -4.04273033e-01 -4.93140936e-01 -7.08350658e-01\n",
      " -4.42622006e-01 -5.16525328e-01  7.43453324e-01 -1.07311738e+00\n",
      "  1.07050419e+00  1.48754522e-01  2.04627872e-01 -1.22600627e+00\n",
      " -6.33726120e-01 -1.13733840e+00 -4.36601102e-01 -1.39596009e+00\n",
      " -5.50682187e-01  1.89161733e-01  7.22542703e-02  2.05504626e-01\n",
      "  3.14745665e-01 -6.42575741e-01  9.67943251e-01  6.52435243e-01\n",
      " -1.07938051e+00  1.61995143e-02 -5.35661221e-01 -1.45699263e+00\n",
      "  1.21157849e+00 -7.66140759e-01  1.75037589e-02 -1.05317879e+00\n",
      "  2.63933361e-01  9.81897593e-01  5.78621924e-02 -4.43409234e-01\n",
      " -9.52143848e-01  3.45698208e-01  5.79425693e-01  8.58352005e-01\n",
      " -8.76322567e-01 -1.22997105e+00  3.47915411e-01 -1.29171038e+00\n",
      " -1.98398447e+00  4.64633673e-01  4.86349910e-01  2.26249576e+00\n",
      " -8.78061205e-02 -4.95690852e-01 -1.31583452e+00 -6.58396900e-01\n",
      "  7.19404221e-01  9.51502442e-01  1.28879905e+00  4.02351290e-01\n",
      "  1.12738597e+00  9.16229665e-01 -7.15701461e-01  5.00525296e-01\n",
      " -7.30225027e-01 -3.97987455e-01  1.23453438e+00  8.15032646e-02\n",
      " -4.59457308e-01  1.96235195e-01  6.71219289e-01 -1.01202607e+00\n",
      "  2.27364922e+00  1.07592916e+00  1.09797247e-01 -1.25660813e+00\n",
      "  5.54079354e-01 -8.78196836e-01  1.10844147e+00 -1.13239527e+00\n",
      "  1.19213688e+00  5.11081398e-01 -1.62521625e+00  2.10079342e-01\n",
      "  2.93725222e-01  1.42229760e+00 -1.24010968e+00 -2.01595736e+00\n",
      " -2.23255634e-01  6.17338307e-02  5.48460126e-01 -6.38452768e-01\n",
      " -4.56338584e-01 -1.09760717e-01  1.79463610e-01 -1.68143177e+00\n",
      " -3.93993676e-01  8.72587025e-01 -1.39891297e-01  1.46633193e-01\n",
      " -1.36959171e+00 -9.51333463e-01  1.01599729e+00  5.40690541e-01\n",
      " -4.88997400e-01 -1.34584498e+00  2.59005368e-01 -7.06832558e-02\n",
      " -2.28257611e-01  5.70435047e-01  9.65890050e-01  4.50555027e-01\n",
      "  2.55337596e-01  1.13120663e+00 -5.49771309e-01  1.80042684e-01\n",
      " -4.41863984e-01  3.47970217e-01  2.67933935e-01 -1.35333431e+00\n",
      " -7.68893480e-01  1.54869151e+00 -1.38149166e+00  4.46010739e-01\n",
      "  2.46867955e-01  2.40382627e-02  2.02525067e+00 -1.93534836e-01\n",
      "  1.23033273e+00 -5.74639261e-01  4.42211181e-01 -4.96542245e-01\n",
      " -9.95805085e-01 -1.30624938e+00 -3.16275328e-01 -1.37409353e+00\n",
      "  9.37906861e-01  2.50660896e+00  1.33960366e+00 -7.14566767e-01\n",
      " -2.21575785e+00  2.56769446e-04 -9.31697432e-03 -1.20578253e+00\n",
      "  3.86679411e-01  4.78685439e-01  1.56427249e-02 -2.26746589e-01\n",
      " -8.23588610e-01 -9.30344462e-01 -9.61317301e-01 -2.73669410e+00\n",
      "  9.77202505e-02 -9.04441893e-01  1.95796406e+00 -6.03085384e-02\n",
      " -1.04621172e+00  1.82928002e+00 -8.75422478e-01 -2.06784010e+00\n",
      "  5.79751968e-01 -7.37590551e-01  1.70713812e-01  1.94078267e-01\n",
      " -2.16660571e+00  1.87202871e+00 -5.30155897e-01  5.36957942e-02\n",
      " -1.14160585e+00 -3.98742646e-01 -6.73737526e-01 -5.20451963e-01\n",
      "  1.37741816e+00  1.48107022e-01 -3.83893520e-01  1.17994741e-01\n",
      " -1.32605350e+00 -6.67251587e-01  8.84922504e-01 -1.26091361e+00\n",
      "  1.79524511e-01  2.21991569e-01 -8.68060172e-01 -8.12953532e-01\n",
      " -1.91152748e-02 -9.74018276e-01 -3.14431697e-01  1.50430548e+00\n",
      " -2.27900907e-01  2.81001717e-01  2.35742375e-01 -1.02312970e+00\n",
      "  1.43029964e+00  1.88411236e+00  1.15206838e+00  2.47861892e-01\n",
      " -4.33367938e-02  4.13373619e-01 -2.45141745e+00  8.15500617e-01\n",
      " -8.89425993e-01  4.82775658e-01 -1.66748011e+00  6.53979897e-01\n",
      " -1.70564607e-01  9.15968060e-01  8.39010924e-02  2.49714971e-01\n",
      " -2.87839532e-01 -2.09823951e-01 -4.64493245e-01 -5.60536563e-01\n",
      " -1.22523613e-01  1.18892097e+00 -2.08391500e+00  1.08698988e+00\n",
      "  1.52544022e+00 -1.26403618e+00 -3.30738202e-02 -5.52964747e-01\n",
      "  2.65230000e-01  1.04287899e+00  2.57599711e-01  1.31500531e-02\n",
      " -1.62911639e-02 -1.34852886e-01 -1.39148757e-01 -1.33844554e+00\n",
      " -4.98382747e-01 -1.79012764e+00 -3.48030984e-01  2.65059853e+00\n",
      " -1.20258033e+00 -1.62631345e+00 -1.39028990e+00 -5.58838785e-01\n",
      " -4.16284978e-01  3.11577857e-01  2.00716400e+00 -8.22138071e-01\n",
      "  2.71862932e-02 -7.12038755e-01  6.67820275e-01  1.61822617e+00\n",
      " -1.61286438e+00  9.65086997e-01  8.12512755e-01  1.16832757e+00\n",
      "  1.90061677e+00 -5.41609414e-02 -5.34907132e-02  1.13548867e-01\n",
      " -2.37867981e-01  1.98998117e+00  3.55928242e-01  1.50644076e+00\n",
      " -1.10400438e+00 -1.36953092e+00 -8.53367090e-01 -6.79365844e-02\n",
      "  9.76678967e-01 -2.37770844e+00 -1.48570716e-01  1.12733078e+00\n",
      "  9.10413206e-01  1.02847226e-01 -4.38493252e-01  1.87323928e-01\n",
      "  1.92357695e+00  2.54812807e-01  4.99668419e-01 -8.57987165e-01\n",
      " -1.85838747e+00  1.08124232e+00  2.44003534e+00  1.36377513e+00\n",
      " -2.03718796e-01 -1.36329031e+00  2.37411356e+00  6.95568562e-01\n",
      " -1.23611784e+00  5.30532748e-02 -1.10795772e+00 -7.97111034e-01\n",
      "  1.12040699e+00 -7.33378708e-01  3.70734954e+00  1.11121917e+00\n",
      "  1.68812907e+00  1.15728468e-01  5.73764086e-01 -5.51625907e-01\n",
      "  1.39411286e-01  8.06253999e-02  7.35564113e-01  7.27148771e-01\n",
      "  2.09620968e-01  1.88230026e+00 -9.19414461e-01  1.95929432e+00\n",
      " -9.48815167e-01 -3.28849494e-01  2.03224850e+00 -8.56133878e-01\n",
      " -9.96414065e-01  6.35153353e-01  9.82540250e-01 -1.70485973e+00\n",
      " -2.09860516e+00  3.07216018e-01  1.22133529e+00 -1.11984305e-01\n",
      "  2.41338179e-01 -7.69940078e-01 -1.14896107e+00 -6.03854060e-01\n",
      " -3.18781473e-02  1.96938254e-02  1.28777170e+00 -2.96281606e-01\n",
      " -1.54968441e+00 -1.60386264e-01  5.21645844e-01 -1.92681062e+00\n",
      "  2.66772687e-01 -2.99482107e-01 -2.78933436e-01 -2.70514190e-01\n",
      " -8.48993480e-01 -9.27824020e-01  9.78665650e-01  2.25605989e+00\n",
      " -4.85970736e-01 -4.21029270e-01 -1.31874061e+00  5.73517740e-01\n",
      "  2.43536162e+00  2.69995183e-01 -1.10966945e+00  4.06507194e-01\n",
      "  8.61102492e-02  5.55313528e-01  1.72247320e-01 -3.11298132e-01\n",
      " -1.18813552e-01 -1.19986570e+00  8.00640583e-01 -2.06124711e+00\n",
      "  7.53704429e-01 -1.47209990e+00  1.41484857e+00  2.54877508e-01\n",
      " -2.52216101e-01  1.43705308e+00 -4.07272011e-01 -2.57239699e-01\n",
      " -3.39525402e-01 -7.66600072e-01 -6.86575294e-01  3.81728709e-01\n",
      "  9.39518735e-02 -5.38349561e-02  3.31386358e-01  8.20152387e-02\n",
      " -5.47694683e-01  2.93665856e-01 -6.56778932e-01 -2.70943105e-01\n",
      " -2.26809740e+00  2.84608126e-01  6.57321274e-01 -8.94725204e-01\n",
      " -1.00592923e+00  1.76690474e-01  2.00166321e+00  1.39790022e+00\n",
      "  1.21660568e-01 -1.67840496e-01 -2.41101921e-01  1.11955225e+00\n",
      "  1.45760039e-02  7.11843669e-01  2.31866980e+00 -8.54202569e-01\n",
      " -7.73645937e-02 -5.54061949e-01  2.38268614e-01 -1.00897443e+00\n",
      "  7.70243526e-01 -1.52923673e-01 -1.48665166e+00  4.27992374e-01\n",
      "  2.75936395e-01 -8.51910949e-01  7.44586766e-01 -2.24521413e-01\n",
      " -2.01880407e+00  3.59446615e-01 -2.31030852e-01  1.25065935e+00\n",
      "  6.85428798e-01 -1.08612704e+00 -1.67024350e+00 -8.17649841e-01\n",
      " -5.21678627e-01 -1.35713339e-01 -8.39909837e-02 -9.49272275e-01\n",
      "  1.58303189e+00 -2.26119709e+00 -6.53662562e-01  3.26531142e-01\n",
      "  4.10670698e-01  1.51857340e+00  1.69673994e-01 -9.04740989e-01\n",
      " -1.42509833e-01  1.00621426e+00 -5.13792336e-01  1.02105808e+00\n",
      " -4.93549138e-01 -1.48815763e+00 -7.42278695e-01  1.04617751e+00\n",
      " -4.02376920e-01 -9.66022849e-01  4.85768653e-02 -2.56190491e+00\n",
      " -1.40002757e-01  7.92892814e-01 -9.17229712e-01 -1.30070758e+00\n",
      " -7.55450010e-01  9.62001979e-02  3.76389325e-01  2.19893411e-01\n",
      "  1.08254099e+00  3.52914125e-01 -1.89067930e-01  1.52009118e+00\n",
      "  2.97782540e-01 -2.93763816e-01 -1.51796043e+00  4.69409049e-01\n",
      "  6.86979771e-01  2.55850196e-01  6.09212853e-02 -3.26629937e-01\n",
      "  4.31693763e-01 -2.70313591e-01  1.14718211e+00 -3.64560485e-01\n",
      " -9.77159083e-01 -6.32389216e-03 -7.43504703e-01  3.22736382e-01\n",
      "  1.29321766e+00 -1.47769427e+00 -1.54181612e+00  5.50959229e-01\n",
      "  4.60909128e-01  6.05557382e-01  1.05553174e+00  3.83185267e-01\n",
      "  8.56704235e-01  7.98401952e-01  6.22070014e-01 -6.15517907e-02\n",
      "  1.57473564e+00  1.07496059e+00  2.84180135e-01 -2.69834489e-01\n",
      " -1.19580400e+00 -3.57259244e-01  1.03122443e-02  1.18930742e-01\n",
      "  5.68632901e-01  8.31649601e-01  2.66766906e-01  8.04269165e-02\n",
      "  1.40413985e-01  8.08434784e-01 -3.20889544e+00  5.79952121e-01\n",
      " -1.43465877e+00  1.22611988e+00  2.60002673e-01 -5.96553832e-02\n",
      "  9.77984965e-01  1.41504812e+00  1.68699491e+00 -6.71608150e-01\n",
      "  8.82535994e-01  6.13946557e-01 -3.73455852e-01 -8.29777896e-01\n",
      "  1.26625359e+00  1.42838478e+00 -3.74350131e-01 -1.15059006e+00\n",
      "  9.44018960e-01  5.37177213e-02 -1.00111091e+00  3.66248280e-01\n",
      "  2.84180307e+00 -2.78990418e-01 -2.49530956e-01 -1.77190924e+00]\n"
     ]
    }
   ],
   "source": [
    "with tf.Session() as sess:\n",
    "    \n",
    "    print(tf.random_normal([784]).eval())"
   ]
  },
  {
   "cell_type": "raw",
   "metadata": {},
   "source": [
    "->this is the archetecture for the input data for mnsit pitcure data \n",
    "->we are building a neural network with 2 hidden layers because our input is 784 we are choosing 256 as no of components in each hidden layer\n",
    "-> here we are building dictionaries for weights and biases \n",
    "-> h1 is for the weights from each layer to other layer input to h1 ,h1 to h2 , h2 to output\n",
    "-> same thing for biases we will have biases for each layer \n",
    "-> tf.random_normal([]) is the syntax for creating the object to create a normalized data \n",
    "-> this is not executed yet we have to do it later with a session.\n"
   ]
  },
  {
   "cell_type": "code",
   "execution_count": 59,
   "metadata": {},
   "outputs": [],
   "source": [
    "n_input = 784\n",
    "n_hidden_1 = 256\n",
    "n_hidden_2 = 256\n",
    "n_classes = 10\n",
    "\n",
    "weights = {\n",
    "\n",
    "    'h1' : tf.Variable(tf.random_normal([n_input,n_hidden_1])),\n",
    "    'h2' : tf.Variable(tf.random_normal([n_hidden_1,n_hidden_2])),\n",
    "    'out': tf.Variable(tf.random_normal([n_hidden_2,n_classes]))\n",
    "}\n",
    "biases ={ \n",
    "\n",
    "    'h1' : tf.Variable(tf.random_normal([n_hidden_1])),\n",
    "    'h2' : tf.Variable(tf.random_normal([n_hidden_2])),\n",
    "    'out': tf.Variable(tf.random_normal([n_classes]))\n",
    "}"
   ]
  },
  {
   "cell_type": "code",
   "execution_count": 60,
   "metadata": {},
   "outputs": [],
   "source": [
    "# no of parametrs = 785 * 256 + 257 * 256 + 257 * 10\n",
    "# 200960 + 65792 + 2570\n",
    "# 269322"
   ]
  },
  {
   "cell_type": "markdown",
   "metadata": {},
   "source": [
    "# Forward Propagation"
   ]
  },
  {
   "cell_type": "code",
   "execution_count": 61,
   "metadata": {},
   "outputs": [],
   "source": [
    "def forward_propogation(x,weights,bias):\n",
    "    in_layer1 = tf.add(tf.matmul(x,weights['h1']),biases['h1']) # we are adding biases and the result of matrix multiplication of \n",
    "                                                                # weights and input\n",
    "    out_layer1 = tf.nn.relu(in_layer1) #and applying relu finction here\n",
    "    \n",
    "    in_layer2 = tf.add(tf.matmul(out_layer1,weights['h2']),biases['h2'])\n",
    "    out_layer2 = tf.nn.relu(in_layer2)\n",
    "    \n",
    "    output = tf.add(tf.matmul(out_layer2,weights['out']),biases['out'])\n",
    "    return output\n",
    "# now we have to figure out how do we optimize our weights here we are using randomly assigned weights \n",
    "# from the function tf.random_normal([])\n"
   ]
  },
  {
   "cell_type": "markdown",
   "metadata": {},
   "source": [
    "## using these random weights lets find the accuracy"
   ]
  },
  {
   "cell_type": "code",
   "execution_count": 64,
   "metadata": {},
   "outputs": [],
   "source": [
    "x = tf.placeholder(\"float\", [None,n_input])\n",
    "y = tf.placeholder(tf.int32,[None, 10])"
   ]
  },
  {
   "cell_type": "code",
   "execution_count": 65,
   "metadata": {},
   "outputs": [],
   "source": [
    "pred = forward_propogation(x,weights,biases)"
   ]
  },
  {
   "cell_type": "code",
   "execution_count": 67,
   "metadata": {},
   "outputs": [],
   "source": [
    "predictions = tf.argmax(pred,1)"
   ]
  },
  {
   "cell_type": "code",
   "execution_count": 68,
   "metadata": {},
   "outputs": [],
   "source": [
    "correct_labels = tf.argmax(y,1)"
   ]
  },
  {
   "cell_type": "code",
   "execution_count": 119,
   "metadata": {},
   "outputs": [],
   "source": [
    "sess.run(tf.global_variables_initializer())"
   ]
  },
  {
   "cell_type": "code",
   "execution_count": 122,
   "metadata": {},
   "outputs": [
    {
     "data": {
      "text/plain": [
       "<function tensorflow.python.ops.variables.global_variables_initializer()>"
      ]
     },
     "execution_count": 122,
     "metadata": {},
     "output_type": "execute_result"
    }
   ],
   "source": [
    "tf.compat.v1.global_variables_initializer"
   ]
  },
  {
   "cell_type": "code",
   "execution_count": 123,
   "metadata": {},
   "outputs": [
    {
     "ename": "FailedPreconditionError",
     "evalue": "Attempting to use uninitialized value Variable_19\n\t [[node Variable_19/read (defined at <ipython-input-59-e9996bac5bb7>:16) ]]\n\nOriginal stack trace for 'Variable_19/read':\n  File \"C:\\Users\\blank\\anaconda3\\lib\\runpy.py\", line 194, in _run_module_as_main\n    return _run_code(code, main_globals, None,\n  File \"C:\\Users\\blank\\anaconda3\\lib\\runpy.py\", line 87, in _run_code\n    exec(code, run_globals)\n  File \"C:\\Users\\blank\\anaconda3\\lib\\site-packages\\ipykernel_launcher.py\", line 16, in <module>\n    app.launch_new_instance()\n  File \"C:\\Users\\blank\\anaconda3\\lib\\site-packages\\traitlets\\config\\application.py\", line 845, in launch_instance\n    app.start()\n  File \"C:\\Users\\blank\\anaconda3\\lib\\site-packages\\ipykernel\\kernelapp.py\", line 612, in start\n    self.io_loop.start()\n  File \"C:\\Users\\blank\\anaconda3\\lib\\site-packages\\tornado\\platform\\asyncio.py\", line 149, in start\n    self.asyncio_loop.run_forever()\n  File \"C:\\Users\\blank\\anaconda3\\lib\\asyncio\\base_events.py\", line 570, in run_forever\n    self._run_once()\n  File \"C:\\Users\\blank\\anaconda3\\lib\\asyncio\\base_events.py\", line 1859, in _run_once\n    handle._run()\n  File \"C:\\Users\\blank\\anaconda3\\lib\\asyncio\\events.py\", line 81, in _run\n    self._context.run(self._callback, *self._args)\n  File \"C:\\Users\\blank\\anaconda3\\lib\\site-packages\\tornado\\ioloop.py\", line 690, in <lambda>\n    lambda f: self._run_callback(functools.partial(callback, future))\n  File \"C:\\Users\\blank\\anaconda3\\lib\\site-packages\\tornado\\ioloop.py\", line 743, in _run_callback\n    ret = callback()\n  File \"C:\\Users\\blank\\anaconda3\\lib\\site-packages\\tornado\\gen.py\", line 787, in inner\n    self.run()\n  File \"C:\\Users\\blank\\anaconda3\\lib\\site-packages\\tornado\\gen.py\", line 748, in run\n    yielded = self.gen.send(value)\n  File \"C:\\Users\\blank\\anaconda3\\lib\\site-packages\\ipykernel\\kernelbase.py\", line 365, in process_one\n    yield gen.maybe_future(dispatch(*args))\n  File \"C:\\Users\\blank\\anaconda3\\lib\\site-packages\\tornado\\gen.py\", line 209, in wrapper\n    yielded = next(result)\n  File \"C:\\Users\\blank\\anaconda3\\lib\\site-packages\\ipykernel\\kernelbase.py\", line 268, in dispatch_shell\n    yield gen.maybe_future(handler(stream, idents, msg))\n  File \"C:\\Users\\blank\\anaconda3\\lib\\site-packages\\tornado\\gen.py\", line 209, in wrapper\n    yielded = next(result)\n  File \"C:\\Users\\blank\\anaconda3\\lib\\site-packages\\ipykernel\\kernelbase.py\", line 543, in execute_request\n    self.do_execute(\n  File \"C:\\Users\\blank\\anaconda3\\lib\\site-packages\\tornado\\gen.py\", line 209, in wrapper\n    yielded = next(result)\n  File \"C:\\Users\\blank\\anaconda3\\lib\\site-packages\\ipykernel\\ipkernel.py\", line 306, in do_execute\n    res = shell.run_cell(code, store_history=store_history, silent=silent)\n  File \"C:\\Users\\blank\\anaconda3\\lib\\site-packages\\ipykernel\\zmqshell.py\", line 536, in run_cell\n    return super(ZMQInteractiveShell, self).run_cell(*args, **kwargs)\n  File \"C:\\Users\\blank\\anaconda3\\lib\\site-packages\\IPython\\core\\interactiveshell.py\", line 2877, in run_cell\n    result = self._run_cell(\n  File \"C:\\Users\\blank\\anaconda3\\lib\\site-packages\\IPython\\core\\interactiveshell.py\", line 2923, in _run_cell\n    return runner(coro)\n  File \"C:\\Users\\blank\\anaconda3\\lib\\site-packages\\IPython\\core\\async_helpers.py\", line 68, in _pseudo_sync_runner\n    coro.send(None)\n  File \"C:\\Users\\blank\\anaconda3\\lib\\site-packages\\IPython\\core\\interactiveshell.py\", line 3146, in run_cell_async\n    has_raised = await self.run_ast_nodes(code_ast.body, cell_name,\n  File \"C:\\Users\\blank\\anaconda3\\lib\\site-packages\\IPython\\core\\interactiveshell.py\", line 3338, in run_ast_nodes\n    if (await self.run_code(code, result,  async_=asy)):\n  File \"C:\\Users\\blank\\anaconda3\\lib\\site-packages\\IPython\\core\\interactiveshell.py\", line 3418, in run_code\n    exec(code_obj, self.user_global_ns, self.user_ns)\n  File \"<ipython-input-59-e9996bac5bb7>\", line 16, in <module>\n    'out': tf.Variable(tf.random_normal([n_classes]))\n  File \"C:\\Users\\blank\\anaconda3\\lib\\site-packages\\tensorflow\\python\\ops\\variables.py\", line 260, in __call__\n    return cls._variable_v1_call(*args, **kwargs)\n  File \"C:\\Users\\blank\\anaconda3\\lib\\site-packages\\tensorflow\\python\\ops\\variables.py\", line 206, in _variable_v1_call\n    return previous_getter(\n  File \"C:\\Users\\blank\\anaconda3\\lib\\site-packages\\tensorflow\\python\\ops\\variables.py\", line 199, in <lambda>\n    previous_getter = lambda **kwargs: default_variable_creator(None, **kwargs)\n  File \"C:\\Users\\blank\\anaconda3\\lib\\site-packages\\tensorflow\\python\\ops\\variable_scope.py\", line 2628, in default_variable_creator\n    return variables.RefVariable(\n  File \"C:\\Users\\blank\\anaconda3\\lib\\site-packages\\tensorflow\\python\\ops\\variables.py\", line 264, in __call__\n    return super(VariableMetaclass, cls).__call__(*args, **kwargs)\n  File \"C:\\Users\\blank\\anaconda3\\lib\\site-packages\\tensorflow\\python\\ops\\variables.py\", line 1656, in __init__\n    self._init_from_args(\n  File \"C:\\Users\\blank\\anaconda3\\lib\\site-packages\\tensorflow\\python\\ops\\variables.py\", line 1861, in _init_from_args\n    self._snapshot = array_ops.identity(self._variable, name=\"read\")\n  File \"C:\\Users\\blank\\anaconda3\\lib\\site-packages\\tensorflow\\python\\util\\dispatch.py\", line 206, in wrapper\n    return target(*args, **kwargs)\n  File \"C:\\Users\\blank\\anaconda3\\lib\\site-packages\\tensorflow\\python\\ops\\array_ops.py\", line 288, in identity\n    ret = gen_array_ops.identity(input, name=name)\n  File \"C:\\Users\\blank\\anaconda3\\lib\\site-packages\\tensorflow\\python\\ops\\gen_array_ops.py\", line 3961, in identity\n    _, _, _op, _outputs = _op_def_library._apply_op_helper(\n  File \"C:\\Users\\blank\\anaconda3\\lib\\site-packages\\tensorflow\\python\\framework\\op_def_library.py\", line 748, in _apply_op_helper\n    op = g._create_op_internal(op_type_name, inputs, dtypes=None,\n  File \"C:\\Users\\blank\\anaconda3\\lib\\site-packages\\tensorflow\\python\\framework\\ops.py\", line 3557, in _create_op_internal\n    ret = Operation(\n  File \"C:\\Users\\blank\\anaconda3\\lib\\site-packages\\tensorflow\\python\\framework\\ops.py\", line 2045, in __init__\n    self._traceback = tf_stack.extract_stack_for_node(self._c_op)\n",
     "output_type": "error",
     "traceback": [
      "\u001b[1;31m---------------------------------------------------------------------------\u001b[0m",
      "\u001b[1;31mFailedPreconditionError\u001b[0m                   Traceback (most recent call last)",
      "\u001b[1;32m~\\anaconda3\\lib\\site-packages\\tensorflow\\python\\client\\session.py\u001b[0m in \u001b[0;36m_do_call\u001b[1;34m(self, fn, *args)\u001b[0m\n\u001b[0;32m   1374\u001b[0m     \u001b[1;32mtry\u001b[0m\u001b[1;33m:\u001b[0m\u001b[1;33m\u001b[0m\u001b[1;33m\u001b[0m\u001b[0m\n\u001b[1;32m-> 1375\u001b[1;33m       \u001b[1;32mreturn\u001b[0m \u001b[0mfn\u001b[0m\u001b[1;33m(\u001b[0m\u001b[1;33m*\u001b[0m\u001b[0margs\u001b[0m\u001b[1;33m)\u001b[0m\u001b[1;33m\u001b[0m\u001b[1;33m\u001b[0m\u001b[0m\n\u001b[0m\u001b[0;32m   1376\u001b[0m     \u001b[1;32mexcept\u001b[0m \u001b[0merrors\u001b[0m\u001b[1;33m.\u001b[0m\u001b[0mOpError\u001b[0m \u001b[1;32mas\u001b[0m \u001b[0me\u001b[0m\u001b[1;33m:\u001b[0m\u001b[1;33m\u001b[0m\u001b[1;33m\u001b[0m\u001b[0m\n",
      "\u001b[1;32m~\\anaconda3\\lib\\site-packages\\tensorflow\\python\\client\\session.py\u001b[0m in \u001b[0;36m_run_fn\u001b[1;34m(feed_dict, fetch_list, target_list, options, run_metadata)\u001b[0m\n\u001b[0;32m   1358\u001b[0m       \u001b[0mself\u001b[0m\u001b[1;33m.\u001b[0m\u001b[0m_extend_graph\u001b[0m\u001b[1;33m(\u001b[0m\u001b[1;33m)\u001b[0m\u001b[1;33m\u001b[0m\u001b[1;33m\u001b[0m\u001b[0m\n\u001b[1;32m-> 1359\u001b[1;33m       return self._call_tf_sessionrun(options, feed_dict, fetch_list,\n\u001b[0m\u001b[0;32m   1360\u001b[0m                                       target_list, run_metadata)\n",
      "\u001b[1;32m~\\anaconda3\\lib\\site-packages\\tensorflow\\python\\client\\session.py\u001b[0m in \u001b[0;36m_call_tf_sessionrun\u001b[1;34m(self, options, feed_dict, fetch_list, target_list, run_metadata)\u001b[0m\n\u001b[0;32m   1450\u001b[0m                           run_metadata):\n\u001b[1;32m-> 1451\u001b[1;33m     return tf_session.TF_SessionRun_wrapper(self._session, options, feed_dict,\n\u001b[0m\u001b[0;32m   1452\u001b[0m                                             \u001b[0mfetch_list\u001b[0m\u001b[1;33m,\u001b[0m \u001b[0mtarget_list\u001b[0m\u001b[1;33m,\u001b[0m\u001b[1;33m\u001b[0m\u001b[1;33m\u001b[0m\u001b[0m\n",
      "\u001b[1;31mFailedPreconditionError\u001b[0m: Attempting to use uninitialized value Variable_19\n\t [[{{node Variable_19/read}}]]",
      "\nDuring handling of the above exception, another exception occurred:\n",
      "\u001b[1;31mFailedPreconditionError\u001b[0m                   Traceback (most recent call last)",
      "\u001b[1;32m<ipython-input-123-209dd823740a>\u001b[0m in \u001b[0;36m<module>\u001b[1;34m\u001b[0m\n\u001b[0;32m      1\u001b[0m \u001b[0msess\u001b[0m \u001b[1;33m=\u001b[0m \u001b[0mtf\u001b[0m\u001b[1;33m.\u001b[0m\u001b[0mSession\u001b[0m\u001b[1;33m(\u001b[0m\u001b[1;33m)\u001b[0m\u001b[1;33m\u001b[0m\u001b[1;33m\u001b[0m\u001b[0m\n\u001b[1;32m----> 2\u001b[1;33m \u001b[0mpredictions_eval\u001b[0m  \u001b[1;33m=\u001b[0m \u001b[0msess\u001b[0m\u001b[1;33m.\u001b[0m\u001b[0mrun\u001b[0m\u001b[1;33m(\u001b[0m\u001b[0mpredictions\u001b[0m\u001b[1;33m,\u001b[0m\u001b[0mfeed_dict\u001b[0m \u001b[1;33m=\u001b[0m \u001b[1;33m{\u001b[0m\u001b[0mx\u001b[0m \u001b[1;33m:\u001b[0m \u001b[0mx_train_784\u001b[0m\u001b[1;33m}\u001b[0m\u001b[1;33m)\u001b[0m\u001b[1;33m\u001b[0m\u001b[1;33m\u001b[0m\u001b[0m\n\u001b[0m",
      "\u001b[1;32m~\\anaconda3\\lib\\site-packages\\tensorflow\\python\\client\\session.py\u001b[0m in \u001b[0;36mrun\u001b[1;34m(self, fetches, feed_dict, options, run_metadata)\u001b[0m\n\u001b[0;32m    965\u001b[0m \u001b[1;33m\u001b[0m\u001b[0m\n\u001b[0;32m    966\u001b[0m     \u001b[1;32mtry\u001b[0m\u001b[1;33m:\u001b[0m\u001b[1;33m\u001b[0m\u001b[1;33m\u001b[0m\u001b[0m\n\u001b[1;32m--> 967\u001b[1;33m       result = self._run(None, fetches, feed_dict, options_ptr,\n\u001b[0m\u001b[0;32m    968\u001b[0m                          run_metadata_ptr)\n\u001b[0;32m    969\u001b[0m       \u001b[1;32mif\u001b[0m \u001b[0mrun_metadata\u001b[0m\u001b[1;33m:\u001b[0m\u001b[1;33m\u001b[0m\u001b[1;33m\u001b[0m\u001b[0m\n",
      "\u001b[1;32m~\\anaconda3\\lib\\site-packages\\tensorflow\\python\\client\\session.py\u001b[0m in \u001b[0;36m_run\u001b[1;34m(self, handle, fetches, feed_dict, options, run_metadata)\u001b[0m\n\u001b[0;32m   1188\u001b[0m     \u001b[1;31m# or if the call is a partial run that specifies feeds.\u001b[0m\u001b[1;33m\u001b[0m\u001b[1;33m\u001b[0m\u001b[1;33m\u001b[0m\u001b[0m\n\u001b[0;32m   1189\u001b[0m     \u001b[1;32mif\u001b[0m \u001b[0mfinal_fetches\u001b[0m \u001b[1;32mor\u001b[0m \u001b[0mfinal_targets\u001b[0m \u001b[1;32mor\u001b[0m \u001b[1;33m(\u001b[0m\u001b[0mhandle\u001b[0m \u001b[1;32mand\u001b[0m \u001b[0mfeed_dict_tensor\u001b[0m\u001b[1;33m)\u001b[0m\u001b[1;33m:\u001b[0m\u001b[1;33m\u001b[0m\u001b[1;33m\u001b[0m\u001b[0m\n\u001b[1;32m-> 1190\u001b[1;33m       results = self._do_run(handle, final_targets, final_fetches,\n\u001b[0m\u001b[0;32m   1191\u001b[0m                              feed_dict_tensor, options, run_metadata)\n\u001b[0;32m   1192\u001b[0m     \u001b[1;32melse\u001b[0m\u001b[1;33m:\u001b[0m\u001b[1;33m\u001b[0m\u001b[1;33m\u001b[0m\u001b[0m\n",
      "\u001b[1;32m~\\anaconda3\\lib\\site-packages\\tensorflow\\python\\client\\session.py\u001b[0m in \u001b[0;36m_do_run\u001b[1;34m(self, handle, target_list, fetch_list, feed_dict, options, run_metadata)\u001b[0m\n\u001b[0;32m   1366\u001b[0m \u001b[1;33m\u001b[0m\u001b[0m\n\u001b[0;32m   1367\u001b[0m     \u001b[1;32mif\u001b[0m \u001b[0mhandle\u001b[0m \u001b[1;32mis\u001b[0m \u001b[1;32mNone\u001b[0m\u001b[1;33m:\u001b[0m\u001b[1;33m\u001b[0m\u001b[1;33m\u001b[0m\u001b[0m\n\u001b[1;32m-> 1368\u001b[1;33m       return self._do_call(_run_fn, feeds, fetches, targets, options,\n\u001b[0m\u001b[0;32m   1369\u001b[0m                            run_metadata)\n\u001b[0;32m   1370\u001b[0m     \u001b[1;32melse\u001b[0m\u001b[1;33m:\u001b[0m\u001b[1;33m\u001b[0m\u001b[1;33m\u001b[0m\u001b[0m\n",
      "\u001b[1;32m~\\anaconda3\\lib\\site-packages\\tensorflow\\python\\client\\session.py\u001b[0m in \u001b[0;36m_do_call\u001b[1;34m(self, fn, *args)\u001b[0m\n\u001b[0;32m   1392\u001b[0m                     \u001b[1;34m'\\nsession_config.graph_options.rewrite_options.'\u001b[0m\u001b[1;33m\u001b[0m\u001b[1;33m\u001b[0m\u001b[0m\n\u001b[0;32m   1393\u001b[0m                     'disable_meta_optimizer = True')\n\u001b[1;32m-> 1394\u001b[1;33m       \u001b[1;32mraise\u001b[0m \u001b[0mtype\u001b[0m\u001b[1;33m(\u001b[0m\u001b[0me\u001b[0m\u001b[1;33m)\u001b[0m\u001b[1;33m(\u001b[0m\u001b[0mnode_def\u001b[0m\u001b[1;33m,\u001b[0m \u001b[0mop\u001b[0m\u001b[1;33m,\u001b[0m \u001b[0mmessage\u001b[0m\u001b[1;33m)\u001b[0m\u001b[1;33m\u001b[0m\u001b[1;33m\u001b[0m\u001b[0m\n\u001b[0m\u001b[0;32m   1395\u001b[0m \u001b[1;33m\u001b[0m\u001b[0m\n\u001b[0;32m   1396\u001b[0m   \u001b[1;32mdef\u001b[0m \u001b[0m_extend_graph\u001b[0m\u001b[1;33m(\u001b[0m\u001b[0mself\u001b[0m\u001b[1;33m)\u001b[0m\u001b[1;33m:\u001b[0m\u001b[1;33m\u001b[0m\u001b[1;33m\u001b[0m\u001b[0m\n",
      "\u001b[1;31mFailedPreconditionError\u001b[0m: Attempting to use uninitialized value Variable_19\n\t [[node Variable_19/read (defined at <ipython-input-59-e9996bac5bb7>:16) ]]\n\nOriginal stack trace for 'Variable_19/read':\n  File \"C:\\Users\\blank\\anaconda3\\lib\\runpy.py\", line 194, in _run_module_as_main\n    return _run_code(code, main_globals, None,\n  File \"C:\\Users\\blank\\anaconda3\\lib\\runpy.py\", line 87, in _run_code\n    exec(code, run_globals)\n  File \"C:\\Users\\blank\\anaconda3\\lib\\site-packages\\ipykernel_launcher.py\", line 16, in <module>\n    app.launch_new_instance()\n  File \"C:\\Users\\blank\\anaconda3\\lib\\site-packages\\traitlets\\config\\application.py\", line 845, in launch_instance\n    app.start()\n  File \"C:\\Users\\blank\\anaconda3\\lib\\site-packages\\ipykernel\\kernelapp.py\", line 612, in start\n    self.io_loop.start()\n  File \"C:\\Users\\blank\\anaconda3\\lib\\site-packages\\tornado\\platform\\asyncio.py\", line 149, in start\n    self.asyncio_loop.run_forever()\n  File \"C:\\Users\\blank\\anaconda3\\lib\\asyncio\\base_events.py\", line 570, in run_forever\n    self._run_once()\n  File \"C:\\Users\\blank\\anaconda3\\lib\\asyncio\\base_events.py\", line 1859, in _run_once\n    handle._run()\n  File \"C:\\Users\\blank\\anaconda3\\lib\\asyncio\\events.py\", line 81, in _run\n    self._context.run(self._callback, *self._args)\n  File \"C:\\Users\\blank\\anaconda3\\lib\\site-packages\\tornado\\ioloop.py\", line 690, in <lambda>\n    lambda f: self._run_callback(functools.partial(callback, future))\n  File \"C:\\Users\\blank\\anaconda3\\lib\\site-packages\\tornado\\ioloop.py\", line 743, in _run_callback\n    ret = callback()\n  File \"C:\\Users\\blank\\anaconda3\\lib\\site-packages\\tornado\\gen.py\", line 787, in inner\n    self.run()\n  File \"C:\\Users\\blank\\anaconda3\\lib\\site-packages\\tornado\\gen.py\", line 748, in run\n    yielded = self.gen.send(value)\n  File \"C:\\Users\\blank\\anaconda3\\lib\\site-packages\\ipykernel\\kernelbase.py\", line 365, in process_one\n    yield gen.maybe_future(dispatch(*args))\n  File \"C:\\Users\\blank\\anaconda3\\lib\\site-packages\\tornado\\gen.py\", line 209, in wrapper\n    yielded = next(result)\n  File \"C:\\Users\\blank\\anaconda3\\lib\\site-packages\\ipykernel\\kernelbase.py\", line 268, in dispatch_shell\n    yield gen.maybe_future(handler(stream, idents, msg))\n  File \"C:\\Users\\blank\\anaconda3\\lib\\site-packages\\tornado\\gen.py\", line 209, in wrapper\n    yielded = next(result)\n  File \"C:\\Users\\blank\\anaconda3\\lib\\site-packages\\ipykernel\\kernelbase.py\", line 543, in execute_request\n    self.do_execute(\n  File \"C:\\Users\\blank\\anaconda3\\lib\\site-packages\\tornado\\gen.py\", line 209, in wrapper\n    yielded = next(result)\n  File \"C:\\Users\\blank\\anaconda3\\lib\\site-packages\\ipykernel\\ipkernel.py\", line 306, in do_execute\n    res = shell.run_cell(code, store_history=store_history, silent=silent)\n  File \"C:\\Users\\blank\\anaconda3\\lib\\site-packages\\ipykernel\\zmqshell.py\", line 536, in run_cell\n    return super(ZMQInteractiveShell, self).run_cell(*args, **kwargs)\n  File \"C:\\Users\\blank\\anaconda3\\lib\\site-packages\\IPython\\core\\interactiveshell.py\", line 2877, in run_cell\n    result = self._run_cell(\n  File \"C:\\Users\\blank\\anaconda3\\lib\\site-packages\\IPython\\core\\interactiveshell.py\", line 2923, in _run_cell\n    return runner(coro)\n  File \"C:\\Users\\blank\\anaconda3\\lib\\site-packages\\IPython\\core\\async_helpers.py\", line 68, in _pseudo_sync_runner\n    coro.send(None)\n  File \"C:\\Users\\blank\\anaconda3\\lib\\site-packages\\IPython\\core\\interactiveshell.py\", line 3146, in run_cell_async\n    has_raised = await self.run_ast_nodes(code_ast.body, cell_name,\n  File \"C:\\Users\\blank\\anaconda3\\lib\\site-packages\\IPython\\core\\interactiveshell.py\", line 3338, in run_ast_nodes\n    if (await self.run_code(code, result,  async_=asy)):\n  File \"C:\\Users\\blank\\anaconda3\\lib\\site-packages\\IPython\\core\\interactiveshell.py\", line 3418, in run_code\n    exec(code_obj, self.user_global_ns, self.user_ns)\n  File \"<ipython-input-59-e9996bac5bb7>\", line 16, in <module>\n    'out': tf.Variable(tf.random_normal([n_classes]))\n  File \"C:\\Users\\blank\\anaconda3\\lib\\site-packages\\tensorflow\\python\\ops\\variables.py\", line 260, in __call__\n    return cls._variable_v1_call(*args, **kwargs)\n  File \"C:\\Users\\blank\\anaconda3\\lib\\site-packages\\tensorflow\\python\\ops\\variables.py\", line 206, in _variable_v1_call\n    return previous_getter(\n  File \"C:\\Users\\blank\\anaconda3\\lib\\site-packages\\tensorflow\\python\\ops\\variables.py\", line 199, in <lambda>\n    previous_getter = lambda **kwargs: default_variable_creator(None, **kwargs)\n  File \"C:\\Users\\blank\\anaconda3\\lib\\site-packages\\tensorflow\\python\\ops\\variable_scope.py\", line 2628, in default_variable_creator\n    return variables.RefVariable(\n  File \"C:\\Users\\blank\\anaconda3\\lib\\site-packages\\tensorflow\\python\\ops\\variables.py\", line 264, in __call__\n    return super(VariableMetaclass, cls).__call__(*args, **kwargs)\n  File \"C:\\Users\\blank\\anaconda3\\lib\\site-packages\\tensorflow\\python\\ops\\variables.py\", line 1656, in __init__\n    self._init_from_args(\n  File \"C:\\Users\\blank\\anaconda3\\lib\\site-packages\\tensorflow\\python\\ops\\variables.py\", line 1861, in _init_from_args\n    self._snapshot = array_ops.identity(self._variable, name=\"read\")\n  File \"C:\\Users\\blank\\anaconda3\\lib\\site-packages\\tensorflow\\python\\util\\dispatch.py\", line 206, in wrapper\n    return target(*args, **kwargs)\n  File \"C:\\Users\\blank\\anaconda3\\lib\\site-packages\\tensorflow\\python\\ops\\array_ops.py\", line 288, in identity\n    ret = gen_array_ops.identity(input, name=name)\n  File \"C:\\Users\\blank\\anaconda3\\lib\\site-packages\\tensorflow\\python\\ops\\gen_array_ops.py\", line 3961, in identity\n    _, _, _op, _outputs = _op_def_library._apply_op_helper(\n  File \"C:\\Users\\blank\\anaconda3\\lib\\site-packages\\tensorflow\\python\\framework\\op_def_library.py\", line 748, in _apply_op_helper\n    op = g._create_op_internal(op_type_name, inputs, dtypes=None,\n  File \"C:\\Users\\blank\\anaconda3\\lib\\site-packages\\tensorflow\\python\\framework\\ops.py\", line 3557, in _create_op_internal\n    ret = Operation(\n  File \"C:\\Users\\blank\\anaconda3\\lib\\site-packages\\tensorflow\\python\\framework\\ops.py\", line 2045, in __init__\n    self._traceback = tf_stack.extract_stack_for_node(self._c_op)\n"
     ]
    }
   ],
   "source": [
    "sess = tf.Session()\n",
    "predictions_eval  = sess.run(predictions,feed_dict = {x : x_train_784})"
   ]
  },
  {
   "cell_type": "raw",
   "metadata": {},
   "source": []
  },
  {
   "cell_type": "raw",
   "metadata": {},
   "source": []
  }
 ],
 "metadata": {
  "kernelspec": {
   "display_name": "Python 3",
   "language": "python",
   "name": "python3"
  },
  "language_info": {
   "codemirror_mode": {
    "name": "ipython",
    "version": 3
   },
   "file_extension": ".py",
   "mimetype": "text/x-python",
   "name": "python",
   "nbconvert_exporter": "python",
   "pygments_lexer": "ipython3",
   "version": "3.8.5"
  }
 },
 "nbformat": 4,
 "nbformat_minor": 4
}
