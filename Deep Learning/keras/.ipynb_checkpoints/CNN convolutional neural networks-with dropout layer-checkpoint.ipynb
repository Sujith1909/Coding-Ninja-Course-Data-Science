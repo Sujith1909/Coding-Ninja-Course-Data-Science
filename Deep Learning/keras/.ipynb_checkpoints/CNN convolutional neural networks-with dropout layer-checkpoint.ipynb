{
 "cells": [
  {
   "cell_type": "code",
   "execution_count": 22,
   "metadata": {},
   "outputs": [],
   "source": [
    "import tensorflow as tf"
   ]
  },
  {
   "cell_type": "code",
   "execution_count": 23,
   "metadata": {},
   "outputs": [
    {
     "name": "stdout",
     "output_type": "stream",
     "text": [
      "Extracting MNIST_data/train-images-idx3-ubyte.gz\n",
      "Extracting MNIST_data/train-labels-idx1-ubyte.gz\n",
      "Extracting MNIST_data/t10k-images-idx3-ubyte.gz\n",
      "Extracting MNIST_data/t10k-labels-idx1-ubyte.gz\n"
     ]
    }
   ],
   "source": [
    "from tensorflow.examples.tutorials.mnist import input_data\n",
    "mnist=input_data.read_data_sets('MNIST_data/', one_hot=True)"
   ]
  },
  {
   "cell_type": "code",
   "execution_count": 24,
   "metadata": {},
   "outputs": [],
   "source": [
    "input_width=28\n",
    "input_height=28\n",
    "input_channels=1\n",
    "input_pixels=28*28\n",
    "\n",
    "n_conv1=32\n",
    "n_conv2=64\n",
    "stride_conv1=1\n",
    "stride_conv2=1\n",
    "conv1_k=5\n",
    "conv2_k=5\n",
    "max_pool1_k=2\n",
    "max_pool2_k=2\n",
    "\n",
    "n_hidden=1024\n",
    "n_out=10\n",
    "input_data_shape_to_hidden_layer=(input_width//(max_pool1_k*max_pool2_k))*(input_height//(max_pool1_k*max_pool2_k))*n_conv2"
   ]
  },
  {
   "cell_type": "code",
   "execution_count": 25,
   "metadata": {},
   "outputs": [],
   "source": [
    "weights={\"wc1\":tf.Variable(tf.random_normal((conv1_k, conv1_k, input_channels, n_conv1))),\n",
    "        \"wc2\":tf.Variable(tf.random_normal((conv2_k, conv2_k, n_conv1, n_conv2))),\n",
    "        \"wh1\":tf.Variable(tf.random_normal((input_data_shape_to_hidden_layer, n_hidden))),\n",
    "        \"wo\":tf.Variable(tf.random_normal((n_hidden, n_out)))}\n",
    "biases={\"bc1\":tf.Variable(tf.random_normal((n_conv1, ))),\n",
    "       \"bc2\":tf.Variable(tf.random_normal((n_conv2, ))),\n",
    "       \"h1\":tf.Variable(tf.random_normal((n_hidden, ))),\n",
    "       \"o\":tf.Variable(tf.random_normal((n_out, )))}"
   ]
  },
  {
   "cell_type": "code",
   "execution_count": 26,
   "metadata": {},
   "outputs": [],
   "source": [
    "def conv(x, weights, bias, strides=1):\n",
    "    out=tf.nn.conv2d(x, weights, padding='SAME', strides=[1, strides, strides, 1])\n",
    "    out=tf.nn.bias_add(out, bias)\n",
    "    out=tf.nn.relu(out)\n",
    "    return out\n",
    "def maxpooling(x, k=2):\n",
    "    out=tf.nn.max_pool(x, padding='SAME', ksize=[1, k, k, 1], strides=[1, k, k, 1])\n",
    "    return out"
   ]
  },
  {
   "cell_type": "code",
   "execution_count": 27,
   "metadata": {},
   "outputs": [],
   "source": [
    "def cnn(x, weights, biases, keep_prob):\n",
    "    x=tf.reshape(x, shape=(-1, input_width, input_height, input_channels))\n",
    "    \n",
    "    conv1=conv(x, weights['wc1'], biases['bc1'], stride_conv1)\n",
    "    conv1_pool=maxpooling(conv1, max_pool1_k)\n",
    "    \n",
    "    conv2=conv(conv1_pool, weights['wc2'], biases['bc2'], stride_conv2)\n",
    "    conv2_pool=maxpooling(conv2, max_pool2_k)\n",
    "    \n",
    "    hidden_input=tf.reshape(conv2_pool, shape=(-1, input_data_shape_to_hidden_layer))\n",
    "    hidden_output_before_activation=tf.add(tf.matmul(hidden_input, weights['wh1']), biases['h1'])\n",
    "    hidden_output_before_dropout=tf.nn.relu(hidden_output_before_activation)\n",
    "    hidden_output=tf.nn.dropout(hidden_output_before_dropout, keep_prob)\n",
    "    \n",
    "    output=tf.add(tf.matmul(hidden_output, weights['wo']), biases['o'])\n",
    "    \n",
    "    return output"
   ]
  },
  {
   "cell_type": "code",
   "execution_count": 28,
   "metadata": {},
   "outputs": [],
   "source": [
    "x=tf.placeholder('float', shape=(None, input_pixels))\n",
    "y=tf.placeholder(tf.int32, shape=(None, n_out))\n",
    "keep_prob=tf.placeholder('float')\n",
    "pred=cnn(x, weights, biases, keep_prob)"
   ]
  },
  {
   "cell_type": "code",
   "execution_count": 29,
   "metadata": {},
   "outputs": [],
   "source": [
    "cost=tf.reduce_mean(tf.nn.softmax_cross_entropy_with_logits_v2(logits=pred, labels=y))"
   ]
  },
  {
   "cell_type": "code",
   "execution_count": 30,
   "metadata": {},
   "outputs": [],
   "source": [
    "optimizer=tf.train.AdamOptimizer(learning_rate=0.01)\n",
    "optimize=optimizer.minimize(cost)"
   ]
  },
  {
   "cell_type": "code",
   "execution_count": 31,
   "metadata": {},
   "outputs": [],
   "source": [
    "sess=tf.Session()\n",
    "sess.run(tf.global_variables_initializer())"
   ]
  },
  {
   "cell_type": "code",
   "execution_count": 32,
   "metadata": {},
   "outputs": [
    {
     "name": "stdout",
     "output_type": "stream",
     "text": [
      "1124752.728392601\n",
      "35438.513766527176\n",
      "20082.036641046405\n",
      "12863.45922262936\n",
      "10128.057869623877\n",
      "7485.568730003319\n",
      "5640.705014332414\n",
      "5839.190242731944\n",
      "5591.353065775326\n",
      "5435.020169103333\n",
      "4602.166464297453\n",
      "3953.924775457326\n",
      "3595.380793705983\n",
      "3999.303467959119\n",
      "3730.5781304190145\n",
      "3235.418271073861\n",
      "2528.513306436459\n",
      "2607.5781089261927\n",
      "2077.1452489381663\n",
      "2428.745748791452\n",
      "1903.4942767930902\n",
      "1736.5551482450885\n",
      "2226.557587512974\n",
      "2074.130589367208\n",
      "1751.3817009122104\n"
     ]
    }
   ],
   "source": [
    "batch_size=100\n",
    "for i in range(25):\n",
    "    num_batches=int(mnist.train.num_examples/batch_size)\n",
    "    total_cost=0\n",
    "    for j in range(num_batches):\n",
    "        batch_x, batch_y=mnist.train.next_batch(batch_size)\n",
    "        c, _=sess.run([cost, optimize], feed_dict={x:batch_x, y:batch_y, keep_prob:0.8})\n",
    "        total_cost+=c\n",
    "    print(total_cost)"
   ]
  },
  {
   "cell_type": "code",
   "execution_count": 33,
   "metadata": {},
   "outputs": [
    {
     "data": {
      "text/plain": [
       "0.9838"
      ]
     },
     "execution_count": 33,
     "metadata": {},
     "output_type": "execute_result"
    }
   ],
   "source": [
    "predictions=tf.argmax(pred, axis=1)\n",
    "correct_labels=tf.argmax(y, axis=1)\n",
    "boolean_number_of_correct_predictions=tf.equal(predictions, correct_labels)\n",
    "preds, correct_preds=sess.run([predictions, boolean_number_of_correct_predictions], feed_dict={x:mnist.test.images,\n",
    "                                                                                               y:mnist.test.labels,\n",
    "                                                                                               keep_prob:1.0})\n",
    "correct_preds.sum()/len(correct_preds)"
   ]
  }
 ],
 "metadata": {
  "kernelspec": {
   "display_name": "Python 3",
   "language": "python",
   "name": "python3"
  },
  "language_info": {
   "codemirror_mode": {
    "name": "ipython",
    "version": 3
   },
   "file_extension": ".py",
   "mimetype": "text/x-python",
   "name": "python",
   "nbconvert_exporter": "python",
   "pygments_lexer": "ipython3",
   "version": "3.8.5"
  }
 },
 "nbformat": 4,
 "nbformat_minor": 2
}
