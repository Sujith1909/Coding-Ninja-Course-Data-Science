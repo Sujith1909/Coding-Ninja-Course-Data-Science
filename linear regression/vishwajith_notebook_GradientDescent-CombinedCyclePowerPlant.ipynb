{
 "cells": [
  {
   "cell_type": "code",
   "execution_count": 1,
   "metadata": {},
   "outputs": [],
   "source": [
    "import numpy as np\n",
    "import pandas as pd\n",
    "import sklearn.model_selection as ms\n",
    "import sklearn.preprocessing as ppg\n",
    "from sklearn.linear_model import LinearRegression as LR\n",
    "from sklearn.ensemble import GradientBoostingRegressor as GBR"
   ]
  },
  {
   "cell_type": "code",
   "execution_count": 2,
   "metadata": {},
   "outputs": [],
   "source": [
    "data = np.loadtxt(\"0000000000002419_training_ccpp_x_y_train.csv\", delimiter =\",\")\n",
    "x_train = data[:,:-1]\n",
    "y_train = data[:, -1]\n",
    "x_test = np.loadtxt(\"0000000000002419_test_ccpp_x_test.csv\", delimiter = \",\")"
   ]
  },
  {
   "cell_type": "code",
   "execution_count": 3,
   "metadata": {},
   "outputs": [],
   "source": [
    "model = GBR()\n",
    "model.fit(x_train, y_train)\n",
    "y_test = model.predict(x_test)\n",
    "np.savetxt(\"y_ccpp_predicted.csv\", y_test)"
   ]
  },
  {
   "cell_type": "code",
   "execution_count": null,
   "metadata": {},
   "outputs": [],
   "source": []
  }
 ],
 "metadata": {
  "kernelspec": {
   "display_name": "Python 3",
   "language": "python",
   "name": "python3"
  },
  "language_info": {
   "codemirror_mode": {
    "name": "ipython",
    "version": 3
   },
   "file_extension": ".py",
   "mimetype": "text/x-python",
   "name": "python",
   "nbconvert_exporter": "python",
   "pygments_lexer": "ipython3",
   "version": "3.8.5"
  }
 },
 "nbformat": 4,
 "nbformat_minor": 4
}
