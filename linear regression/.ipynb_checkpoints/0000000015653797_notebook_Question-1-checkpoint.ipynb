{
 "cells": [
  {
   "cell_type": "code",
   "execution_count": 1,
   "metadata": {},
   "outputs": [
    {
     "data": {
      "text/html": [
       "<style>.container { width:100% !important; }</style>"
      ],
      "text/plain": [
       "<IPython.core.display.HTML object>"
      ]
     },
     "metadata": {},
     "output_type": "display_data"
    }
   ],
   "source": [
    "from IPython.core.display import display, HTML\n",
    "display(HTML(\"<style>.container { width:100% !important; }</style>\"))"
   ]
  },
  {
   "cell_type": "code",
   "execution_count": 36,
   "metadata": {},
   "outputs": [],
   "source": [
    "import numpy as np\n",
    "from sklearn import preprocessing\n",
    "data_train = np.loadtxt('0000000000002417_training_boston_x_y_train.csv', delimiter=',')\n",
    "#points = data_train"
   ]
  },
  {
   "cell_type": "code",
   "execution_count": 4,
   "metadata": {},
   "outputs": [
    {
     "data": {
      "text/plain": [
       "(379, 14)"
      ]
     },
     "execution_count": 4,
     "metadata": {},
     "output_type": "execute_result"
    }
   ],
   "source": [
    "data_train.shape"
   ]
  },
  {
   "cell_type": "code",
   "execution_count": 212,
   "metadata": {},
   "outputs": [],
   "source": [
    "def step_gradient(points, learning_rate, m):\n",
    "    m_slope= np.zeros(m.shape) \n",
    "    features = points[:,:-1].shape[1]\n",
    "    M = len(points)\n",
    "    for i in range(M):\n",
    "        x = points[i,[0,1,2,3,4,5,6,7,8,9,10,11,12,14]]\n",
    "        y = points[i,13]\n",
    "        for j in range(features):\n",
    "            m_slope[j] += (-2/M)*(y-((m*x).sum()))*x[j]\n",
    "    new_m = m - learning_rate*m_slope\n",
    "    return new_m"
   ]
  },
  {
   "cell_type": "code",
   "execution_count": 4,
   "metadata": {},
   "outputs": [],
   "source": [
    "def grad(points, learning_rate , num_iter):\n",
    "    m = np.ones(points.shape[1]-1)\n",
    "    for i in range(num_iter):\n",
    "        m = step_gradient(points, learning_rate , m)\n",
    "        print(i, \"Cost: \", cost(points, m))\n",
    "    return m"
   ]
  },
  {
   "cell_type": "code",
   "execution_count": 214,
   "metadata": {},
   "outputs": [],
   "source": [
    "def cost(points, m):\n",
    "    total_cost = 0\n",
    "    M = points.shape[0]\n",
    "    for i in range(M):\n",
    "        x = points[i,[0,1,2,3,4,5,6,7,8,9,10,11,12,14]]\n",
    "        y = points[i,13]\n",
    "        total_cost += (1/M) * ((y - ((m*x).sum()))**2)\n",
    "    return total_cost"
   ]
  },
  {
   "cell_type": "code",
   "execution_count": 20,
   "metadata": {},
   "outputs": [
    {
     "data": {
      "text/plain": [
       "(379, 15)"
      ]
     },
     "execution_count": 20,
     "metadata": {},
     "output_type": "execute_result"
    }
   ],
   "source": [
    "data_train = np.loadtxt('0000000000002417_training_boston_x_y_train.csv', delimiter=',')\n",
    "extra_c_train = np.ones((len(data_train),1))\n",
    "data_train = np.append(data_train, extra_c_train, axis=1)\n",
    "data_train.shape"
   ]
  },
  {
   "cell_type": "code",
   "execution_count": 160,
   "metadata": {
    "scrolled": true
   },
   "outputs": [
    {
     "name": "stdout",
     "output_type": "stream",
     "text": [
      "0 Cost:  397.5202579113707\n",
      "1 Cost:  299.52365766954506\n",
      "2 Cost:  228.5021461970386\n",
      "3 Cost:  176.32667196611334\n",
      "4 Cost:  137.9023564126991\n",
      "5 Cost:  109.54178924622072\n",
      "6 Cost:  88.56066530624597\n",
      "7 Cost:  73.00062559310267\n",
      "8 Cost:  61.4301413903336\n",
      "9 Cost:  52.800889617286096\n",
      "10 Cost:  46.34386830317945\n",
      "11 Cost:  41.494067316747866\n",
      "12 Cost:  37.83571931223486\n",
      "13 Cost:  35.06242427659079\n",
      "14 Cost:  32.94805079105714\n",
      "15 Cost:  31.325463811531066\n",
      "16 Cost:  30.07094854735588\n",
      "17 Cost:  29.092788032120538\n",
      "18 Cost:  28.322875055255484\n",
      "19 Cost:  27.71054439112583\n",
      "20 Cost:  27.218032103302907\n",
      "21 Cost:  26.817128849109952\n",
      "22 Cost:  26.4867104992823\n",
      "23 Cost:  26.210914146030138\n",
      "24 Cost:  25.97778941001975\n",
      "25 Cost:  25.778300147297955\n",
      "26 Cost:  25.605584733125234\n",
      "27 Cost:  25.45440734278804\n",
      "28 Cost:  25.3207504414474\n",
      "29 Cost:  25.20151176807059\n",
      "30 Cost:  25.09427871459956\n",
      "31 Cost:  24.99716008196539\n",
      "32 Cost:  24.908660412869153\n",
      "33 Cost:  24.82758595051411\n",
      "34 Cost:  24.75297411420151\n",
      "35 Cost:  24.684040482246488\n",
      "36 Cost:  24.620138825019975\n",
      "37 Cost:  24.56073087951984\n",
      "38 Cost:  24.505363407324314\n",
      "39 Cost:  24.453650707917415\n",
      "40 Cost:  24.405261226597002\n",
      "41 Cost:  24.35990724284965\n",
      "42 Cost:  24.317336882496765\n",
      "43 Cost:  24.277327888209513\n",
      "44 Cost:  24.23968272526127\n",
      "45 Cost:  24.204224705296653\n",
      "46 Cost:  24.17079488981012\n",
      "47 Cost:  24.13924959389802\n",
      "48 Cost:  24.109458354814002\n",
      "49 Cost:  24.081302262740284\n",
      "50 Cost:  24.05467257581999\n",
      "51 Cost:  24.029469559977752\n",
      "52 Cost:  24.00560150795584\n",
      "53 Cost:  23.982983902465556\n",
      "54 Cost:  23.961538696271685\n",
      "55 Cost:  23.94119368802456\n",
      "56 Cost:  23.921881977220156\n",
      "57 Cost:  23.90354148515096\n",
      "58 Cost:  23.88611453138361\n",
      "59 Cost:  23.869547457358685\n",
      "60 Cost:  23.853790290304023\n",
      "61 Cost:  23.838796441897824\n",
      "62 Cost:  23.82452243709449\n",
      "63 Cost:  23.810927669298074\n",
      "64 Cost:  23.797974178683997\n",
      "65 Cost:  23.78562645096298\n",
      "66 Cost:  23.773851234280965\n",
      "67 Cost:  23.762617372275873\n",
      "68 Cost:  23.75189565158005\n",
      "69 Cost:  23.741658662280937\n",
      "70 Cost:  23.731880670039494\n",
      "71 Cost:  23.722537498722883\n",
      "72 Cost:  23.71360642254264\n",
      "73 Cost:  23.70506606680414\n",
      "74 Cost:  23.6968963164718\n",
      "75 Cost:  23.689078231839805\n",
      "76 Cost:  23.681593970674307\n",
      "77 Cost:  23.674426716256235\n",
      "78 Cost:  23.667560610813144\n",
      "79 Cost:  23.66098069387827\n",
      "80 Cost:  23.654672845160462\n",
      "81 Cost:  23.64862373154828\n",
      "82 Cost:  23.642820757906996\n",
      "83 Cost:  23.637252021359878\n",
      "84 Cost:  23.631906268772546\n",
      "85 Cost:  23.626772857185017\n",
      "86 Cost:  23.62184171695993\n",
      "87 Cost:  23.617103317434236\n",
      "88 Cost:  23.6125486348823\n",
      "89 Cost:  23.608169122613194\n",
      "90 Cost:  23.60395668304201\n",
      "91 Cost:  23.59990364158691\n",
      "92 Cost:  23.596002722257616\n",
      "93 Cost:  23.592247024811208\n",
      "94 Cost:  23.588630003361736\n",
      "95 Cost:  23.5851454463399\n",
      "96 Cost:  23.581787457706252\n",
      "97 Cost:  23.57855043933027\n",
      "98 Cost:  23.575429074454306\n",
      "99 Cost:  23.572418312167297\n",
      "100 Cost:  23.569513352819342\n",
      "101 Cost:  23.566709634313806\n",
      "102 Cost:  23.56400281921791\n",
      "103 Cost:  23.5613887826375\n",
      "104 Cost:  23.558863600805836\n",
      "105 Cost:  23.556423540339637\n",
      "106 Cost:  23.55406504811957\n",
      "107 Cost:  23.551784741754645\n",
      "108 Cost:  23.549579400593963\n",
      "109 Cost:  23.547445957251064\n",
      "110 Cost:  23.545381489608477\n",
      "111 Cost:  23.543383213273355\n",
      "112 Cost:  23.5414484744558\n",
      "113 Cost:  23.539574743244447\n",
      "114 Cost:  23.537759607254998\n",
      "115 Cost:  23.536000765629108\n",
      "116 Cost:  23.534296023363073\n",
      "117 Cost:  23.532643285946307\n",
      "118 Cost:  23.531040554291575\n",
      "119 Cost:  23.529485919939653\n",
      "120 Cost:  23.52797756052262\n",
      "121 Cost:  23.526513735470527\n",
      "122 Cost:  23.525092781947844\n",
      "123 Cost:  23.523713111005993\n",
      "124 Cost:  23.522373203940116\n",
      "125 Cost:  23.52107160883812\n",
      "126 Cost:  23.5198069373115\n",
      "127 Cost:  23.51857786139736\n",
      "128 Cost:  23.517383110622617\n",
      "129 Cost:  23.516221469220714\n",
      "130 Cost:  23.51509177349284\n",
      "131 Cost:  23.513992909305806\n",
      "132 Cost:  23.512923809718494\n",
      "133 Cost:  23.511883452730515\n",
      "134 Cost:  23.510870859146074\n",
      "135 Cost:  23.509885090546828\n",
      "136 Cost:  23.50892524736803\n",
      "137 Cost:  23.507990467071956\n",
      "138 Cost:  23.507079922414277\n",
      "139 Cost:  23.506192819797242\n",
      "140 Cost:  23.50532839770611\n",
      "141 Cost:  23.50448592522379\n",
      "142 Cost:  23.503664700619765\n",
      "143 Cost:  23.502864050009403\n",
      "144 Cost:  23.502083326079845\n",
      "145 Cost:  23.501321906879113\n",
      "146 Cost:  23.500579194665058\n",
      "147 Cost:  23.499854614810985\n",
      "148 Cost:  23.499147614765143\n",
      "149 Cost:  23.498457663061387\n",
      "150 Cost:  23.497784248377698\n",
      "151 Cost:  23.49712687864112\n",
      "152 Cost:  23.496485080176083\n",
      "153 Cost:  23.49585839689371\n",
      "154 Cost:  23.495246389520748\n",
      "155 Cost:  23.494648634865314\n",
      "156 Cost:  23.49406472511826\n",
      "157 Cost:  23.493494267187593\n",
      "158 Cost:  23.492936882065106\n",
      "159 Cost:  23.49239220422309\n"
     ]
    }
   ],
   "source": [
    "m = grad(data_train, 0.07, 160)"
   ]
  },
  {
   "cell_type": "code",
   "execution_count": 263,
   "metadata": {},
   "outputs": [
    {
     "data": {
      "text/plain": [
       "array([-0.90741293,  0.66147112, -0.1539012 ,  0.79795121, -2.09297288,\n",
       "        2.38904467,  0.10361296, -2.90334528,  2.14474131, -1.27252727,\n",
       "       -2.22868736,  0.58221729, -4.2584876 , 22.67675527])"
      ]
     },
     "execution_count": 263,
     "metadata": {},
     "output_type": "execute_result"
    }
   ],
   "source": [
    "m"
   ]
  },
  {
   "cell_type": "code",
   "execution_count": 155,
   "metadata": {},
   "outputs": [],
   "source": [
    "data_test = np.loadtxt('0000000000002417_test_boston_x_test.csv', delimiter=',')"
   ]
  },
  {
   "cell_type": "code",
   "execution_count": 157,
   "metadata": {},
   "outputs": [
    {
     "data": {
      "text/plain": [
       "(127, 14)"
      ]
     },
     "execution_count": 157,
     "metadata": {},
     "output_type": "execute_result"
    }
   ],
   "source": [
    "extra_c_test = np.ones((len(data_test),1))\n",
    "data_test = np.append(data_test, extra_c_test, axis=1)\n",
    "data_test.shape"
   ]
  },
  {
   "cell_type": "code",
   "execution_count": 158,
   "metadata": {},
   "outputs": [],
   "source": [
    "ans = []\n",
    "acc = data_test*p\n",
    "for i in acc:\n",
    "    ans.append((i.sum(),))"
   ]
  },
  {
   "cell_type": "code",
   "execution_count": 159,
   "metadata": {},
   "outputs": [],
   "source": [
    "np.savetxt('p1.csv', ans, delimiter='')"
   ]
  },
  {
   "cell_type": "markdown",
   "metadata": {},
   "source": [
    "# Using Feature Scaling"
   ]
  },
  {
   "cell_type": "code",
   "execution_count": 1,
   "metadata": {},
   "outputs": [],
   "source": [
    "from sklearn import preprocessing"
   ]
  },
  {
   "cell_type": "code",
   "execution_count": 37,
   "metadata": {},
   "outputs": [],
   "source": [
    "scaler = preprocessing.StandardScaler()\n",
    "train = np.loadtxt('0000000000002417_training_boston_x_y_train.csv', delimiter=',')\n",
    "y_train =  train[:,-1].reshape(-1,1)\n",
    "x_train = np.delete(train,-1,1)\n",
    "extra_c_train = np.ones((len(x_train), 1))\n",
    "x_train = np.append(x_train, extra_c_train, axis=1)\n",
    "\n",
    "\n",
    "\n",
    "data_train_final = np.append(scaled_x_train, y_train, axis=1)"
   ]
  },
  {
   "cell_type": "code",
   "execution_count": 15,
   "metadata": {},
   "outputs": [],
   "source": [
    "def step_gradient(points, learning_rate, m):\n",
    "    m_slope= np.zeros(m.shape) \n",
    "    features = points[:,:-1].shape[1]\n",
    "    M = len(points)\n",
    "    for i in range(M):\n",
    "        x = points[i,:-1]\n",
    "        y = points[i,-1]\n",
    "        for j in range(features):\n",
    "            m_slope[j] += (-2/M)*(y-((m*x).sum()))*x[j]\n",
    "    new_m = m - learning_rate*m_slope\n",
    "    return new_m"
   ]
  },
  {
   "cell_type": "code",
   "execution_count": 16,
   "metadata": {},
   "outputs": [],
   "source": [
    "def grad(points, learning_rate , num_iter):\n",
    "    m = np.ones(points.shape[1]-1)\n",
    "    for i in range(num_iter):\n",
    "        m = step_gradient(points, learning_rate , m)\n",
    "        print(i, \"Cost: \", cost(points, m))\n",
    "    return m"
   ]
  },
  {
   "cell_type": "code",
   "execution_count": 17,
   "metadata": {},
   "outputs": [],
   "source": [
    "def cost(points, m):\n",
    "    total_cost = 0\n",
    "    M = points.shape[0]\n",
    "    for i in range(M):\n",
    "        x = points[i,:-1]\n",
    "        y = points[i,-1]\n",
    "        total_cost += (1/M) * ((y - ((m*x).sum()))**2)\n",
    "    return total_cost"
   ]
  },
  {
   "cell_type": "code",
   "execution_count": 25,
   "metadata": {},
   "outputs": [
    {
     "data": {
      "text/plain": [
       "array([[ 2.71887193, -0.49042688,  0.96425328, ..., -1.55922624,\n",
       "         1.00848766,  0.        ],\n",
       "       [-0.39679863, -0.49042688,  0.36404766, ...,  0.45032651,\n",
       "        -0.90051604,  0.        ],\n",
       "       [-0.4059786 , -0.49042688,  0.07830384, ...,  0.45032651,\n",
       "        -0.5120801 ,  0.        ],\n",
       "       ...,\n",
       "       [-0.40301108,  2.08605624, -1.39205635, ...,  0.40093342,\n",
       "        -0.69040122,  0.        ],\n",
       "       [-0.39659658, -0.49042688, -0.405594  , ...,  0.35078378,\n",
       "         0.1804694 ,  0.        ],\n",
       "       [-0.14369589, -0.49042688,  1.17676627, ..., -2.88149098,\n",
       "         0.46384794,  0.        ]])"
      ]
     },
     "execution_count": 25,
     "metadata": {},
     "output_type": "execute_result"
    }
   ],
   "source": [
    "test = np.loadtxt('0000000000002417_test_boston_x_test.csv', delimiter=',')\n",
    "extra_c_test = np.ones((len(test), 1))\n",
    "test = np.append(test, extra_c_test, axis=1)\n",
    "\n",
    "scaler.transform(test)"
   ]
  },
  {
   "cell_type": "code",
   "execution_count": 31,
   "metadata": {},
   "outputs": [],
   "source": [
    "x = test*m2\n",
    "ans2=[]\n",
    "for i in x:\n",
    "    ans2.append(i.sum())"
   ]
  },
  {
   "cell_type": "markdown",
   "metadata": {},
   "source": [
    "## Adding more features"
   ]
  },
  {
   "cell_type": "code",
   "execution_count": 37,
   "metadata": {},
   "outputs": [],
   "source": [
    "import numpy as np\n",
    "import pandas as pd\n",
    "from sklearn import preprocessing"
   ]
  },
  {
   "cell_type": "code",
   "execution_count": 38,
   "metadata": {},
   "outputs": [
    {
     "data": {
      "text/html": [
       "<div>\n",
       "<style scoped>\n",
       "    .dataframe tbody tr th:only-of-type {\n",
       "        vertical-align: middle;\n",
       "    }\n",
       "\n",
       "    .dataframe tbody tr th {\n",
       "        vertical-align: top;\n",
       "    }\n",
       "\n",
       "    .dataframe thead th {\n",
       "        text-align: right;\n",
       "    }\n",
       "</style>\n",
       "<table border=\"1\" class=\"dataframe\">\n",
       "  <thead>\n",
       "    <tr style=\"text-align: right;\">\n",
       "      <th></th>\n",
       "      <th>0</th>\n",
       "      <th>1</th>\n",
       "      <th>2</th>\n",
       "      <th>3</th>\n",
       "      <th>4</th>\n",
       "      <th>5</th>\n",
       "      <th>6</th>\n",
       "      <th>7</th>\n",
       "      <th>8</th>\n",
       "      <th>9</th>\n",
       "      <th>10</th>\n",
       "      <th>11</th>\n",
       "      <th>12</th>\n",
       "    </tr>\n",
       "  </thead>\n",
       "  <tbody>\n",
       "    <tr>\n",
       "      <th>0</th>\n",
       "      <td>-0.407850</td>\n",
       "      <td>-0.487722</td>\n",
       "      <td>-1.266023</td>\n",
       "      <td>-0.272599</td>\n",
       "      <td>-0.576134</td>\n",
       "      <td>1.239974</td>\n",
       "      <td>0.840122</td>\n",
       "      <td>-0.520264</td>\n",
       "      <td>-0.752922</td>\n",
       "      <td>-1.278354</td>\n",
       "      <td>-0.303094</td>\n",
       "      <td>0.410571</td>\n",
       "      <td>-1.097990</td>\n",
       "    </tr>\n",
       "    <tr>\n",
       "      <th>1</th>\n",
       "      <td>-0.407374</td>\n",
       "      <td>-0.487722</td>\n",
       "      <td>0.247057</td>\n",
       "      <td>-0.272599</td>\n",
       "      <td>-1.016689</td>\n",
       "      <td>0.001946</td>\n",
       "      <td>-0.838337</td>\n",
       "      <td>0.336351</td>\n",
       "      <td>-0.523001</td>\n",
       "      <td>-0.060801</td>\n",
       "      <td>0.113032</td>\n",
       "      <td>0.291169</td>\n",
       "      <td>-0.520474</td>\n",
       "    </tr>\n",
       "    <tr>\n",
       "      <th>2</th>\n",
       "      <td>0.125179</td>\n",
       "      <td>-0.487722</td>\n",
       "      <td>1.015999</td>\n",
       "      <td>-0.272599</td>\n",
       "      <td>1.367490</td>\n",
       "      <td>-0.439699</td>\n",
       "      <td>0.687212</td>\n",
       "      <td>-0.577309</td>\n",
       "      <td>1.661245</td>\n",
       "      <td>1.530926</td>\n",
       "      <td>0.806576</td>\n",
       "      <td>-3.795795</td>\n",
       "      <td>0.891076</td>\n",
       "    </tr>\n",
       "    <tr>\n",
       "      <th>3</th>\n",
       "      <td>0.028304</td>\n",
       "      <td>-0.487722</td>\n",
       "      <td>1.015999</td>\n",
       "      <td>-0.272599</td>\n",
       "      <td>1.859875</td>\n",
       "      <td>-0.047918</td>\n",
       "      <td>0.801005</td>\n",
       "      <td>-0.712836</td>\n",
       "      <td>1.661245</td>\n",
       "      <td>1.530926</td>\n",
       "      <td>0.806576</td>\n",
       "      <td>-0.066050</td>\n",
       "      <td>0.215438</td>\n",
       "    </tr>\n",
       "    <tr>\n",
       "      <th>4</th>\n",
       "      <td>-0.412408</td>\n",
       "      <td>-0.487722</td>\n",
       "      <td>-0.969827</td>\n",
       "      <td>-0.272599</td>\n",
       "      <td>-0.913029</td>\n",
       "      <td>-0.384137</td>\n",
       "      <td>-0.834781</td>\n",
       "      <td>0.300508</td>\n",
       "      <td>-0.752922</td>\n",
       "      <td>-0.957633</td>\n",
       "      <td>0.020560</td>\n",
       "      <td>0.431074</td>\n",
       "      <td>0.029007</td>\n",
       "    </tr>\n",
       "  </tbody>\n",
       "</table>\n",
       "</div>"
      ],
      "text/plain": [
       "         0         1         2         3         4         5         6   \\\n",
       "0 -0.407850 -0.487722 -1.266023 -0.272599 -0.576134  1.239974  0.840122   \n",
       "1 -0.407374 -0.487722  0.247057 -0.272599 -1.016689  0.001946 -0.838337   \n",
       "2  0.125179 -0.487722  1.015999 -0.272599  1.367490 -0.439699  0.687212   \n",
       "3  0.028304 -0.487722  1.015999 -0.272599  1.859875 -0.047918  0.801005   \n",
       "4 -0.412408 -0.487722 -0.969827 -0.272599 -0.913029 -0.384137 -0.834781   \n",
       "\n",
       "         7         8         9         10        11        12  \n",
       "0 -0.520264 -0.752922 -1.278354 -0.303094  0.410571 -1.097990  \n",
       "1  0.336351 -0.523001 -0.060801  0.113032  0.291169 -0.520474  \n",
       "2 -0.577309  1.661245  1.530926  0.806576 -3.795795  0.891076  \n",
       "3 -0.712836  1.661245  1.530926  0.806576 -0.066050  0.215438  \n",
       "4  0.300508 -0.752922 -0.957633  0.020560  0.431074  0.029007  "
      ]
     },
     "execution_count": 38,
     "metadata": {},
     "output_type": "execute_result"
    }
   ],
   "source": [
    "train = np.loadtxt('0000000000002417_training_boston_x_y_train.csv', delimiter=',')\n",
    "df = pd.DataFrame(train)\n",
    "df2 = df.drop(columns=[13])\n",
    "df2.head()"
   ]
  },
  {
   "cell_type": "code",
   "execution_count": 39,
   "metadata": {},
   "outputs": [],
   "source": [
    "c = 14\n",
    "for i in range(13):\n",
    "    df2[c] = df2[i] * df2[i]\n",
    "    c+=1"
   ]
  },
  {
   "cell_type": "code",
   "execution_count": 40,
   "metadata": {},
   "outputs": [],
   "source": [
    "train = df2.values"
   ]
  },
  {
   "cell_type": "code",
   "execution_count": 41,
   "metadata": {},
   "outputs": [
    {
     "data": {
      "text/plain": [
       "array([-0.40098068, -0.49042688, -1.28149216, -0.28784917, -0.60591662,\n",
       "        1.20795021,  0.81483835, -0.50560448, -0.7845217 , -1.29796291,\n",
       "       -0.32264241,  0.42027996, -1.10095452, -0.13620605, -0.30930955,\n",
       "        0.62507565, -0.28784917, -0.47737514,  0.27772315, -0.26187069,\n",
       "       -0.47263382, -0.42802331,  0.62925603, -0.68816762, -0.28011888,\n",
       "        0.11743628,  1.        , 37.9       ])"
      ]
     },
     "execution_count": 41,
     "metadata": {},
     "output_type": "execute_result"
    }
   ],
   "source": [
    "scaler = preprocessing.StandardScaler()\n",
    "scaler.fit(train)\n",
    "scaled_train = scaler.transform(train)\n",
    "\n",
    "extra_c_train = np.ones((len(scaled_train),1))\n",
    "scaled_train = np.append(scaled_train, extra_c_train, axis=1)\n",
    "y_train = df[13].values.reshape(-1,1)\n",
    "\n",
    "data_train_final = np.append(scaled_train, y_train, axis=1)\n",
    "\n",
    "data_train_final[0]"
   ]
  },
  {
   "cell_type": "code",
   "execution_count": 45,
   "metadata": {},
   "outputs": [],
   "source": [
    "def step_gradient(points, learning_rate, m):\n",
    "    m_slope= np.zeros(m.shape) \n",
    "    features = points[:,:-1].shape[1]\n",
    "    M = len(points)\n",
    "    for i in range(M):\n",
    "        x = points[i,:-1]\n",
    "        y = points[i,-1]\n",
    "        for j in range(features):\n",
    "            m_slope[j] += (-2/M)*(y-((m*x).sum()))*x[j]\n",
    "    new_m = m - learning_rate*m_slope\n",
    "    return new_m"
   ]
  },
  {
   "cell_type": "code",
   "execution_count": 46,
   "metadata": {},
   "outputs": [],
   "source": [
    "def grad(points, learning_rate , num_iter):\n",
    "    m = np.ones(points.shape[1]-1)\n",
    "    for i in range(num_iter):\n",
    "        m = step_gradient(points, learning_rate , m)\n",
    "        print(i, \"Cost: \", cost(points, m))\n",
    "    return m"
   ]
  },
  {
   "cell_type": "code",
   "execution_count": 47,
   "metadata": {},
   "outputs": [],
   "source": [
    "def cost(points, m):\n",
    "    total_cost = 0\n",
    "    M = points.shape[0]\n",
    "    for i in range(M):\n",
    "        x = points[i,:-1]\n",
    "        y = points[i,-1]\n",
    "        total_cost += (1/M) * ((y - ((m*x).sum()))**2)\n",
    "    return total_cost"
   ]
  },
  {
   "cell_type": "code",
   "execution_count": 52,
   "metadata": {},
   "outputs": [
    {
     "name": "stdout",
     "output_type": "stream",
     "text": [
      "0 Cost:  385.8266477124732\n",
      "1 Cost:  239.6949174233648\n",
      "2 Cost:  156.1228868472738\n",
      "3 Cost:  105.98122537238895\n",
      "4 Cost:  75.04181941751658\n",
      "5 Cost:  55.607121306829896\n",
      "6 Cost:  43.24474208409557\n",
      "7 Cost:  35.3010599483887\n",
      "8 Cost:  30.147565344392206\n",
      "9 Cost:  26.768905284697126\n",
      "10 Cost:  24.525542808351688\n",
      "11 Cost:  23.011965585826143\n",
      "12 Cost:  21.969884474310007\n",
      "13 Cost:  21.234236795105627\n",
      "14 Cost:  20.699246621084203\n",
      "15 Cost:  20.296949652623823\n",
      "16 Cost:  19.983546785080755\n",
      "17 Cost:  19.730708240428953\n",
      "18 Cost:  19.520021924064853\n",
      "19 Cost:  19.339444381548603\n",
      "20 Cost:  19.181029595899776\n",
      "21 Cost:  19.03947418474658\n",
      "22 Cost:  18.91118465546426\n",
      "23 Cost:  18.79367873094603\n",
      "24 Cost:  18.685200581381487\n",
      "25 Cost:  18.584473103163322\n",
      "26 Cost:  18.490538061004827\n",
      "27 Cost:  18.402652605890488\n",
      "28 Cost:  18.320222002393475\n",
      "29 Cost:  18.242755643713014\n",
      "30 Cost:  18.16983807053917\n",
      "31 Cost:  18.101109679593293\n",
      "32 Cost:  18.036253709948987\n",
      "33 Cost:  17.974987314171926\n",
      "34 Cost:  17.91705530274273\n",
      "35 Cost:  17.86222565146017\n",
      "36 Cost:  17.8102861832647\n",
      "37 Cost:  17.76104204264572\n",
      "38 Cost:  17.71431371378156\n",
      "39 Cost:  17.669935419254518\n",
      "40 Cost:  17.627753791517808\n",
      "41 Cost:  17.587626745128865\n",
      "42 Cost:  17.549422501058753\n",
      "43 Cost:  17.513018729606173\n",
      "44 Cost:  17.47830178845234\n",
      "45 Cost:  17.445166039027324\n",
      "46 Cost:  17.41351322880585\n",
      "47 Cost:  17.38325193017168\n",
      "48 Cost:  17.354297028572923\n",
      "49 Cost:  17.326569254160432\n",
      "50 Cost:  17.299994752157\n",
      "51 Cost:  17.274504687984223\n",
      "52 Cost:  17.250034883764396\n",
      "53 Cost:  17.226525483272415\n",
      "54 Cost:  17.203920642777824\n",
      "55 Cost:  17.18216824551451\n",
      "56 Cost:  17.161219637762642\n",
      "57 Cost:  17.14102938473654\n",
      "58 Cost:  17.121555044652013\n",
      "59 Cost:  17.10275695950215\n",
      "60 Cost:  17.08459806120746\n",
      "61 Cost:  17.06704369192732\n",
      "62 Cost:  17.050061437426454\n",
      "63 Cost:  17.033620972487185\n",
      "64 Cost:  17.01769391744314\n",
      "65 Cost:  17.00225370498888\n",
      "66 Cost:  16.987275456489318\n",
      "67 Cost:  16.97273586707635\n",
      "68 Cost:  16.958613098878256\n",
      "69 Cost:  16.944886681779074\n",
      "70 Cost:  16.9315374211534\n",
      "71 Cost:  16.918547312065776\n",
      "72 Cost:  16.905899459462585\n",
      "73 Cost:  16.893578003922336\n",
      "74 Cost:  16.881568052562113\n",
      "75 Cost:  16.869855614729424\n",
      "76 Cost:  16.85842754213619\n",
      "77 Cost:  16.847271473117807\n",
      "78 Cost:  16.836375780723824\n",
      "79 Cost:  16.825729524368075\n",
      "80 Cost:  16.815322404786947\n",
      "81 Cost:  16.805144722072512\n",
      "82 Cost:  16.795187336564197\n",
      "83 Cost:  16.785441632399127\n",
      "84 Cost:  16.77589948353458\n",
      "85 Cost:  16.766553222070833\n",
      "86 Cost:  16.757395608713992\n",
      "87 Cost:  16.748419805230455\n",
      "88 Cost:  16.73961934875498\n",
      "89 Cost:  16.730988127824535\n",
      "90 Cost:  16.722520360018557\n",
      "91 Cost:  16.714210571095574\n",
      "92 Cost:  16.706053575522937\n",
      "93 Cost:  16.698044458304647\n",
      "94 Cost:  16.690178558018072\n",
      "95 Cost:  16.68245145097723\n",
      "96 Cost:  16.674858936445826\n",
      "97 Cost:  16.667397022828446\n",
      "98 Cost:  16.660061914773838\n",
      "99 Cost:  16.652850001127714\n",
      "100 Cost:  16.645757843678396\n",
      "101 Cost:  16.63878216664112\n",
      "102 Cost:  16.631919846831153\n",
      "103 Cost:  16.625167904479653\n",
      "104 Cost:  16.61852349464868\n",
      "105 Cost:  16.611983899205335\n",
      "106 Cost:  16.605546519317038\n",
      "107 Cost:  16.599208868433823\n",
      "108 Cost:  16.592968565724213\n",
      "109 Cost:  16.586823329934973\n",
      "110 Cost:  16.580770973646146\n",
      "111 Cost:  16.57480939789517\n",
      "112 Cost:  16.56893658714528\n",
      "113 Cost:  16.563150604575927\n",
      "114 Cost:  16.557449587672842\n",
      "115 Cost:  16.551831744099086\n",
      "116 Cost:  16.54629534782735\n",
      "117 Cost:  16.54083873551708\n",
      "118 Cost:  16.53546030311985\n",
      "119 Cost:  16.530158502698182\n",
      "120 Cost:  16.52493183944329\n",
      "121 Cost:  16.519778868879524\n",
      "122 Cost:  16.514698194242328\n",
      "123 Cost:  16.509688464019064\n",
      "124 Cost:  16.504748369641554\n",
      "125 Cost:  16.499876643320867\n",
      "126 Cost:  16.49507205601463\n",
      "127 Cost:  16.490333415518627\n",
      "128 Cost:  16.485659564674208\n",
      "129 Cost:  16.48104937968451\n",
      "130 Cost:  16.476501768531882\n",
      "131 Cost:  16.472015669490325\n",
      "132 Cost:  16.46759004972677\n",
      "133 Cost:  16.463223903985238\n",
      "134 Cost:  16.45891625334896\n",
      "135 Cost:  16.454666144074913\n",
      "136 Cost:  16.45047264649672\n",
      "137 Cost:  16.446334853991015\n",
      "138 Cost:  16.442251882003635\n",
      "139 Cost:  16.43822286713144\n",
      "140 Cost:  16.43424696625662\n",
      "141 Cost:  16.430323355729875\n",
      "142 Cost:  16.426451230599447\n",
      "143 Cost:  16.42262980388325\n",
      "144 Cost:  16.418858305881017\n",
      "145 Cost:  16.415135983524568\n",
      "146 Cost:  16.41146209976308\n",
      "147 Cost:  16.407835932981747\n",
      "148 Cost:  16.40425677645146\n",
      "149 Cost:  16.400723937807683\n",
      "150 Cost:  16.397236738556728\n",
      "151 Cost:  16.39379451360758\n",
      "152 Cost:  16.390396610827963\n",
      "153 Cost:  16.38704239062293\n",
      "154 Cost:  16.38373122553477\n",
      "155 Cost:  16.380462499862784\n",
      "156 Cost:  16.377235609301803\n",
      "157 Cost:  16.374049960598356\n",
      "158 Cost:  16.370904971223418\n",
      "159 Cost:  16.367800069060667\n",
      "160 Cost:  16.364734692109263\n",
      "161 Cost:  16.36170828820063\n",
      "162 Cost:  16.358720314728004\n",
      "163 Cost:  16.355770238388263\n",
      "164 Cost:  16.352857534935122\n",
      "165 Cost:  16.349981688943355\n",
      "166 Cost:  16.347142193583007\n",
      "167 Cost:  16.34433855040324\n",
      "168 Cost:  16.34157026912541\n",
      "169 Cost:  16.338836867444414\n",
      "170 Cost:  16.33613787083835\n",
      "171 Cost:  16.33347281238563\n",
      "172 Cost:  16.330841232589382\n",
      "173 Cost:  16.32824267920857\n",
      "174 Cost:  16.325676707095575\n",
      "175 Cost:  16.323142878039885\n",
      "176 Cost:  16.32064076061749\n",
      "177 Cost:  16.318169930045645\n",
      "178 Cost:  16.315729968043016\n",
      "179 Cost:  16.313320462694477\n",
      "180 Cost:  16.310941008320608\n",
      "181 Cost:  16.308591205351714\n",
      "182 Cost:  16.30627066020579\n",
      "183 Cost:  16.30397898517061\n",
      "184 Cost:  16.301715798289607\n",
      "185 Cost:  16.29948072325114\n",
      "186 Cost:  16.297273389281404\n",
      "187 Cost:  16.295093431040375\n",
      "188 Cost:  16.29294048852098\n",
      "189 Cost:  16.290814206951154\n",
      "190 Cost:  16.288714236698723\n",
      "191 Cost:  16.286640233178865\n",
      "192 Cost:  16.284591856764408\n",
      "193 Cost:  16.282568772698127\n",
      "194 Cost:  16.28057065100787\n",
      "195 Cost:  16.278597166423427\n",
      "196 Cost:  16.276647998296088\n",
      "197 Cost:  16.274722830519618\n",
      "198 Cost:  16.27282135145379\n",
      "199 Cost:  16.27094325384939\n"
     ]
    }
   ],
   "source": [
    "parameters = grad(data_train_final, 0.1, 200)"
   ]
  },
  {
   "cell_type": "code",
   "execution_count": 53,
   "metadata": {},
   "outputs": [
    {
     "data": {
      "text/plain": [
       "array([-2.36365043e+00, -4.90188254e-01, -2.31755060e-01,  4.43567164e-01,\n",
       "       -2.33805649e+00,  1.57050995e+00,  1.96632438e-01, -3.20755509e+00,\n",
       "        2.70148471e+00, -1.64604875e+00, -1.57228651e+00, -1.16889403e-02,\n",
       "       -5.68146560e+00,  8.44888100e-01,  2.29608197e-01,  2.61228819e-01,\n",
       "        4.43567164e-01, -3.97122388e-01,  1.53562322e+00,  2.69747059e-01,\n",
       "        1.11117853e+00, -7.84386981e-02,  3.21044717e-01,  7.13452880e-01,\n",
       "       -5.61344399e-01,  1.77843568e+00,  2.26094987e+01])"
      ]
     },
     "execution_count": 53,
     "metadata": {},
     "output_type": "execute_result"
    }
   ],
   "source": [
    "parameters"
   ]
  },
  {
   "cell_type": "code",
   "execution_count": 42,
   "metadata": {},
   "outputs": [],
   "source": [
    "test = np.loadtxt('0000000000002417_test_boston_x_test.csv', delimiter=',')\n",
    "df3 = pd.DataFrame(test)\n",
    "c = 14\n",
    "for i in range(13):\n",
    "    df3[c] = df3[i] * df3[i]\n",
    "    c+=1\n",
    "test2 = df3.values\n",
    "scaled_test = scaler.transform(test2)\n",
    "\n",
    "extra_c_test = np.ones((len(scaled_test),1))\n",
    "scaled_test = np.append(scaled_test, extra_c_test, axis=1)"
   ]
  },
  {
   "cell_type": "code",
   "execution_count": 63,
   "metadata": {},
   "outputs": [],
   "source": [
    "predictions = scaled_test*parameters\n",
    "answer = []\n",
    "for i in predictions:\n",
    "    answer.append(i.sum())"
   ]
  },
  {
   "cell_type": "code",
   "execution_count": 65,
   "metadata": {},
   "outputs": [],
   "source": [
    "np.savetxt('p2.csv', answer, fmt=\"%1.5f\")"
   ]
  },
  {
   "cell_type": "markdown",
   "metadata": {},
   "source": [
    "## SVM'S"
   ]
  },
  {
   "cell_type": "code",
   "execution_count": 11,
   "metadata": {},
   "outputs": [
    {
     "data": {
      "text/plain": [
       "((379, 13), (379,))"
      ]
     },
     "execution_count": 11,
     "metadata": {},
     "output_type": "execute_result"
    }
   ],
   "source": [
    "data_train = np.loadtxt('0000000000002417_training_boston_x_y_train.csv', delimiter=',')\n",
    "x_train = data_train[:,0:-1]\n",
    "y_train = data_train[:,-1]\n",
    "x_train.shape , y_train.shape"
   ]
  },
  {
   "cell_type": "code",
   "execution_count": 21,
   "metadata": {},
   "outputs": [],
   "source": [
    "from sklearn import svm\n",
    "from sklearn.model_selection import GridSearchCV"
   ]
  },
  {
   "cell_type": "code",
   "execution_count": null,
   "metadata": {},
   "outputs": [
    {
     "name": "stderr",
     "output_type": "stream",
     "text": [
      "C:\\Users\\AUS\\Anaconda3\\lib\\site-packages\\sklearn\\utils\\validation.py:760: DataConversionWarning: A column-vector y was passed when a 1d array was expected. Please change the shape of y to (n_samples, ), for example using ravel().\n",
      "  y = column_or_1d(y, warn=True)\n",
      "C:\\Users\\AUS\\Anaconda3\\lib\\site-packages\\sklearn\\utils\\validation.py:760: DataConversionWarning: A column-vector y was passed when a 1d array was expected. Please change the shape of y to (n_samples, ), for example using ravel().\n",
      "  y = column_or_1d(y, warn=True)\n",
      "C:\\Users\\AUS\\Anaconda3\\lib\\site-packages\\sklearn\\utils\\validation.py:760: DataConversionWarning: A column-vector y was passed when a 1d array was expected. Please change the shape of y to (n_samples, ), for example using ravel().\n",
      "  y = column_or_1d(y, warn=True)\n",
      "C:\\Users\\AUS\\Anaconda3\\lib\\site-packages\\sklearn\\utils\\validation.py:760: DataConversionWarning: A column-vector y was passed when a 1d array was expected. Please change the shape of y to (n_samples, ), for example using ravel().\n",
      "  y = column_or_1d(y, warn=True)\n",
      "C:\\Users\\AUS\\Anaconda3\\lib\\site-packages\\sklearn\\utils\\validation.py:760: DataConversionWarning: A column-vector y was passed when a 1d array was expected. Please change the shape of y to (n_samples, ), for example using ravel().\n",
      "  y = column_or_1d(y, warn=True)\n",
      "C:\\Users\\AUS\\Anaconda3\\lib\\site-packages\\sklearn\\utils\\validation.py:760: DataConversionWarning: A column-vector y was passed when a 1d array was expected. Please change the shape of y to (n_samples, ), for example using ravel().\n",
      "  y = column_or_1d(y, warn=True)\n",
      "C:\\Users\\AUS\\Anaconda3\\lib\\site-packages\\sklearn\\utils\\validation.py:760: DataConversionWarning: A column-vector y was passed when a 1d array was expected. Please change the shape of y to (n_samples, ), for example using ravel().\n",
      "  y = column_or_1d(y, warn=True)\n",
      "C:\\Users\\AUS\\Anaconda3\\lib\\site-packages\\sklearn\\utils\\validation.py:760: DataConversionWarning: A column-vector y was passed when a 1d array was expected. Please change the shape of y to (n_samples, ), for example using ravel().\n",
      "  y = column_or_1d(y, warn=True)\n",
      "C:\\Users\\AUS\\Anaconda3\\lib\\site-packages\\sklearn\\utils\\validation.py:760: DataConversionWarning: A column-vector y was passed when a 1d array was expected. Please change the shape of y to (n_samples, ), for example using ravel().\n",
      "  y = column_or_1d(y, warn=True)\n",
      "C:\\Users\\AUS\\Anaconda3\\lib\\site-packages\\sklearn\\utils\\validation.py:760: DataConversionWarning: A column-vector y was passed when a 1d array was expected. Please change the shape of y to (n_samples, ), for example using ravel().\n",
      "  y = column_or_1d(y, warn=True)\n",
      "C:\\Users\\AUS\\Anaconda3\\lib\\site-packages\\sklearn\\utils\\validation.py:760: DataConversionWarning: A column-vector y was passed when a 1d array was expected. Please change the shape of y to (n_samples, ), for example using ravel().\n",
      "  y = column_or_1d(y, warn=True)\n",
      "C:\\Users\\AUS\\Anaconda3\\lib\\site-packages\\sklearn\\utils\\validation.py:760: DataConversionWarning: A column-vector y was passed when a 1d array was expected. Please change the shape of y to (n_samples, ), for example using ravel().\n",
      "  y = column_or_1d(y, warn=True)\n",
      "C:\\Users\\AUS\\Anaconda3\\lib\\site-packages\\sklearn\\utils\\validation.py:760: DataConversionWarning: A column-vector y was passed when a 1d array was expected. Please change the shape of y to (n_samples, ), for example using ravel().\n",
      "  y = column_or_1d(y, warn=True)\n",
      "C:\\Users\\AUS\\Anaconda3\\lib\\site-packages\\sklearn\\utils\\validation.py:760: DataConversionWarning: A column-vector y was passed when a 1d array was expected. Please change the shape of y to (n_samples, ), for example using ravel().\n",
      "  y = column_or_1d(y, warn=True)\n",
      "C:\\Users\\AUS\\Anaconda3\\lib\\site-packages\\sklearn\\utils\\validation.py:760: DataConversionWarning: A column-vector y was passed when a 1d array was expected. Please change the shape of y to (n_samples, ), for example using ravel().\n",
      "  y = column_or_1d(y, warn=True)\n",
      "C:\\Users\\AUS\\Anaconda3\\lib\\site-packages\\sklearn\\utils\\validation.py:760: DataConversionWarning: A column-vector y was passed when a 1d array was expected. Please change the shape of y to (n_samples, ), for example using ravel().\n",
      "  y = column_or_1d(y, warn=True)\n",
      "C:\\Users\\AUS\\Anaconda3\\lib\\site-packages\\sklearn\\utils\\validation.py:760: DataConversionWarning: A column-vector y was passed when a 1d array was expected. Please change the shape of y to (n_samples, ), for example using ravel().\n",
      "  y = column_or_1d(y, warn=True)\n",
      "C:\\Users\\AUS\\Anaconda3\\lib\\site-packages\\sklearn\\utils\\validation.py:760: DataConversionWarning: A column-vector y was passed when a 1d array was expected. Please change the shape of y to (n_samples, ), for example using ravel().\n",
      "  y = column_or_1d(y, warn=True)\n",
      "C:\\Users\\AUS\\Anaconda3\\lib\\site-packages\\sklearn\\utils\\validation.py:760: DataConversionWarning: A column-vector y was passed when a 1d array was expected. Please change the shape of y to (n_samples, ), for example using ravel().\n",
      "  y = column_or_1d(y, warn=True)\n",
      "C:\\Users\\AUS\\Anaconda3\\lib\\site-packages\\sklearn\\utils\\validation.py:760: DataConversionWarning: A column-vector y was passed when a 1d array was expected. Please change the shape of y to (n_samples, ), for example using ravel().\n",
      "  y = column_or_1d(y, warn=True)\n",
      "C:\\Users\\AUS\\Anaconda3\\lib\\site-packages\\sklearn\\utils\\validation.py:760: DataConversionWarning: A column-vector y was passed when a 1d array was expected. Please change the shape of y to (n_samples, ), for example using ravel().\n",
      "  y = column_or_1d(y, warn=True)\n",
      "C:\\Users\\AUS\\Anaconda3\\lib\\site-packages\\sklearn\\utils\\validation.py:760: DataConversionWarning: A column-vector y was passed when a 1d array was expected. Please change the shape of y to (n_samples, ), for example using ravel().\n",
      "  y = column_or_1d(y, warn=True)\n",
      "C:\\Users\\AUS\\Anaconda3\\lib\\site-packages\\sklearn\\utils\\validation.py:760: DataConversionWarning: A column-vector y was passed when a 1d array was expected. Please change the shape of y to (n_samples, ), for example using ravel().\n",
      "  y = column_or_1d(y, warn=True)\n",
      "C:\\Users\\AUS\\Anaconda3\\lib\\site-packages\\sklearn\\utils\\validation.py:760: DataConversionWarning: A column-vector y was passed when a 1d array was expected. Please change the shape of y to (n_samples, ), for example using ravel().\n",
      "  y = column_or_1d(y, warn=True)\n",
      "C:\\Users\\AUS\\Anaconda3\\lib\\site-packages\\sklearn\\utils\\validation.py:760: DataConversionWarning: A column-vector y was passed when a 1d array was expected. Please change the shape of y to (n_samples, ), for example using ravel().\n",
      "  y = column_or_1d(y, warn=True)\n",
      "C:\\Users\\AUS\\Anaconda3\\lib\\site-packages\\sklearn\\utils\\validation.py:760: DataConversionWarning: A column-vector y was passed when a 1d array was expected. Please change the shape of y to (n_samples, ), for example using ravel().\n",
      "  y = column_or_1d(y, warn=True)\n",
      "C:\\Users\\AUS\\Anaconda3\\lib\\site-packages\\sklearn\\utils\\validation.py:760: DataConversionWarning: A column-vector y was passed when a 1d array was expected. Please change the shape of y to (n_samples, ), for example using ravel().\n",
      "  y = column_or_1d(y, warn=True)\n",
      "C:\\Users\\AUS\\Anaconda3\\lib\\site-packages\\sklearn\\utils\\validation.py:760: DataConversionWarning: A column-vector y was passed when a 1d array was expected. Please change the shape of y to (n_samples, ), for example using ravel().\n",
      "  y = column_or_1d(y, warn=True)\n",
      "C:\\Users\\AUS\\Anaconda3\\lib\\site-packages\\sklearn\\utils\\validation.py:760: DataConversionWarning: A column-vector y was passed when a 1d array was expected. Please change the shape of y to (n_samples, ), for example using ravel().\n",
      "  y = column_or_1d(y, warn=True)\n",
      "C:\\Users\\AUS\\Anaconda3\\lib\\site-packages\\sklearn\\utils\\validation.py:760: DataConversionWarning: A column-vector y was passed when a 1d array was expected. Please change the shape of y to (n_samples, ), for example using ravel().\n",
      "  y = column_or_1d(y, warn=True)\n",
      "C:\\Users\\AUS\\Anaconda3\\lib\\site-packages\\sklearn\\utils\\validation.py:760: DataConversionWarning: A column-vector y was passed when a 1d array was expected. Please change the shape of y to (n_samples, ), for example using ravel().\n",
      "  y = column_or_1d(y, warn=True)\n",
      "C:\\Users\\AUS\\Anaconda3\\lib\\site-packages\\sklearn\\utils\\validation.py:760: DataConversionWarning: A column-vector y was passed when a 1d array was expected. Please change the shape of y to (n_samples, ), for example using ravel().\n",
      "  y = column_or_1d(y, warn=True)\n",
      "C:\\Users\\AUS\\Anaconda3\\lib\\site-packages\\sklearn\\utils\\validation.py:760: DataConversionWarning: A column-vector y was passed when a 1d array was expected. Please change the shape of y to (n_samples, ), for example using ravel().\n",
      "  y = column_or_1d(y, warn=True)\n",
      "C:\\Users\\AUS\\Anaconda3\\lib\\site-packages\\sklearn\\utils\\validation.py:760: DataConversionWarning: A column-vector y was passed when a 1d array was expected. Please change the shape of y to (n_samples, ), for example using ravel().\n",
      "  y = column_or_1d(y, warn=True)\n",
      "C:\\Users\\AUS\\Anaconda3\\lib\\site-packages\\sklearn\\utils\\validation.py:760: DataConversionWarning: A column-vector y was passed when a 1d array was expected. Please change the shape of y to (n_samples, ), for example using ravel().\n",
      "  y = column_or_1d(y, warn=True)\n"
     ]
    },
    {
     "name": "stderr",
     "output_type": "stream",
     "text": [
      "C:\\Users\\AUS\\Anaconda3\\lib\\site-packages\\sklearn\\utils\\validation.py:760: DataConversionWarning: A column-vector y was passed when a 1d array was expected. Please change the shape of y to (n_samples, ), for example using ravel().\n",
      "  y = column_or_1d(y, warn=True)\n",
      "C:\\Users\\AUS\\Anaconda3\\lib\\site-packages\\sklearn\\utils\\validation.py:760: DataConversionWarning: A column-vector y was passed when a 1d array was expected. Please change the shape of y to (n_samples, ), for example using ravel().\n",
      "  y = column_or_1d(y, warn=True)\n",
      "C:\\Users\\AUS\\Anaconda3\\lib\\site-packages\\sklearn\\utils\\validation.py:760: DataConversionWarning: A column-vector y was passed when a 1d array was expected. Please change the shape of y to (n_samples, ), for example using ravel().\n",
      "  y = column_or_1d(y, warn=True)\n",
      "C:\\Users\\AUS\\Anaconda3\\lib\\site-packages\\sklearn\\utils\\validation.py:760: DataConversionWarning: A column-vector y was passed when a 1d array was expected. Please change the shape of y to (n_samples, ), for example using ravel().\n",
      "  y = column_or_1d(y, warn=True)\n",
      "C:\\Users\\AUS\\Anaconda3\\lib\\site-packages\\sklearn\\utils\\validation.py:760: DataConversionWarning: A column-vector y was passed when a 1d array was expected. Please change the shape of y to (n_samples, ), for example using ravel().\n",
      "  y = column_or_1d(y, warn=True)\n",
      "C:\\Users\\AUS\\Anaconda3\\lib\\site-packages\\sklearn\\utils\\validation.py:760: DataConversionWarning: A column-vector y was passed when a 1d array was expected. Please change the shape of y to (n_samples, ), for example using ravel().\n",
      "  y = column_or_1d(y, warn=True)\n",
      "C:\\Users\\AUS\\Anaconda3\\lib\\site-packages\\sklearn\\utils\\validation.py:760: DataConversionWarning: A column-vector y was passed when a 1d array was expected. Please change the shape of y to (n_samples, ), for example using ravel().\n",
      "  y = column_or_1d(y, warn=True)\n",
      "C:\\Users\\AUS\\Anaconda3\\lib\\site-packages\\sklearn\\utils\\validation.py:760: DataConversionWarning: A column-vector y was passed when a 1d array was expected. Please change the shape of y to (n_samples, ), for example using ravel().\n",
      "  y = column_or_1d(y, warn=True)\n",
      "C:\\Users\\AUS\\Anaconda3\\lib\\site-packages\\sklearn\\utils\\validation.py:760: DataConversionWarning: A column-vector y was passed when a 1d array was expected. Please change the shape of y to (n_samples, ), for example using ravel().\n",
      "  y = column_or_1d(y, warn=True)\n",
      "C:\\Users\\AUS\\Anaconda3\\lib\\site-packages\\sklearn\\utils\\validation.py:760: DataConversionWarning: A column-vector y was passed when a 1d array was expected. Please change the shape of y to (n_samples, ), for example using ravel().\n",
      "  y = column_or_1d(y, warn=True)\n",
      "C:\\Users\\AUS\\Anaconda3\\lib\\site-packages\\sklearn\\utils\\validation.py:760: DataConversionWarning: A column-vector y was passed when a 1d array was expected. Please change the shape of y to (n_samples, ), for example using ravel().\n",
      "  y = column_or_1d(y, warn=True)\n",
      "C:\\Users\\AUS\\Anaconda3\\lib\\site-packages\\sklearn\\utils\\validation.py:760: DataConversionWarning: A column-vector y was passed when a 1d array was expected. Please change the shape of y to (n_samples, ), for example using ravel().\n",
      "  y = column_or_1d(y, warn=True)\n",
      "C:\\Users\\AUS\\Anaconda3\\lib\\site-packages\\sklearn\\utils\\validation.py:760: DataConversionWarning: A column-vector y was passed when a 1d array was expected. Please change the shape of y to (n_samples, ), for example using ravel().\n",
      "  y = column_or_1d(y, warn=True)\n",
      "C:\\Users\\AUS\\Anaconda3\\lib\\site-packages\\sklearn\\utils\\validation.py:760: DataConversionWarning: A column-vector y was passed when a 1d array was expected. Please change the shape of y to (n_samples, ), for example using ravel().\n",
      "  y = column_or_1d(y, warn=True)\n",
      "C:\\Users\\AUS\\Anaconda3\\lib\\site-packages\\sklearn\\utils\\validation.py:760: DataConversionWarning: A column-vector y was passed when a 1d array was expected. Please change the shape of y to (n_samples, ), for example using ravel().\n",
      "  y = column_or_1d(y, warn=True)\n",
      "C:\\Users\\AUS\\Anaconda3\\lib\\site-packages\\sklearn\\utils\\validation.py:760: DataConversionWarning: A column-vector y was passed when a 1d array was expected. Please change the shape of y to (n_samples, ), for example using ravel().\n",
      "  y = column_or_1d(y, warn=True)\n",
      "C:\\Users\\AUS\\Anaconda3\\lib\\site-packages\\sklearn\\utils\\validation.py:760: DataConversionWarning: A column-vector y was passed when a 1d array was expected. Please change the shape of y to (n_samples, ), for example using ravel().\n",
      "  y = column_or_1d(y, warn=True)\n",
      "C:\\Users\\AUS\\Anaconda3\\lib\\site-packages\\sklearn\\utils\\validation.py:760: DataConversionWarning: A column-vector y was passed when a 1d array was expected. Please change the shape of y to (n_samples, ), for example using ravel().\n",
      "  y = column_or_1d(y, warn=True)\n",
      "C:\\Users\\AUS\\Anaconda3\\lib\\site-packages\\sklearn\\utils\\validation.py:760: DataConversionWarning: A column-vector y was passed when a 1d array was expected. Please change the shape of y to (n_samples, ), for example using ravel().\n",
      "  y = column_or_1d(y, warn=True)\n",
      "C:\\Users\\AUS\\Anaconda3\\lib\\site-packages\\sklearn\\utils\\validation.py:760: DataConversionWarning: A column-vector y was passed when a 1d array was expected. Please change the shape of y to (n_samples, ), for example using ravel().\n",
      "  y = column_or_1d(y, warn=True)\n",
      "C:\\Users\\AUS\\Anaconda3\\lib\\site-packages\\sklearn\\utils\\validation.py:760: DataConversionWarning: A column-vector y was passed when a 1d array was expected. Please change the shape of y to (n_samples, ), for example using ravel().\n",
      "  y = column_or_1d(y, warn=True)\n",
      "C:\\Users\\AUS\\Anaconda3\\lib\\site-packages\\sklearn\\utils\\validation.py:760: DataConversionWarning: A column-vector y was passed when a 1d array was expected. Please change the shape of y to (n_samples, ), for example using ravel().\n",
      "  y = column_or_1d(y, warn=True)\n",
      "C:\\Users\\AUS\\Anaconda3\\lib\\site-packages\\sklearn\\utils\\validation.py:760: DataConversionWarning: A column-vector y was passed when a 1d array was expected. Please change the shape of y to (n_samples, ), for example using ravel().\n",
      "  y = column_or_1d(y, warn=True)\n",
      "C:\\Users\\AUS\\Anaconda3\\lib\\site-packages\\sklearn\\utils\\validation.py:760: DataConversionWarning: A column-vector y was passed when a 1d array was expected. Please change the shape of y to (n_samples, ), for example using ravel().\n",
      "  y = column_or_1d(y, warn=True)\n",
      "C:\\Users\\AUS\\Anaconda3\\lib\\site-packages\\sklearn\\utils\\validation.py:760: DataConversionWarning: A column-vector y was passed when a 1d array was expected. Please change the shape of y to (n_samples, ), for example using ravel().\n",
      "  y = column_or_1d(y, warn=True)\n",
      "C:\\Users\\AUS\\Anaconda3\\lib\\site-packages\\sklearn\\utils\\validation.py:760: DataConversionWarning: A column-vector y was passed when a 1d array was expected. Please change the shape of y to (n_samples, ), for example using ravel().\n",
      "  y = column_or_1d(y, warn=True)\n",
      "C:\\Users\\AUS\\Anaconda3\\lib\\site-packages\\sklearn\\utils\\validation.py:760: DataConversionWarning: A column-vector y was passed when a 1d array was expected. Please change the shape of y to (n_samples, ), for example using ravel().\n",
      "  y = column_or_1d(y, warn=True)\n",
      "C:\\Users\\AUS\\Anaconda3\\lib\\site-packages\\sklearn\\utils\\validation.py:760: DataConversionWarning: A column-vector y was passed when a 1d array was expected. Please change the shape of y to (n_samples, ), for example using ravel().\n",
      "  y = column_or_1d(y, warn=True)\n",
      "C:\\Users\\AUS\\Anaconda3\\lib\\site-packages\\sklearn\\utils\\validation.py:760: DataConversionWarning: A column-vector y was passed when a 1d array was expected. Please change the shape of y to (n_samples, ), for example using ravel().\n",
      "  y = column_or_1d(y, warn=True)\n",
      "C:\\Users\\AUS\\Anaconda3\\lib\\site-packages\\sklearn\\utils\\validation.py:760: DataConversionWarning: A column-vector y was passed when a 1d array was expected. Please change the shape of y to (n_samples, ), for example using ravel().\n",
      "  y = column_or_1d(y, warn=True)\n",
      "C:\\Users\\AUS\\Anaconda3\\lib\\site-packages\\sklearn\\utils\\validation.py:760: DataConversionWarning: A column-vector y was passed when a 1d array was expected. Please change the shape of y to (n_samples, ), for example using ravel().\n",
      "  y = column_or_1d(y, warn=True)\n",
      "C:\\Users\\AUS\\Anaconda3\\lib\\site-packages\\sklearn\\utils\\validation.py:760: DataConversionWarning: A column-vector y was passed when a 1d array was expected. Please change the shape of y to (n_samples, ), for example using ravel().\n",
      "  y = column_or_1d(y, warn=True)\n"
     ]
    },
    {
     "name": "stderr",
     "output_type": "stream",
     "text": [
      "C:\\Users\\AUS\\Anaconda3\\lib\\site-packages\\sklearn\\utils\\validation.py:760: DataConversionWarning: A column-vector y was passed when a 1d array was expected. Please change the shape of y to (n_samples, ), for example using ravel().\n",
      "  y = column_or_1d(y, warn=True)\n",
      "C:\\Users\\AUS\\Anaconda3\\lib\\site-packages\\sklearn\\utils\\validation.py:760: DataConversionWarning: A column-vector y was passed when a 1d array was expected. Please change the shape of y to (n_samples, ), for example using ravel().\n",
      "  y = column_or_1d(y, warn=True)\n",
      "C:\\Users\\AUS\\Anaconda3\\lib\\site-packages\\sklearn\\utils\\validation.py:760: DataConversionWarning: A column-vector y was passed when a 1d array was expected. Please change the shape of y to (n_samples, ), for example using ravel().\n",
      "  y = column_or_1d(y, warn=True)\n",
      "C:\\Users\\AUS\\Anaconda3\\lib\\site-packages\\sklearn\\utils\\validation.py:760: DataConversionWarning: A column-vector y was passed when a 1d array was expected. Please change the shape of y to (n_samples, ), for example using ravel().\n",
      "  y = column_or_1d(y, warn=True)\n",
      "C:\\Users\\AUS\\Anaconda3\\lib\\site-packages\\sklearn\\utils\\validation.py:760: DataConversionWarning: A column-vector y was passed when a 1d array was expected. Please change the shape of y to (n_samples, ), for example using ravel().\n",
      "  y = column_or_1d(y, warn=True)\n",
      "C:\\Users\\AUS\\Anaconda3\\lib\\site-packages\\sklearn\\utils\\validation.py:760: DataConversionWarning: A column-vector y was passed when a 1d array was expected. Please change the shape of y to (n_samples, ), for example using ravel().\n",
      "  y = column_or_1d(y, warn=True)\n",
      "C:\\Users\\AUS\\Anaconda3\\lib\\site-packages\\sklearn\\utils\\validation.py:760: DataConversionWarning: A column-vector y was passed when a 1d array was expected. Please change the shape of y to (n_samples, ), for example using ravel().\n",
      "  y = column_or_1d(y, warn=True)\n",
      "C:\\Users\\AUS\\Anaconda3\\lib\\site-packages\\sklearn\\utils\\validation.py:760: DataConversionWarning: A column-vector y was passed when a 1d array was expected. Please change the shape of y to (n_samples, ), for example using ravel().\n",
      "  y = column_or_1d(y, warn=True)\n",
      "C:\\Users\\AUS\\Anaconda3\\lib\\site-packages\\sklearn\\utils\\validation.py:760: DataConversionWarning: A column-vector y was passed when a 1d array was expected. Please change the shape of y to (n_samples, ), for example using ravel().\n",
      "  y = column_or_1d(y, warn=True)\n",
      "C:\\Users\\AUS\\Anaconda3\\lib\\site-packages\\sklearn\\utils\\validation.py:760: DataConversionWarning: A column-vector y was passed when a 1d array was expected. Please change the shape of y to (n_samples, ), for example using ravel().\n",
      "  y = column_or_1d(y, warn=True)\n",
      "C:\\Users\\AUS\\Anaconda3\\lib\\site-packages\\sklearn\\utils\\validation.py:760: DataConversionWarning: A column-vector y was passed when a 1d array was expected. Please change the shape of y to (n_samples, ), for example using ravel().\n",
      "  y = column_or_1d(y, warn=True)\n",
      "C:\\Users\\AUS\\Anaconda3\\lib\\site-packages\\sklearn\\utils\\validation.py:760: DataConversionWarning: A column-vector y was passed when a 1d array was expected. Please change the shape of y to (n_samples, ), for example using ravel().\n",
      "  y = column_or_1d(y, warn=True)\n",
      "C:\\Users\\AUS\\Anaconda3\\lib\\site-packages\\sklearn\\utils\\validation.py:760: DataConversionWarning: A column-vector y was passed when a 1d array was expected. Please change the shape of y to (n_samples, ), for example using ravel().\n",
      "  y = column_or_1d(y, warn=True)\n",
      "C:\\Users\\AUS\\Anaconda3\\lib\\site-packages\\sklearn\\utils\\validation.py:760: DataConversionWarning: A column-vector y was passed when a 1d array was expected. Please change the shape of y to (n_samples, ), for example using ravel().\n",
      "  y = column_or_1d(y, warn=True)\n",
      "C:\\Users\\AUS\\Anaconda3\\lib\\site-packages\\sklearn\\utils\\validation.py:760: DataConversionWarning: A column-vector y was passed when a 1d array was expected. Please change the shape of y to (n_samples, ), for example using ravel().\n",
      "  y = column_or_1d(y, warn=True)\n",
      "C:\\Users\\AUS\\Anaconda3\\lib\\site-packages\\sklearn\\utils\\validation.py:760: DataConversionWarning: A column-vector y was passed when a 1d array was expected. Please change the shape of y to (n_samples, ), for example using ravel().\n",
      "  y = column_or_1d(y, warn=True)\n",
      "C:\\Users\\AUS\\Anaconda3\\lib\\site-packages\\sklearn\\utils\\validation.py:760: DataConversionWarning: A column-vector y was passed when a 1d array was expected. Please change the shape of y to (n_samples, ), for example using ravel().\n",
      "  y = column_or_1d(y, warn=True)\n",
      "C:\\Users\\AUS\\Anaconda3\\lib\\site-packages\\sklearn\\utils\\validation.py:760: DataConversionWarning: A column-vector y was passed when a 1d array was expected. Please change the shape of y to (n_samples, ), for example using ravel().\n",
      "  y = column_or_1d(y, warn=True)\n",
      "C:\\Users\\AUS\\Anaconda3\\lib\\site-packages\\sklearn\\utils\\validation.py:760: DataConversionWarning: A column-vector y was passed when a 1d array was expected. Please change the shape of y to (n_samples, ), for example using ravel().\n",
      "  y = column_or_1d(y, warn=True)\n",
      "C:\\Users\\AUS\\Anaconda3\\lib\\site-packages\\sklearn\\utils\\validation.py:760: DataConversionWarning: A column-vector y was passed when a 1d array was expected. Please change the shape of y to (n_samples, ), for example using ravel().\n",
      "  y = column_or_1d(y, warn=True)\n",
      "C:\\Users\\AUS\\Anaconda3\\lib\\site-packages\\sklearn\\utils\\validation.py:760: DataConversionWarning: A column-vector y was passed when a 1d array was expected. Please change the shape of y to (n_samples, ), for example using ravel().\n",
      "  y = column_or_1d(y, warn=True)\n",
      "C:\\Users\\AUS\\Anaconda3\\lib\\site-packages\\sklearn\\utils\\validation.py:760: DataConversionWarning: A column-vector y was passed when a 1d array was expected. Please change the shape of y to (n_samples, ), for example using ravel().\n",
      "  y = column_or_1d(y, warn=True)\n",
      "C:\\Users\\AUS\\Anaconda3\\lib\\site-packages\\sklearn\\utils\\validation.py:760: DataConversionWarning: A column-vector y was passed when a 1d array was expected. Please change the shape of y to (n_samples, ), for example using ravel().\n",
      "  y = column_or_1d(y, warn=True)\n",
      "C:\\Users\\AUS\\Anaconda3\\lib\\site-packages\\sklearn\\utils\\validation.py:760: DataConversionWarning: A column-vector y was passed when a 1d array was expected. Please change the shape of y to (n_samples, ), for example using ravel().\n",
      "  y = column_or_1d(y, warn=True)\n",
      "C:\\Users\\AUS\\Anaconda3\\lib\\site-packages\\sklearn\\utils\\validation.py:760: DataConversionWarning: A column-vector y was passed when a 1d array was expected. Please change the shape of y to (n_samples, ), for example using ravel().\n",
      "  y = column_or_1d(y, warn=True)\n",
      "C:\\Users\\AUS\\Anaconda3\\lib\\site-packages\\sklearn\\utils\\validation.py:760: DataConversionWarning: A column-vector y was passed when a 1d array was expected. Please change the shape of y to (n_samples, ), for example using ravel().\n",
      "  y = column_or_1d(y, warn=True)\n",
      "C:\\Users\\AUS\\Anaconda3\\lib\\site-packages\\sklearn\\utils\\validation.py:760: DataConversionWarning: A column-vector y was passed when a 1d array was expected. Please change the shape of y to (n_samples, ), for example using ravel().\n",
      "  y = column_or_1d(y, warn=True)\n",
      "C:\\Users\\AUS\\Anaconda3\\lib\\site-packages\\sklearn\\utils\\validation.py:760: DataConversionWarning: A column-vector y was passed when a 1d array was expected. Please change the shape of y to (n_samples, ), for example using ravel().\n",
      "  y = column_or_1d(y, warn=True)\n",
      "C:\\Users\\AUS\\Anaconda3\\lib\\site-packages\\sklearn\\utils\\validation.py:760: DataConversionWarning: A column-vector y was passed when a 1d array was expected. Please change the shape of y to (n_samples, ), for example using ravel().\n",
      "  y = column_or_1d(y, warn=True)\n",
      "C:\\Users\\AUS\\Anaconda3\\lib\\site-packages\\sklearn\\utils\\validation.py:760: DataConversionWarning: A column-vector y was passed when a 1d array was expected. Please change the shape of y to (n_samples, ), for example using ravel().\n",
      "  y = column_or_1d(y, warn=True)\n",
      "C:\\Users\\AUS\\Anaconda3\\lib\\site-packages\\sklearn\\utils\\validation.py:760: DataConversionWarning: A column-vector y was passed when a 1d array was expected. Please change the shape of y to (n_samples, ), for example using ravel().\n",
      "  y = column_or_1d(y, warn=True)\n",
      "C:\\Users\\AUS\\Anaconda3\\lib\\site-packages\\sklearn\\utils\\validation.py:760: DataConversionWarning: A column-vector y was passed when a 1d array was expected. Please change the shape of y to (n_samples, ), for example using ravel().\n",
      "  y = column_or_1d(y, warn=True)\n"
     ]
    },
    {
     "name": "stderr",
     "output_type": "stream",
     "text": [
      "C:\\Users\\AUS\\Anaconda3\\lib\\site-packages\\sklearn\\utils\\validation.py:760: DataConversionWarning: A column-vector y was passed when a 1d array was expected. Please change the shape of y to (n_samples, ), for example using ravel().\n",
      "  y = column_or_1d(y, warn=True)\n",
      "C:\\Users\\AUS\\Anaconda3\\lib\\site-packages\\sklearn\\utils\\validation.py:760: DataConversionWarning: A column-vector y was passed when a 1d array was expected. Please change the shape of y to (n_samples, ), for example using ravel().\n",
      "  y = column_or_1d(y, warn=True)\n",
      "C:\\Users\\AUS\\Anaconda3\\lib\\site-packages\\sklearn\\utils\\validation.py:760: DataConversionWarning: A column-vector y was passed when a 1d array was expected. Please change the shape of y to (n_samples, ), for example using ravel().\n",
      "  y = column_or_1d(y, warn=True)\n",
      "C:\\Users\\AUS\\Anaconda3\\lib\\site-packages\\sklearn\\utils\\validation.py:760: DataConversionWarning: A column-vector y was passed when a 1d array was expected. Please change the shape of y to (n_samples, ), for example using ravel().\n",
      "  y = column_or_1d(y, warn=True)\n",
      "C:\\Users\\AUS\\Anaconda3\\lib\\site-packages\\sklearn\\utils\\validation.py:760: DataConversionWarning: A column-vector y was passed when a 1d array was expected. Please change the shape of y to (n_samples, ), for example using ravel().\n",
      "  y = column_or_1d(y, warn=True)\n",
      "C:\\Users\\AUS\\Anaconda3\\lib\\site-packages\\sklearn\\utils\\validation.py:760: DataConversionWarning: A column-vector y was passed when a 1d array was expected. Please change the shape of y to (n_samples, ), for example using ravel().\n",
      "  y = column_or_1d(y, warn=True)\n",
      "C:\\Users\\AUS\\Anaconda3\\lib\\site-packages\\sklearn\\utils\\validation.py:760: DataConversionWarning: A column-vector y was passed when a 1d array was expected. Please change the shape of y to (n_samples, ), for example using ravel().\n",
      "  y = column_or_1d(y, warn=True)\n",
      "C:\\Users\\AUS\\Anaconda3\\lib\\site-packages\\sklearn\\utils\\validation.py:760: DataConversionWarning: A column-vector y was passed when a 1d array was expected. Please change the shape of y to (n_samples, ), for example using ravel().\n",
      "  y = column_or_1d(y, warn=True)\n",
      "C:\\Users\\AUS\\Anaconda3\\lib\\site-packages\\sklearn\\utils\\validation.py:760: DataConversionWarning: A column-vector y was passed when a 1d array was expected. Please change the shape of y to (n_samples, ), for example using ravel().\n",
      "  y = column_or_1d(y, warn=True)\n",
      "C:\\Users\\AUS\\Anaconda3\\lib\\site-packages\\sklearn\\utils\\validation.py:760: DataConversionWarning: A column-vector y was passed when a 1d array was expected. Please change the shape of y to (n_samples, ), for example using ravel().\n",
      "  y = column_or_1d(y, warn=True)\n",
      "C:\\Users\\AUS\\Anaconda3\\lib\\site-packages\\sklearn\\utils\\validation.py:760: DataConversionWarning: A column-vector y was passed when a 1d array was expected. Please change the shape of y to (n_samples, ), for example using ravel().\n",
      "  y = column_or_1d(y, warn=True)\n",
      "C:\\Users\\AUS\\Anaconda3\\lib\\site-packages\\sklearn\\utils\\validation.py:760: DataConversionWarning: A column-vector y was passed when a 1d array was expected. Please change the shape of y to (n_samples, ), for example using ravel().\n",
      "  y = column_or_1d(y, warn=True)\n",
      "C:\\Users\\AUS\\Anaconda3\\lib\\site-packages\\sklearn\\utils\\validation.py:760: DataConversionWarning: A column-vector y was passed when a 1d array was expected. Please change the shape of y to (n_samples, ), for example using ravel().\n",
      "  y = column_or_1d(y, warn=True)\n",
      "C:\\Users\\AUS\\Anaconda3\\lib\\site-packages\\sklearn\\utils\\validation.py:760: DataConversionWarning: A column-vector y was passed when a 1d array was expected. Please change the shape of y to (n_samples, ), for example using ravel().\n",
      "  y = column_or_1d(y, warn=True)\n",
      "C:\\Users\\AUS\\Anaconda3\\lib\\site-packages\\sklearn\\utils\\validation.py:760: DataConversionWarning: A column-vector y was passed when a 1d array was expected. Please change the shape of y to (n_samples, ), for example using ravel().\n",
      "  y = column_or_1d(y, warn=True)\n",
      "C:\\Users\\AUS\\Anaconda3\\lib\\site-packages\\sklearn\\utils\\validation.py:760: DataConversionWarning: A column-vector y was passed when a 1d array was expected. Please change the shape of y to (n_samples, ), for example using ravel().\n",
      "  y = column_or_1d(y, warn=True)\n",
      "C:\\Users\\AUS\\Anaconda3\\lib\\site-packages\\sklearn\\utils\\validation.py:760: DataConversionWarning: A column-vector y was passed when a 1d array was expected. Please change the shape of y to (n_samples, ), for example using ravel().\n",
      "  y = column_or_1d(y, warn=True)\n",
      "C:\\Users\\AUS\\Anaconda3\\lib\\site-packages\\sklearn\\utils\\validation.py:760: DataConversionWarning: A column-vector y was passed when a 1d array was expected. Please change the shape of y to (n_samples, ), for example using ravel().\n",
      "  y = column_or_1d(y, warn=True)\n"
     ]
    }
   ],
   "source": [
    "clf = svm.SVR()\n",
    "grid = {'C': [1e2, 1e3, 5e3, 1e4, 5e4, 1e5],\n",
    "       'gamma': [1e-3, 5e-4, 1e-4, 5e-3]}\n",
    "abc = GridSearchCV(clf, grid)\n",
    "abc.fit(train, y_train)\n",
    "abc.best_estimator_"
   ]
  },
  {
   "cell_type": "code",
   "execution_count": null,
   "metadata": {},
   "outputs": [],
   "source": [
    "abc.score(train, y_train)"
   ]
  },
  {
   "cell_type": "code",
   "execution_count": 28,
   "metadata": {},
   "outputs": [],
   "source": [
    "test = np.loadtxt('0000000000002417_test_boston_x_test.csv', delimiter=',')\n",
    "y_pred_svm_extra_f = abc.predict(test)\n",
    "np.savetxt('p4.csv', y_pred_svm_extra_f , fmt=\"%1.5f\")"
   ]
  }
 ],
 "metadata": {
  "kernelspec": {
   "display_name": "Python 3",
   "language": "python",
   "name": "python3"
  },
  "language_info": {
   "codemirror_mode": {
    "name": "ipython",
    "version": 3
   },
   "file_extension": ".py",
   "mimetype": "text/x-python",
   "name": "python",
   "nbconvert_exporter": "python",
   "pygments_lexer": "ipython3",
   "version": "3.8.5"
  }
 },
 "nbformat": 4,
 "nbformat_minor": 4
}
