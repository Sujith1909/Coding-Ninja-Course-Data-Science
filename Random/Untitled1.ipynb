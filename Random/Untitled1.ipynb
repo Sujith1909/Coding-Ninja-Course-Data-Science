{
 "cells": [
  {
   "cell_type": "code",
   "execution_count": 2,
   "metadata": {},
   "outputs": [
    {
     "name": "stdout",
     "output_type": "stream",
     "text": [
      "Explosives 92426\n",
      "Firearms 58524\n",
      "Incendiary 11135\n",
      "Melee 3655\n",
      "Chemical 321\n"
     ]
    },
    {
     "data": {
      "text/plain": [
       "<BarContainer object of 5 artists>"
      ]
     },
     "execution_count": 2,
     "metadata": {},
     "output_type": "execute_result"
    },
    {
     "data": {
      "image/png": "[encoded data removed]",
      "text/plain": [
       "<Figure size 432x288 with 1 Axes>"
      ]
     },
     "metadata": {
      "needs_background": "light"
     },
     "output_type": "display_data"
    }
   ],
   "source": [
    "import pandas as pd\n",
    "import matplotlib.pyplot as plt\n",
    "df = pd.read_csv('terrorismData.csv')\n",
    "dict2 = {}\n",
    "for i in range(df.shape[0]):\n",
    "    dict2[df['Weapon_type'][i]]=dict2.get(df['Weapon_type'][i],0)+1\n",
    "ans = sorted(dict2.items(), key=lambda x: x[1],reverse = True)\n",
    "x = []\n",
    "y = []\n",
    "for i in range(6):\n",
    "    if ans[i][0] == 'Unknown':\n",
    "        continue\n",
    "    print(ans[i][0],ans[i][1])\n",
    "    x.append(ans[i][0])\n",
    "    y.append(ans[i][1])\n",
    "plt.bar(x,y,edgecolor='Black')"
   ]
  },
  {
   "cell_type": "code",
   "execution_count": null,
   "metadata": {},
   "outputs": [],
   "source": []
  }
 ],
 "metadata": {
  "kernelspec": {
   "display_name": "Python 3",
   "language": "python",
   "name": "python3"
  },
  "language_info": {
   "codemirror_mode": {
    "name": "ipython",
    "version": 3
   },
   "file_extension": ".py",
   "mimetype": "text/x-python",
   "name": "python",
   "nbconvert_exporter": "python",
   "pygments_lexer": "ipython3",
   "version": "3.8.5"
  }
 },
 "nbformat": 4,
 "nbformat_minor": 4
}
